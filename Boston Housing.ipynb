{
 "cells": [
  {
   "cell_type": "code",
   "execution_count": 1,
   "metadata": {},
   "outputs": [
    {
     "data": {
      "text/html": [
       "        <script type=\"text/javascript\">\n",
       "        window.PlotlyConfig = {MathJaxConfig: 'local'};\n",
       "        if (window.MathJax) {MathJax.Hub.Config({SVG: {font: \"STIX-Web\"}});}\n",
       "        if (typeof require !== 'undefined') {\n",
       "        require.undef(\"plotly\");\n",
       "        requirejs.config({\n",
       "            paths: {\n",
       "                'plotly': ['https://cdn.plot.ly/plotly-latest.min']\n",
       "            }\n",
       "        });\n",
       "        require(['plotly'], function(Plotly) {\n",
       "            window._Plotly = Plotly;\n",
       "        });\n",
       "        }\n",
       "        </script>\n",
       "        "
      ]
     },
     "metadata": {},
     "output_type": "display_data"
    },
    {
     "data": {
      "text/html": [
       "        <script type=\"text/javascript\">\n",
       "        window.PlotlyConfig = {MathJaxConfig: 'local'};\n",
       "        if (window.MathJax) {MathJax.Hub.Config({SVG: {font: \"STIX-Web\"}});}\n",
       "        if (typeof require !== 'undefined') {\n",
       "        require.undef(\"plotly\");\n",
       "        requirejs.config({\n",
       "            paths: {\n",
       "                'plotly': ['https://cdn.plot.ly/plotly-latest.min']\n",
       "            }\n",
       "        });\n",
       "        require(['plotly'], function(Plotly) {\n",
       "            window._Plotly = Plotly;\n",
       "        });\n",
       "        }\n",
       "        </script>\n",
       "        "
      ]
     },
     "metadata": {},
     "output_type": "display_data"
    }
   ],
   "source": [
    "import numpy as np\n",
    "import pandas as pd\n",
    "\n",
    "import matplotlib.pyplot as plt\n",
    "from matplotlib.animation import FuncAnimation\n",
    "import matplotlib.animation as manimation\n",
    "%matplotlib inline\n",
    "from IPython.display import HTML\n",
    "\n",
    "from sklearn.model_selection import train_test_split\n",
    "from sklearn import metrics\n",
    "from sklearn.linear_model import LinearRegression\n",
    "from sklearn.preprocessing import MinMaxScaler\n",
    "from sklearn.metrics import mean_squared_error\n",
    "\n",
    "import cufflinks as cf\n",
    "from plotly.offline import download_plotlyjs,init_notebook_mode,plot,iplot\n",
    "init_notebook_mode(connected=True)\n",
    "cf.go_offline()"
   ]
  },
  {
   "cell_type": "code",
   "execution_count": 2,
   "metadata": {},
   "outputs": [],
   "source": [
    "from sklearn.datasets import load_boston"
   ]
  },
  {
   "cell_type": "code",
   "execution_count": 3,
   "metadata": {},
   "outputs": [],
   "source": [
    "boston = load_boston()"
   ]
  },
  {
   "cell_type": "code",
   "execution_count": 4,
   "metadata": {},
   "outputs": [
    {
     "data": {
      "text/plain": [
       "{'data': array([[6.3200e-03, 1.8000e+01, 2.3100e+00, ..., 1.5300e+01, 3.9690e+02,\n",
       "         4.9800e+00],\n",
       "        [2.7310e-02, 0.0000e+00, 7.0700e+00, ..., 1.7800e+01, 3.9690e+02,\n",
       "         9.1400e+00],\n",
       "        [2.7290e-02, 0.0000e+00, 7.0700e+00, ..., 1.7800e+01, 3.9283e+02,\n",
       "         4.0300e+00],\n",
       "        ...,\n",
       "        [6.0760e-02, 0.0000e+00, 1.1930e+01, ..., 2.1000e+01, 3.9690e+02,\n",
       "         5.6400e+00],\n",
       "        [1.0959e-01, 0.0000e+00, 1.1930e+01, ..., 2.1000e+01, 3.9345e+02,\n",
       "         6.4800e+00],\n",
       "        [4.7410e-02, 0.0000e+00, 1.1930e+01, ..., 2.1000e+01, 3.9690e+02,\n",
       "         7.8800e+00]]),\n",
       " 'target': array([24. , 21.6, 34.7, 33.4, 36.2, 28.7, 22.9, 27.1, 16.5, 18.9, 15. ,\n",
       "        18.9, 21.7, 20.4, 18.2, 19.9, 23.1, 17.5, 20.2, 18.2, 13.6, 19.6,\n",
       "        15.2, 14.5, 15.6, 13.9, 16.6, 14.8, 18.4, 21. , 12.7, 14.5, 13.2,\n",
       "        13.1, 13.5, 18.9, 20. , 21. , 24.7, 30.8, 34.9, 26.6, 25.3, 24.7,\n",
       "        21.2, 19.3, 20. , 16.6, 14.4, 19.4, 19.7, 20.5, 25. , 23.4, 18.9,\n",
       "        35.4, 24.7, 31.6, 23.3, 19.6, 18.7, 16. , 22.2, 25. , 33. , 23.5,\n",
       "        19.4, 22. , 17.4, 20.9, 24.2, 21.7, 22.8, 23.4, 24.1, 21.4, 20. ,\n",
       "        20.8, 21.2, 20.3, 28. , 23.9, 24.8, 22.9, 23.9, 26.6, 22.5, 22.2,\n",
       "        23.6, 28.7, 22.6, 22. , 22.9, 25. , 20.6, 28.4, 21.4, 38.7, 43.8,\n",
       "        33.2, 27.5, 26.5, 18.6, 19.3, 20.1, 19.5, 19.5, 20.4, 19.8, 19.4,\n",
       "        21.7, 22.8, 18.8, 18.7, 18.5, 18.3, 21.2, 19.2, 20.4, 19.3, 22. ,\n",
       "        20.3, 20.5, 17.3, 18.8, 21.4, 15.7, 16.2, 18. , 14.3, 19.2, 19.6,\n",
       "        23. , 18.4, 15.6, 18.1, 17.4, 17.1, 13.3, 17.8, 14. , 14.4, 13.4,\n",
       "        15.6, 11.8, 13.8, 15.6, 14.6, 17.8, 15.4, 21.5, 19.6, 15.3, 19.4,\n",
       "        17. , 15.6, 13.1, 41.3, 24.3, 23.3, 27. , 50. , 50. , 50. , 22.7,\n",
       "        25. , 50. , 23.8, 23.8, 22.3, 17.4, 19.1, 23.1, 23.6, 22.6, 29.4,\n",
       "        23.2, 24.6, 29.9, 37.2, 39.8, 36.2, 37.9, 32.5, 26.4, 29.6, 50. ,\n",
       "        32. , 29.8, 34.9, 37. , 30.5, 36.4, 31.1, 29.1, 50. , 33.3, 30.3,\n",
       "        34.6, 34.9, 32.9, 24.1, 42.3, 48.5, 50. , 22.6, 24.4, 22.5, 24.4,\n",
       "        20. , 21.7, 19.3, 22.4, 28.1, 23.7, 25. , 23.3, 28.7, 21.5, 23. ,\n",
       "        26.7, 21.7, 27.5, 30.1, 44.8, 50. , 37.6, 31.6, 46.7, 31.5, 24.3,\n",
       "        31.7, 41.7, 48.3, 29. , 24. , 25.1, 31.5, 23.7, 23.3, 22. , 20.1,\n",
       "        22.2, 23.7, 17.6, 18.5, 24.3, 20.5, 24.5, 26.2, 24.4, 24.8, 29.6,\n",
       "        42.8, 21.9, 20.9, 44. , 50. , 36. , 30.1, 33.8, 43.1, 48.8, 31. ,\n",
       "        36.5, 22.8, 30.7, 50. , 43.5, 20.7, 21.1, 25.2, 24.4, 35.2, 32.4,\n",
       "        32. , 33.2, 33.1, 29.1, 35.1, 45.4, 35.4, 46. , 50. , 32.2, 22. ,\n",
       "        20.1, 23.2, 22.3, 24.8, 28.5, 37.3, 27.9, 23.9, 21.7, 28.6, 27.1,\n",
       "        20.3, 22.5, 29. , 24.8, 22. , 26.4, 33.1, 36.1, 28.4, 33.4, 28.2,\n",
       "        22.8, 20.3, 16.1, 22.1, 19.4, 21.6, 23.8, 16.2, 17.8, 19.8, 23.1,\n",
       "        21. , 23.8, 23.1, 20.4, 18.5, 25. , 24.6, 23. , 22.2, 19.3, 22.6,\n",
       "        19.8, 17.1, 19.4, 22.2, 20.7, 21.1, 19.5, 18.5, 20.6, 19. , 18.7,\n",
       "        32.7, 16.5, 23.9, 31.2, 17.5, 17.2, 23.1, 24.5, 26.6, 22.9, 24.1,\n",
       "        18.6, 30.1, 18.2, 20.6, 17.8, 21.7, 22.7, 22.6, 25. , 19.9, 20.8,\n",
       "        16.8, 21.9, 27.5, 21.9, 23.1, 50. , 50. , 50. , 50. , 50. , 13.8,\n",
       "        13.8, 15. , 13.9, 13.3, 13.1, 10.2, 10.4, 10.9, 11.3, 12.3,  8.8,\n",
       "         7.2, 10.5,  7.4, 10.2, 11.5, 15.1, 23.2,  9.7, 13.8, 12.7, 13.1,\n",
       "        12.5,  8.5,  5. ,  6.3,  5.6,  7.2, 12.1,  8.3,  8.5,  5. , 11.9,\n",
       "        27.9, 17.2, 27.5, 15. , 17.2, 17.9, 16.3,  7. ,  7.2,  7.5, 10.4,\n",
       "         8.8,  8.4, 16.7, 14.2, 20.8, 13.4, 11.7,  8.3, 10.2, 10.9, 11. ,\n",
       "         9.5, 14.5, 14.1, 16.1, 14.3, 11.7, 13.4,  9.6,  8.7,  8.4, 12.8,\n",
       "        10.5, 17.1, 18.4, 15.4, 10.8, 11.8, 14.9, 12.6, 14.1, 13. , 13.4,\n",
       "        15.2, 16.1, 17.8, 14.9, 14.1, 12.7, 13.5, 14.9, 20. , 16.4, 17.7,\n",
       "        19.5, 20.2, 21.4, 19.9, 19. , 19.1, 19.1, 20.1, 19.9, 19.6, 23.2,\n",
       "        29.8, 13.8, 13.3, 16.7, 12. , 14.6, 21.4, 23. , 23.7, 25. , 21.8,\n",
       "        20.6, 21.2, 19.1, 20.6, 15.2,  7. ,  8.1, 13.6, 20.1, 21.8, 24.5,\n",
       "        23.1, 19.7, 18.3, 21.2, 17.5, 16.8, 22.4, 20.6, 23.9, 22. , 11.9]),\n",
       " 'feature_names': array(['CRIM', 'ZN', 'INDUS', 'CHAS', 'NOX', 'RM', 'AGE', 'DIS', 'RAD',\n",
       "        'TAX', 'PTRATIO', 'B', 'LSTAT'], dtype='<U7'),\n",
       " 'DESCR': \".. _boston_dataset:\\n\\nBoston house prices dataset\\n---------------------------\\n\\n**Data Set Characteristics:**  \\n\\n    :Number of Instances: 506 \\n\\n    :Number of Attributes: 13 numeric/categorical predictive. Median Value (attribute 14) is usually the target.\\n\\n    :Attribute Information (in order):\\n        - CRIM     per capita crime rate by town\\n        - ZN       proportion of residential land zoned for lots over 25,000 sq.ft.\\n        - INDUS    proportion of non-retail business acres per town\\n        - CHAS     Charles River dummy variable (= 1 if tract bounds river; 0 otherwise)\\n        - NOX      nitric oxides concentration (parts per 10 million)\\n        - RM       average number of rooms per dwelling\\n        - AGE      proportion of owner-occupied units built prior to 1940\\n        - DIS      weighted distances to five Boston employment centres\\n        - RAD      index of accessibility to radial highways\\n        - TAX      full-value property-tax rate per $10,000\\n        - PTRATIO  pupil-teacher ratio by town\\n        - B        1000(Bk - 0.63)^2 where Bk is the proportion of blacks by town\\n        - LSTAT    % lower status of the population\\n        - MEDV     Median value of owner-occupied homes in $1000's\\n\\n    :Missing Attribute Values: None\\n\\n    :Creator: Harrison, D. and Rubinfeld, D.L.\\n\\nThis is a copy of UCI ML housing dataset.\\nhttps://archive.ics.uci.edu/ml/machine-learning-databases/housing/\\n\\n\\nThis dataset was taken from the StatLib library which is maintained at Carnegie Mellon University.\\n\\nThe Boston house-price data of Harrison, D. and Rubinfeld, D.L. 'Hedonic\\nprices and the demand for clean air', J. Environ. Economics & Management,\\nvol.5, 81-102, 1978.   Used in Belsley, Kuh & Welsch, 'Regression diagnostics\\n...', Wiley, 1980.   N.B. Various transformations are used in the table on\\npages 244-261 of the latter.\\n\\nThe Boston house-price data has been used in many machine learning papers that address regression\\nproblems.   \\n     \\n.. topic:: References\\n\\n   - Belsley, Kuh & Welsch, 'Regression diagnostics: Identifying Influential Data and Sources of Collinearity', Wiley, 1980. 244-261.\\n   - Quinlan,R. (1993). Combining Instance-Based and Model-Based Learning. In Proceedings on the Tenth International Conference of Machine Learning, 236-243, University of Massachusetts, Amherst. Morgan Kaufmann.\\n\",\n",
       " 'filename': 'C:\\\\Users\\\\Lenovo\\\\Anaconda3.0\\\\lib\\\\site-packages\\\\sklearn\\\\datasets\\\\data\\\\boston_house_prices.csv'}"
      ]
     },
     "execution_count": 4,
     "metadata": {},
     "output_type": "execute_result"
    }
   ],
   "source": [
    "boston"
   ]
  },
  {
   "cell_type": "code",
   "execution_count": 5,
   "metadata": {},
   "outputs": [
    {
     "data": {
      "text/plain": [
       "dict_keys(['data', 'target', 'feature_names', 'DESCR', 'filename'])"
      ]
     },
     "execution_count": 5,
     "metadata": {},
     "output_type": "execute_result"
    }
   ],
   "source": [
    "boston.keys()"
   ]
  },
  {
   "cell_type": "code",
   "execution_count": 6,
   "metadata": {},
   "outputs": [],
   "source": [
    "df = pd.DataFrame(boston.data,columns=boston.feature_names)\n",
    "df['Target'] = boston.target"
   ]
  },
  {
   "cell_type": "code",
   "execution_count": 7,
   "metadata": {},
   "outputs": [],
   "source": [
    "feature = pd.DataFrame(boston.data,columns=boston.feature_names)"
   ]
  },
  {
   "cell_type": "code",
   "execution_count": 8,
   "metadata": {},
   "outputs": [
    {
     "data": {
      "text/html": [
       "<div>\n",
       "<style scoped>\n",
       "    .dataframe tbody tr th:only-of-type {\n",
       "        vertical-align: middle;\n",
       "    }\n",
       "\n",
       "    .dataframe tbody tr th {\n",
       "        vertical-align: top;\n",
       "    }\n",
       "\n",
       "    .dataframe thead th {\n",
       "        text-align: right;\n",
       "    }\n",
       "</style>\n",
       "<table border=\"1\" class=\"dataframe\">\n",
       "  <thead>\n",
       "    <tr style=\"text-align: right;\">\n",
       "      <th></th>\n",
       "      <th>CRIM</th>\n",
       "      <th>ZN</th>\n",
       "      <th>INDUS</th>\n",
       "      <th>CHAS</th>\n",
       "      <th>NOX</th>\n",
       "      <th>RM</th>\n",
       "      <th>AGE</th>\n",
       "      <th>DIS</th>\n",
       "      <th>RAD</th>\n",
       "      <th>TAX</th>\n",
       "      <th>PTRATIO</th>\n",
       "      <th>B</th>\n",
       "      <th>LSTAT</th>\n",
       "    </tr>\n",
       "  </thead>\n",
       "  <tbody>\n",
       "    <tr>\n",
       "      <th>0</th>\n",
       "      <td>0.00632</td>\n",
       "      <td>18.0</td>\n",
       "      <td>2.31</td>\n",
       "      <td>0.0</td>\n",
       "      <td>0.538</td>\n",
       "      <td>6.575</td>\n",
       "      <td>65.2</td>\n",
       "      <td>4.0900</td>\n",
       "      <td>1.0</td>\n",
       "      <td>296.0</td>\n",
       "      <td>15.3</td>\n",
       "      <td>396.90</td>\n",
       "      <td>4.98</td>\n",
       "    </tr>\n",
       "    <tr>\n",
       "      <th>1</th>\n",
       "      <td>0.02731</td>\n",
       "      <td>0.0</td>\n",
       "      <td>7.07</td>\n",
       "      <td>0.0</td>\n",
       "      <td>0.469</td>\n",
       "      <td>6.421</td>\n",
       "      <td>78.9</td>\n",
       "      <td>4.9671</td>\n",
       "      <td>2.0</td>\n",
       "      <td>242.0</td>\n",
       "      <td>17.8</td>\n",
       "      <td>396.90</td>\n",
       "      <td>9.14</td>\n",
       "    </tr>\n",
       "    <tr>\n",
       "      <th>2</th>\n",
       "      <td>0.02729</td>\n",
       "      <td>0.0</td>\n",
       "      <td>7.07</td>\n",
       "      <td>0.0</td>\n",
       "      <td>0.469</td>\n",
       "      <td>7.185</td>\n",
       "      <td>61.1</td>\n",
       "      <td>4.9671</td>\n",
       "      <td>2.0</td>\n",
       "      <td>242.0</td>\n",
       "      <td>17.8</td>\n",
       "      <td>392.83</td>\n",
       "      <td>4.03</td>\n",
       "    </tr>\n",
       "    <tr>\n",
       "      <th>3</th>\n",
       "      <td>0.03237</td>\n",
       "      <td>0.0</td>\n",
       "      <td>2.18</td>\n",
       "      <td>0.0</td>\n",
       "      <td>0.458</td>\n",
       "      <td>6.998</td>\n",
       "      <td>45.8</td>\n",
       "      <td>6.0622</td>\n",
       "      <td>3.0</td>\n",
       "      <td>222.0</td>\n",
       "      <td>18.7</td>\n",
       "      <td>394.63</td>\n",
       "      <td>2.94</td>\n",
       "    </tr>\n",
       "    <tr>\n",
       "      <th>4</th>\n",
       "      <td>0.06905</td>\n",
       "      <td>0.0</td>\n",
       "      <td>2.18</td>\n",
       "      <td>0.0</td>\n",
       "      <td>0.458</td>\n",
       "      <td>7.147</td>\n",
       "      <td>54.2</td>\n",
       "      <td>6.0622</td>\n",
       "      <td>3.0</td>\n",
       "      <td>222.0</td>\n",
       "      <td>18.7</td>\n",
       "      <td>396.90</td>\n",
       "      <td>5.33</td>\n",
       "    </tr>\n",
       "    <tr>\n",
       "      <th>5</th>\n",
       "      <td>0.02985</td>\n",
       "      <td>0.0</td>\n",
       "      <td>2.18</td>\n",
       "      <td>0.0</td>\n",
       "      <td>0.458</td>\n",
       "      <td>6.430</td>\n",
       "      <td>58.7</td>\n",
       "      <td>6.0622</td>\n",
       "      <td>3.0</td>\n",
       "      <td>222.0</td>\n",
       "      <td>18.7</td>\n",
       "      <td>394.12</td>\n",
       "      <td>5.21</td>\n",
       "    </tr>\n",
       "    <tr>\n",
       "      <th>6</th>\n",
       "      <td>0.08829</td>\n",
       "      <td>12.5</td>\n",
       "      <td>7.87</td>\n",
       "      <td>0.0</td>\n",
       "      <td>0.524</td>\n",
       "      <td>6.012</td>\n",
       "      <td>66.6</td>\n",
       "      <td>5.5605</td>\n",
       "      <td>5.0</td>\n",
       "      <td>311.0</td>\n",
       "      <td>15.2</td>\n",
       "      <td>395.60</td>\n",
       "      <td>12.43</td>\n",
       "    </tr>\n",
       "    <tr>\n",
       "      <th>7</th>\n",
       "      <td>0.14455</td>\n",
       "      <td>12.5</td>\n",
       "      <td>7.87</td>\n",
       "      <td>0.0</td>\n",
       "      <td>0.524</td>\n",
       "      <td>6.172</td>\n",
       "      <td>96.1</td>\n",
       "      <td>5.9505</td>\n",
       "      <td>5.0</td>\n",
       "      <td>311.0</td>\n",
       "      <td>15.2</td>\n",
       "      <td>396.90</td>\n",
       "      <td>19.15</td>\n",
       "    </tr>\n",
       "    <tr>\n",
       "      <th>8</th>\n",
       "      <td>0.21124</td>\n",
       "      <td>12.5</td>\n",
       "      <td>7.87</td>\n",
       "      <td>0.0</td>\n",
       "      <td>0.524</td>\n",
       "      <td>5.631</td>\n",
       "      <td>100.0</td>\n",
       "      <td>6.0821</td>\n",
       "      <td>5.0</td>\n",
       "      <td>311.0</td>\n",
       "      <td>15.2</td>\n",
       "      <td>386.63</td>\n",
       "      <td>29.93</td>\n",
       "    </tr>\n",
       "    <tr>\n",
       "      <th>9</th>\n",
       "      <td>0.17004</td>\n",
       "      <td>12.5</td>\n",
       "      <td>7.87</td>\n",
       "      <td>0.0</td>\n",
       "      <td>0.524</td>\n",
       "      <td>6.004</td>\n",
       "      <td>85.9</td>\n",
       "      <td>6.5921</td>\n",
       "      <td>5.0</td>\n",
       "      <td>311.0</td>\n",
       "      <td>15.2</td>\n",
       "      <td>386.71</td>\n",
       "      <td>17.10</td>\n",
       "    </tr>\n",
       "    <tr>\n",
       "      <th>10</th>\n",
       "      <td>0.22489</td>\n",
       "      <td>12.5</td>\n",
       "      <td>7.87</td>\n",
       "      <td>0.0</td>\n",
       "      <td>0.524</td>\n",
       "      <td>6.377</td>\n",
       "      <td>94.3</td>\n",
       "      <td>6.3467</td>\n",
       "      <td>5.0</td>\n",
       "      <td>311.0</td>\n",
       "      <td>15.2</td>\n",
       "      <td>392.52</td>\n",
       "      <td>20.45</td>\n",
       "    </tr>\n",
       "    <tr>\n",
       "      <th>11</th>\n",
       "      <td>0.11747</td>\n",
       "      <td>12.5</td>\n",
       "      <td>7.87</td>\n",
       "      <td>0.0</td>\n",
       "      <td>0.524</td>\n",
       "      <td>6.009</td>\n",
       "      <td>82.9</td>\n",
       "      <td>6.2267</td>\n",
       "      <td>5.0</td>\n",
       "      <td>311.0</td>\n",
       "      <td>15.2</td>\n",
       "      <td>396.90</td>\n",
       "      <td>13.27</td>\n",
       "    </tr>\n",
       "    <tr>\n",
       "      <th>12</th>\n",
       "      <td>0.09378</td>\n",
       "      <td>12.5</td>\n",
       "      <td>7.87</td>\n",
       "      <td>0.0</td>\n",
       "      <td>0.524</td>\n",
       "      <td>5.889</td>\n",
       "      <td>39.0</td>\n",
       "      <td>5.4509</td>\n",
       "      <td>5.0</td>\n",
       "      <td>311.0</td>\n",
       "      <td>15.2</td>\n",
       "      <td>390.50</td>\n",
       "      <td>15.71</td>\n",
       "    </tr>\n",
       "    <tr>\n",
       "      <th>13</th>\n",
       "      <td>0.62976</td>\n",
       "      <td>0.0</td>\n",
       "      <td>8.14</td>\n",
       "      <td>0.0</td>\n",
       "      <td>0.538</td>\n",
       "      <td>5.949</td>\n",
       "      <td>61.8</td>\n",
       "      <td>4.7075</td>\n",
       "      <td>4.0</td>\n",
       "      <td>307.0</td>\n",
       "      <td>21.0</td>\n",
       "      <td>396.90</td>\n",
       "      <td>8.26</td>\n",
       "    </tr>\n",
       "    <tr>\n",
       "      <th>14</th>\n",
       "      <td>0.63796</td>\n",
       "      <td>0.0</td>\n",
       "      <td>8.14</td>\n",
       "      <td>0.0</td>\n",
       "      <td>0.538</td>\n",
       "      <td>6.096</td>\n",
       "      <td>84.5</td>\n",
       "      <td>4.4619</td>\n",
       "      <td>4.0</td>\n",
       "      <td>307.0</td>\n",
       "      <td>21.0</td>\n",
       "      <td>380.02</td>\n",
       "      <td>10.26</td>\n",
       "    </tr>\n",
       "    <tr>\n",
       "      <th>15</th>\n",
       "      <td>0.62739</td>\n",
       "      <td>0.0</td>\n",
       "      <td>8.14</td>\n",
       "      <td>0.0</td>\n",
       "      <td>0.538</td>\n",
       "      <td>5.834</td>\n",
       "      <td>56.5</td>\n",
       "      <td>4.4986</td>\n",
       "      <td>4.0</td>\n",
       "      <td>307.0</td>\n",
       "      <td>21.0</td>\n",
       "      <td>395.62</td>\n",
       "      <td>8.47</td>\n",
       "    </tr>\n",
       "    <tr>\n",
       "      <th>16</th>\n",
       "      <td>1.05393</td>\n",
       "      <td>0.0</td>\n",
       "      <td>8.14</td>\n",
       "      <td>0.0</td>\n",
       "      <td>0.538</td>\n",
       "      <td>5.935</td>\n",
       "      <td>29.3</td>\n",
       "      <td>4.4986</td>\n",
       "      <td>4.0</td>\n",
       "      <td>307.0</td>\n",
       "      <td>21.0</td>\n",
       "      <td>386.85</td>\n",
       "      <td>6.58</td>\n",
       "    </tr>\n",
       "    <tr>\n",
       "      <th>17</th>\n",
       "      <td>0.78420</td>\n",
       "      <td>0.0</td>\n",
       "      <td>8.14</td>\n",
       "      <td>0.0</td>\n",
       "      <td>0.538</td>\n",
       "      <td>5.990</td>\n",
       "      <td>81.7</td>\n",
       "      <td>4.2579</td>\n",
       "      <td>4.0</td>\n",
       "      <td>307.0</td>\n",
       "      <td>21.0</td>\n",
       "      <td>386.75</td>\n",
       "      <td>14.67</td>\n",
       "    </tr>\n",
       "    <tr>\n",
       "      <th>18</th>\n",
       "      <td>0.80271</td>\n",
       "      <td>0.0</td>\n",
       "      <td>8.14</td>\n",
       "      <td>0.0</td>\n",
       "      <td>0.538</td>\n",
       "      <td>5.456</td>\n",
       "      <td>36.6</td>\n",
       "      <td>3.7965</td>\n",
       "      <td>4.0</td>\n",
       "      <td>307.0</td>\n",
       "      <td>21.0</td>\n",
       "      <td>288.99</td>\n",
       "      <td>11.69</td>\n",
       "    </tr>\n",
       "    <tr>\n",
       "      <th>19</th>\n",
       "      <td>0.72580</td>\n",
       "      <td>0.0</td>\n",
       "      <td>8.14</td>\n",
       "      <td>0.0</td>\n",
       "      <td>0.538</td>\n",
       "      <td>5.727</td>\n",
       "      <td>69.5</td>\n",
       "      <td>3.7965</td>\n",
       "      <td>4.0</td>\n",
       "      <td>307.0</td>\n",
       "      <td>21.0</td>\n",
       "      <td>390.95</td>\n",
       "      <td>11.28</td>\n",
       "    </tr>\n",
       "    <tr>\n",
       "      <th>20</th>\n",
       "      <td>1.25179</td>\n",
       "      <td>0.0</td>\n",
       "      <td>8.14</td>\n",
       "      <td>0.0</td>\n",
       "      <td>0.538</td>\n",
       "      <td>5.570</td>\n",
       "      <td>98.1</td>\n",
       "      <td>3.7979</td>\n",
       "      <td>4.0</td>\n",
       "      <td>307.0</td>\n",
       "      <td>21.0</td>\n",
       "      <td>376.57</td>\n",
       "      <td>21.02</td>\n",
       "    </tr>\n",
       "    <tr>\n",
       "      <th>21</th>\n",
       "      <td>0.85204</td>\n",
       "      <td>0.0</td>\n",
       "      <td>8.14</td>\n",
       "      <td>0.0</td>\n",
       "      <td>0.538</td>\n",
       "      <td>5.965</td>\n",
       "      <td>89.2</td>\n",
       "      <td>4.0123</td>\n",
       "      <td>4.0</td>\n",
       "      <td>307.0</td>\n",
       "      <td>21.0</td>\n",
       "      <td>392.53</td>\n",
       "      <td>13.83</td>\n",
       "    </tr>\n",
       "    <tr>\n",
       "      <th>22</th>\n",
       "      <td>1.23247</td>\n",
       "      <td>0.0</td>\n",
       "      <td>8.14</td>\n",
       "      <td>0.0</td>\n",
       "      <td>0.538</td>\n",
       "      <td>6.142</td>\n",
       "      <td>91.7</td>\n",
       "      <td>3.9769</td>\n",
       "      <td>4.0</td>\n",
       "      <td>307.0</td>\n",
       "      <td>21.0</td>\n",
       "      <td>396.90</td>\n",
       "      <td>18.72</td>\n",
       "    </tr>\n",
       "    <tr>\n",
       "      <th>23</th>\n",
       "      <td>0.98843</td>\n",
       "      <td>0.0</td>\n",
       "      <td>8.14</td>\n",
       "      <td>0.0</td>\n",
       "      <td>0.538</td>\n",
       "      <td>5.813</td>\n",
       "      <td>100.0</td>\n",
       "      <td>4.0952</td>\n",
       "      <td>4.0</td>\n",
       "      <td>307.0</td>\n",
       "      <td>21.0</td>\n",
       "      <td>394.54</td>\n",
       "      <td>19.88</td>\n",
       "    </tr>\n",
       "    <tr>\n",
       "      <th>24</th>\n",
       "      <td>0.75026</td>\n",
       "      <td>0.0</td>\n",
       "      <td>8.14</td>\n",
       "      <td>0.0</td>\n",
       "      <td>0.538</td>\n",
       "      <td>5.924</td>\n",
       "      <td>94.1</td>\n",
       "      <td>4.3996</td>\n",
       "      <td>4.0</td>\n",
       "      <td>307.0</td>\n",
       "      <td>21.0</td>\n",
       "      <td>394.33</td>\n",
       "      <td>16.30</td>\n",
       "    </tr>\n",
       "    <tr>\n",
       "      <th>25</th>\n",
       "      <td>0.84054</td>\n",
       "      <td>0.0</td>\n",
       "      <td>8.14</td>\n",
       "      <td>0.0</td>\n",
       "      <td>0.538</td>\n",
       "      <td>5.599</td>\n",
       "      <td>85.7</td>\n",
       "      <td>4.4546</td>\n",
       "      <td>4.0</td>\n",
       "      <td>307.0</td>\n",
       "      <td>21.0</td>\n",
       "      <td>303.42</td>\n",
       "      <td>16.51</td>\n",
       "    </tr>\n",
       "    <tr>\n",
       "      <th>26</th>\n",
       "      <td>0.67191</td>\n",
       "      <td>0.0</td>\n",
       "      <td>8.14</td>\n",
       "      <td>0.0</td>\n",
       "      <td>0.538</td>\n",
       "      <td>5.813</td>\n",
       "      <td>90.3</td>\n",
       "      <td>4.6820</td>\n",
       "      <td>4.0</td>\n",
       "      <td>307.0</td>\n",
       "      <td>21.0</td>\n",
       "      <td>376.88</td>\n",
       "      <td>14.81</td>\n",
       "    </tr>\n",
       "    <tr>\n",
       "      <th>27</th>\n",
       "      <td>0.95577</td>\n",
       "      <td>0.0</td>\n",
       "      <td>8.14</td>\n",
       "      <td>0.0</td>\n",
       "      <td>0.538</td>\n",
       "      <td>6.047</td>\n",
       "      <td>88.8</td>\n",
       "      <td>4.4534</td>\n",
       "      <td>4.0</td>\n",
       "      <td>307.0</td>\n",
       "      <td>21.0</td>\n",
       "      <td>306.38</td>\n",
       "      <td>17.28</td>\n",
       "    </tr>\n",
       "    <tr>\n",
       "      <th>28</th>\n",
       "      <td>0.77299</td>\n",
       "      <td>0.0</td>\n",
       "      <td>8.14</td>\n",
       "      <td>0.0</td>\n",
       "      <td>0.538</td>\n",
       "      <td>6.495</td>\n",
       "      <td>94.4</td>\n",
       "      <td>4.4547</td>\n",
       "      <td>4.0</td>\n",
       "      <td>307.0</td>\n",
       "      <td>21.0</td>\n",
       "      <td>387.94</td>\n",
       "      <td>12.80</td>\n",
       "    </tr>\n",
       "    <tr>\n",
       "      <th>29</th>\n",
       "      <td>1.00245</td>\n",
       "      <td>0.0</td>\n",
       "      <td>8.14</td>\n",
       "      <td>0.0</td>\n",
       "      <td>0.538</td>\n",
       "      <td>6.674</td>\n",
       "      <td>87.3</td>\n",
       "      <td>4.2390</td>\n",
       "      <td>4.0</td>\n",
       "      <td>307.0</td>\n",
       "      <td>21.0</td>\n",
       "      <td>380.23</td>\n",
       "      <td>11.98</td>\n",
       "    </tr>\n",
       "    <tr>\n",
       "      <th>...</th>\n",
       "      <td>...</td>\n",
       "      <td>...</td>\n",
       "      <td>...</td>\n",
       "      <td>...</td>\n",
       "      <td>...</td>\n",
       "      <td>...</td>\n",
       "      <td>...</td>\n",
       "      <td>...</td>\n",
       "      <td>...</td>\n",
       "      <td>...</td>\n",
       "      <td>...</td>\n",
       "      <td>...</td>\n",
       "      <td>...</td>\n",
       "    </tr>\n",
       "    <tr>\n",
       "      <th>476</th>\n",
       "      <td>4.87141</td>\n",
       "      <td>0.0</td>\n",
       "      <td>18.10</td>\n",
       "      <td>0.0</td>\n",
       "      <td>0.614</td>\n",
       "      <td>6.484</td>\n",
       "      <td>93.6</td>\n",
       "      <td>2.3053</td>\n",
       "      <td>24.0</td>\n",
       "      <td>666.0</td>\n",
       "      <td>20.2</td>\n",
       "      <td>396.21</td>\n",
       "      <td>18.68</td>\n",
       "    </tr>\n",
       "    <tr>\n",
       "      <th>477</th>\n",
       "      <td>15.02340</td>\n",
       "      <td>0.0</td>\n",
       "      <td>18.10</td>\n",
       "      <td>0.0</td>\n",
       "      <td>0.614</td>\n",
       "      <td>5.304</td>\n",
       "      <td>97.3</td>\n",
       "      <td>2.1007</td>\n",
       "      <td>24.0</td>\n",
       "      <td>666.0</td>\n",
       "      <td>20.2</td>\n",
       "      <td>349.48</td>\n",
       "      <td>24.91</td>\n",
       "    </tr>\n",
       "    <tr>\n",
       "      <th>478</th>\n",
       "      <td>10.23300</td>\n",
       "      <td>0.0</td>\n",
       "      <td>18.10</td>\n",
       "      <td>0.0</td>\n",
       "      <td>0.614</td>\n",
       "      <td>6.185</td>\n",
       "      <td>96.7</td>\n",
       "      <td>2.1705</td>\n",
       "      <td>24.0</td>\n",
       "      <td>666.0</td>\n",
       "      <td>20.2</td>\n",
       "      <td>379.70</td>\n",
       "      <td>18.03</td>\n",
       "    </tr>\n",
       "    <tr>\n",
       "      <th>479</th>\n",
       "      <td>14.33370</td>\n",
       "      <td>0.0</td>\n",
       "      <td>18.10</td>\n",
       "      <td>0.0</td>\n",
       "      <td>0.614</td>\n",
       "      <td>6.229</td>\n",
       "      <td>88.0</td>\n",
       "      <td>1.9512</td>\n",
       "      <td>24.0</td>\n",
       "      <td>666.0</td>\n",
       "      <td>20.2</td>\n",
       "      <td>383.32</td>\n",
       "      <td>13.11</td>\n",
       "    </tr>\n",
       "    <tr>\n",
       "      <th>480</th>\n",
       "      <td>5.82401</td>\n",
       "      <td>0.0</td>\n",
       "      <td>18.10</td>\n",
       "      <td>0.0</td>\n",
       "      <td>0.532</td>\n",
       "      <td>6.242</td>\n",
       "      <td>64.7</td>\n",
       "      <td>3.4242</td>\n",
       "      <td>24.0</td>\n",
       "      <td>666.0</td>\n",
       "      <td>20.2</td>\n",
       "      <td>396.90</td>\n",
       "      <td>10.74</td>\n",
       "    </tr>\n",
       "    <tr>\n",
       "      <th>481</th>\n",
       "      <td>5.70818</td>\n",
       "      <td>0.0</td>\n",
       "      <td>18.10</td>\n",
       "      <td>0.0</td>\n",
       "      <td>0.532</td>\n",
       "      <td>6.750</td>\n",
       "      <td>74.9</td>\n",
       "      <td>3.3317</td>\n",
       "      <td>24.0</td>\n",
       "      <td>666.0</td>\n",
       "      <td>20.2</td>\n",
       "      <td>393.07</td>\n",
       "      <td>7.74</td>\n",
       "    </tr>\n",
       "    <tr>\n",
       "      <th>482</th>\n",
       "      <td>5.73116</td>\n",
       "      <td>0.0</td>\n",
       "      <td>18.10</td>\n",
       "      <td>0.0</td>\n",
       "      <td>0.532</td>\n",
       "      <td>7.061</td>\n",
       "      <td>77.0</td>\n",
       "      <td>3.4106</td>\n",
       "      <td>24.0</td>\n",
       "      <td>666.0</td>\n",
       "      <td>20.2</td>\n",
       "      <td>395.28</td>\n",
       "      <td>7.01</td>\n",
       "    </tr>\n",
       "    <tr>\n",
       "      <th>483</th>\n",
       "      <td>2.81838</td>\n",
       "      <td>0.0</td>\n",
       "      <td>18.10</td>\n",
       "      <td>0.0</td>\n",
       "      <td>0.532</td>\n",
       "      <td>5.762</td>\n",
       "      <td>40.3</td>\n",
       "      <td>4.0983</td>\n",
       "      <td>24.0</td>\n",
       "      <td>666.0</td>\n",
       "      <td>20.2</td>\n",
       "      <td>392.92</td>\n",
       "      <td>10.42</td>\n",
       "    </tr>\n",
       "    <tr>\n",
       "      <th>484</th>\n",
       "      <td>2.37857</td>\n",
       "      <td>0.0</td>\n",
       "      <td>18.10</td>\n",
       "      <td>0.0</td>\n",
       "      <td>0.583</td>\n",
       "      <td>5.871</td>\n",
       "      <td>41.9</td>\n",
       "      <td>3.7240</td>\n",
       "      <td>24.0</td>\n",
       "      <td>666.0</td>\n",
       "      <td>20.2</td>\n",
       "      <td>370.73</td>\n",
       "      <td>13.34</td>\n",
       "    </tr>\n",
       "    <tr>\n",
       "      <th>485</th>\n",
       "      <td>3.67367</td>\n",
       "      <td>0.0</td>\n",
       "      <td>18.10</td>\n",
       "      <td>0.0</td>\n",
       "      <td>0.583</td>\n",
       "      <td>6.312</td>\n",
       "      <td>51.9</td>\n",
       "      <td>3.9917</td>\n",
       "      <td>24.0</td>\n",
       "      <td>666.0</td>\n",
       "      <td>20.2</td>\n",
       "      <td>388.62</td>\n",
       "      <td>10.58</td>\n",
       "    </tr>\n",
       "    <tr>\n",
       "      <th>486</th>\n",
       "      <td>5.69175</td>\n",
       "      <td>0.0</td>\n",
       "      <td>18.10</td>\n",
       "      <td>0.0</td>\n",
       "      <td>0.583</td>\n",
       "      <td>6.114</td>\n",
       "      <td>79.8</td>\n",
       "      <td>3.5459</td>\n",
       "      <td>24.0</td>\n",
       "      <td>666.0</td>\n",
       "      <td>20.2</td>\n",
       "      <td>392.68</td>\n",
       "      <td>14.98</td>\n",
       "    </tr>\n",
       "    <tr>\n",
       "      <th>487</th>\n",
       "      <td>4.83567</td>\n",
       "      <td>0.0</td>\n",
       "      <td>18.10</td>\n",
       "      <td>0.0</td>\n",
       "      <td>0.583</td>\n",
       "      <td>5.905</td>\n",
       "      <td>53.2</td>\n",
       "      <td>3.1523</td>\n",
       "      <td>24.0</td>\n",
       "      <td>666.0</td>\n",
       "      <td>20.2</td>\n",
       "      <td>388.22</td>\n",
       "      <td>11.45</td>\n",
       "    </tr>\n",
       "    <tr>\n",
       "      <th>488</th>\n",
       "      <td>0.15086</td>\n",
       "      <td>0.0</td>\n",
       "      <td>27.74</td>\n",
       "      <td>0.0</td>\n",
       "      <td>0.609</td>\n",
       "      <td>5.454</td>\n",
       "      <td>92.7</td>\n",
       "      <td>1.8209</td>\n",
       "      <td>4.0</td>\n",
       "      <td>711.0</td>\n",
       "      <td>20.1</td>\n",
       "      <td>395.09</td>\n",
       "      <td>18.06</td>\n",
       "    </tr>\n",
       "    <tr>\n",
       "      <th>489</th>\n",
       "      <td>0.18337</td>\n",
       "      <td>0.0</td>\n",
       "      <td>27.74</td>\n",
       "      <td>0.0</td>\n",
       "      <td>0.609</td>\n",
       "      <td>5.414</td>\n",
       "      <td>98.3</td>\n",
       "      <td>1.7554</td>\n",
       "      <td>4.0</td>\n",
       "      <td>711.0</td>\n",
       "      <td>20.1</td>\n",
       "      <td>344.05</td>\n",
       "      <td>23.97</td>\n",
       "    </tr>\n",
       "    <tr>\n",
       "      <th>490</th>\n",
       "      <td>0.20746</td>\n",
       "      <td>0.0</td>\n",
       "      <td>27.74</td>\n",
       "      <td>0.0</td>\n",
       "      <td>0.609</td>\n",
       "      <td>5.093</td>\n",
       "      <td>98.0</td>\n",
       "      <td>1.8226</td>\n",
       "      <td>4.0</td>\n",
       "      <td>711.0</td>\n",
       "      <td>20.1</td>\n",
       "      <td>318.43</td>\n",
       "      <td>29.68</td>\n",
       "    </tr>\n",
       "    <tr>\n",
       "      <th>491</th>\n",
       "      <td>0.10574</td>\n",
       "      <td>0.0</td>\n",
       "      <td>27.74</td>\n",
       "      <td>0.0</td>\n",
       "      <td>0.609</td>\n",
       "      <td>5.983</td>\n",
       "      <td>98.8</td>\n",
       "      <td>1.8681</td>\n",
       "      <td>4.0</td>\n",
       "      <td>711.0</td>\n",
       "      <td>20.1</td>\n",
       "      <td>390.11</td>\n",
       "      <td>18.07</td>\n",
       "    </tr>\n",
       "    <tr>\n",
       "      <th>492</th>\n",
       "      <td>0.11132</td>\n",
       "      <td>0.0</td>\n",
       "      <td>27.74</td>\n",
       "      <td>0.0</td>\n",
       "      <td>0.609</td>\n",
       "      <td>5.983</td>\n",
       "      <td>83.5</td>\n",
       "      <td>2.1099</td>\n",
       "      <td>4.0</td>\n",
       "      <td>711.0</td>\n",
       "      <td>20.1</td>\n",
       "      <td>396.90</td>\n",
       "      <td>13.35</td>\n",
       "    </tr>\n",
       "    <tr>\n",
       "      <th>493</th>\n",
       "      <td>0.17331</td>\n",
       "      <td>0.0</td>\n",
       "      <td>9.69</td>\n",
       "      <td>0.0</td>\n",
       "      <td>0.585</td>\n",
       "      <td>5.707</td>\n",
       "      <td>54.0</td>\n",
       "      <td>2.3817</td>\n",
       "      <td>6.0</td>\n",
       "      <td>391.0</td>\n",
       "      <td>19.2</td>\n",
       "      <td>396.90</td>\n",
       "      <td>12.01</td>\n",
       "    </tr>\n",
       "    <tr>\n",
       "      <th>494</th>\n",
       "      <td>0.27957</td>\n",
       "      <td>0.0</td>\n",
       "      <td>9.69</td>\n",
       "      <td>0.0</td>\n",
       "      <td>0.585</td>\n",
       "      <td>5.926</td>\n",
       "      <td>42.6</td>\n",
       "      <td>2.3817</td>\n",
       "      <td>6.0</td>\n",
       "      <td>391.0</td>\n",
       "      <td>19.2</td>\n",
       "      <td>396.90</td>\n",
       "      <td>13.59</td>\n",
       "    </tr>\n",
       "    <tr>\n",
       "      <th>495</th>\n",
       "      <td>0.17899</td>\n",
       "      <td>0.0</td>\n",
       "      <td>9.69</td>\n",
       "      <td>0.0</td>\n",
       "      <td>0.585</td>\n",
       "      <td>5.670</td>\n",
       "      <td>28.8</td>\n",
       "      <td>2.7986</td>\n",
       "      <td>6.0</td>\n",
       "      <td>391.0</td>\n",
       "      <td>19.2</td>\n",
       "      <td>393.29</td>\n",
       "      <td>17.60</td>\n",
       "    </tr>\n",
       "    <tr>\n",
       "      <th>496</th>\n",
       "      <td>0.28960</td>\n",
       "      <td>0.0</td>\n",
       "      <td>9.69</td>\n",
       "      <td>0.0</td>\n",
       "      <td>0.585</td>\n",
       "      <td>5.390</td>\n",
       "      <td>72.9</td>\n",
       "      <td>2.7986</td>\n",
       "      <td>6.0</td>\n",
       "      <td>391.0</td>\n",
       "      <td>19.2</td>\n",
       "      <td>396.90</td>\n",
       "      <td>21.14</td>\n",
       "    </tr>\n",
       "    <tr>\n",
       "      <th>497</th>\n",
       "      <td>0.26838</td>\n",
       "      <td>0.0</td>\n",
       "      <td>9.69</td>\n",
       "      <td>0.0</td>\n",
       "      <td>0.585</td>\n",
       "      <td>5.794</td>\n",
       "      <td>70.6</td>\n",
       "      <td>2.8927</td>\n",
       "      <td>6.0</td>\n",
       "      <td>391.0</td>\n",
       "      <td>19.2</td>\n",
       "      <td>396.90</td>\n",
       "      <td>14.10</td>\n",
       "    </tr>\n",
       "    <tr>\n",
       "      <th>498</th>\n",
       "      <td>0.23912</td>\n",
       "      <td>0.0</td>\n",
       "      <td>9.69</td>\n",
       "      <td>0.0</td>\n",
       "      <td>0.585</td>\n",
       "      <td>6.019</td>\n",
       "      <td>65.3</td>\n",
       "      <td>2.4091</td>\n",
       "      <td>6.0</td>\n",
       "      <td>391.0</td>\n",
       "      <td>19.2</td>\n",
       "      <td>396.90</td>\n",
       "      <td>12.92</td>\n",
       "    </tr>\n",
       "    <tr>\n",
       "      <th>499</th>\n",
       "      <td>0.17783</td>\n",
       "      <td>0.0</td>\n",
       "      <td>9.69</td>\n",
       "      <td>0.0</td>\n",
       "      <td>0.585</td>\n",
       "      <td>5.569</td>\n",
       "      <td>73.5</td>\n",
       "      <td>2.3999</td>\n",
       "      <td>6.0</td>\n",
       "      <td>391.0</td>\n",
       "      <td>19.2</td>\n",
       "      <td>395.77</td>\n",
       "      <td>15.10</td>\n",
       "    </tr>\n",
       "    <tr>\n",
       "      <th>500</th>\n",
       "      <td>0.22438</td>\n",
       "      <td>0.0</td>\n",
       "      <td>9.69</td>\n",
       "      <td>0.0</td>\n",
       "      <td>0.585</td>\n",
       "      <td>6.027</td>\n",
       "      <td>79.7</td>\n",
       "      <td>2.4982</td>\n",
       "      <td>6.0</td>\n",
       "      <td>391.0</td>\n",
       "      <td>19.2</td>\n",
       "      <td>396.90</td>\n",
       "      <td>14.33</td>\n",
       "    </tr>\n",
       "    <tr>\n",
       "      <th>501</th>\n",
       "      <td>0.06263</td>\n",
       "      <td>0.0</td>\n",
       "      <td>11.93</td>\n",
       "      <td>0.0</td>\n",
       "      <td>0.573</td>\n",
       "      <td>6.593</td>\n",
       "      <td>69.1</td>\n",
       "      <td>2.4786</td>\n",
       "      <td>1.0</td>\n",
       "      <td>273.0</td>\n",
       "      <td>21.0</td>\n",
       "      <td>391.99</td>\n",
       "      <td>9.67</td>\n",
       "    </tr>\n",
       "    <tr>\n",
       "      <th>502</th>\n",
       "      <td>0.04527</td>\n",
       "      <td>0.0</td>\n",
       "      <td>11.93</td>\n",
       "      <td>0.0</td>\n",
       "      <td>0.573</td>\n",
       "      <td>6.120</td>\n",
       "      <td>76.7</td>\n",
       "      <td>2.2875</td>\n",
       "      <td>1.0</td>\n",
       "      <td>273.0</td>\n",
       "      <td>21.0</td>\n",
       "      <td>396.90</td>\n",
       "      <td>9.08</td>\n",
       "    </tr>\n",
       "    <tr>\n",
       "      <th>503</th>\n",
       "      <td>0.06076</td>\n",
       "      <td>0.0</td>\n",
       "      <td>11.93</td>\n",
       "      <td>0.0</td>\n",
       "      <td>0.573</td>\n",
       "      <td>6.976</td>\n",
       "      <td>91.0</td>\n",
       "      <td>2.1675</td>\n",
       "      <td>1.0</td>\n",
       "      <td>273.0</td>\n",
       "      <td>21.0</td>\n",
       "      <td>396.90</td>\n",
       "      <td>5.64</td>\n",
       "    </tr>\n",
       "    <tr>\n",
       "      <th>504</th>\n",
       "      <td>0.10959</td>\n",
       "      <td>0.0</td>\n",
       "      <td>11.93</td>\n",
       "      <td>0.0</td>\n",
       "      <td>0.573</td>\n",
       "      <td>6.794</td>\n",
       "      <td>89.3</td>\n",
       "      <td>2.3889</td>\n",
       "      <td>1.0</td>\n",
       "      <td>273.0</td>\n",
       "      <td>21.0</td>\n",
       "      <td>393.45</td>\n",
       "      <td>6.48</td>\n",
       "    </tr>\n",
       "    <tr>\n",
       "      <th>505</th>\n",
       "      <td>0.04741</td>\n",
       "      <td>0.0</td>\n",
       "      <td>11.93</td>\n",
       "      <td>0.0</td>\n",
       "      <td>0.573</td>\n",
       "      <td>6.030</td>\n",
       "      <td>80.8</td>\n",
       "      <td>2.5050</td>\n",
       "      <td>1.0</td>\n",
       "      <td>273.0</td>\n",
       "      <td>21.0</td>\n",
       "      <td>396.90</td>\n",
       "      <td>7.88</td>\n",
       "    </tr>\n",
       "  </tbody>\n",
       "</table>\n",
       "<p>506 rows × 13 columns</p>\n",
       "</div>"
      ],
      "text/plain": [
       "         CRIM    ZN  INDUS  CHAS    NOX     RM    AGE     DIS   RAD    TAX  \\\n",
       "0     0.00632  18.0   2.31   0.0  0.538  6.575   65.2  4.0900   1.0  296.0   \n",
       "1     0.02731   0.0   7.07   0.0  0.469  6.421   78.9  4.9671   2.0  242.0   \n",
       "2     0.02729   0.0   7.07   0.0  0.469  7.185   61.1  4.9671   2.0  242.0   \n",
       "3     0.03237   0.0   2.18   0.0  0.458  6.998   45.8  6.0622   3.0  222.0   \n",
       "4     0.06905   0.0   2.18   0.0  0.458  7.147   54.2  6.0622   3.0  222.0   \n",
       "5     0.02985   0.0   2.18   0.0  0.458  6.430   58.7  6.0622   3.0  222.0   \n",
       "6     0.08829  12.5   7.87   0.0  0.524  6.012   66.6  5.5605   5.0  311.0   \n",
       "7     0.14455  12.5   7.87   0.0  0.524  6.172   96.1  5.9505   5.0  311.0   \n",
       "8     0.21124  12.5   7.87   0.0  0.524  5.631  100.0  6.0821   5.0  311.0   \n",
       "9     0.17004  12.5   7.87   0.0  0.524  6.004   85.9  6.5921   5.0  311.0   \n",
       "10    0.22489  12.5   7.87   0.0  0.524  6.377   94.3  6.3467   5.0  311.0   \n",
       "11    0.11747  12.5   7.87   0.0  0.524  6.009   82.9  6.2267   5.0  311.0   \n",
       "12    0.09378  12.5   7.87   0.0  0.524  5.889   39.0  5.4509   5.0  311.0   \n",
       "13    0.62976   0.0   8.14   0.0  0.538  5.949   61.8  4.7075   4.0  307.0   \n",
       "14    0.63796   0.0   8.14   0.0  0.538  6.096   84.5  4.4619   4.0  307.0   \n",
       "15    0.62739   0.0   8.14   0.0  0.538  5.834   56.5  4.4986   4.0  307.0   \n",
       "16    1.05393   0.0   8.14   0.0  0.538  5.935   29.3  4.4986   4.0  307.0   \n",
       "17    0.78420   0.0   8.14   0.0  0.538  5.990   81.7  4.2579   4.0  307.0   \n",
       "18    0.80271   0.0   8.14   0.0  0.538  5.456   36.6  3.7965   4.0  307.0   \n",
       "19    0.72580   0.0   8.14   0.0  0.538  5.727   69.5  3.7965   4.0  307.0   \n",
       "20    1.25179   0.0   8.14   0.0  0.538  5.570   98.1  3.7979   4.0  307.0   \n",
       "21    0.85204   0.0   8.14   0.0  0.538  5.965   89.2  4.0123   4.0  307.0   \n",
       "22    1.23247   0.0   8.14   0.0  0.538  6.142   91.7  3.9769   4.0  307.0   \n",
       "23    0.98843   0.0   8.14   0.0  0.538  5.813  100.0  4.0952   4.0  307.0   \n",
       "24    0.75026   0.0   8.14   0.0  0.538  5.924   94.1  4.3996   4.0  307.0   \n",
       "25    0.84054   0.0   8.14   0.0  0.538  5.599   85.7  4.4546   4.0  307.0   \n",
       "26    0.67191   0.0   8.14   0.0  0.538  5.813   90.3  4.6820   4.0  307.0   \n",
       "27    0.95577   0.0   8.14   0.0  0.538  6.047   88.8  4.4534   4.0  307.0   \n",
       "28    0.77299   0.0   8.14   0.0  0.538  6.495   94.4  4.4547   4.0  307.0   \n",
       "29    1.00245   0.0   8.14   0.0  0.538  6.674   87.3  4.2390   4.0  307.0   \n",
       "..        ...   ...    ...   ...    ...    ...    ...     ...   ...    ...   \n",
       "476   4.87141   0.0  18.10   0.0  0.614  6.484   93.6  2.3053  24.0  666.0   \n",
       "477  15.02340   0.0  18.10   0.0  0.614  5.304   97.3  2.1007  24.0  666.0   \n",
       "478  10.23300   0.0  18.10   0.0  0.614  6.185   96.7  2.1705  24.0  666.0   \n",
       "479  14.33370   0.0  18.10   0.0  0.614  6.229   88.0  1.9512  24.0  666.0   \n",
       "480   5.82401   0.0  18.10   0.0  0.532  6.242   64.7  3.4242  24.0  666.0   \n",
       "481   5.70818   0.0  18.10   0.0  0.532  6.750   74.9  3.3317  24.0  666.0   \n",
       "482   5.73116   0.0  18.10   0.0  0.532  7.061   77.0  3.4106  24.0  666.0   \n",
       "483   2.81838   0.0  18.10   0.0  0.532  5.762   40.3  4.0983  24.0  666.0   \n",
       "484   2.37857   0.0  18.10   0.0  0.583  5.871   41.9  3.7240  24.0  666.0   \n",
       "485   3.67367   0.0  18.10   0.0  0.583  6.312   51.9  3.9917  24.0  666.0   \n",
       "486   5.69175   0.0  18.10   0.0  0.583  6.114   79.8  3.5459  24.0  666.0   \n",
       "487   4.83567   0.0  18.10   0.0  0.583  5.905   53.2  3.1523  24.0  666.0   \n",
       "488   0.15086   0.0  27.74   0.0  0.609  5.454   92.7  1.8209   4.0  711.0   \n",
       "489   0.18337   0.0  27.74   0.0  0.609  5.414   98.3  1.7554   4.0  711.0   \n",
       "490   0.20746   0.0  27.74   0.0  0.609  5.093   98.0  1.8226   4.0  711.0   \n",
       "491   0.10574   0.0  27.74   0.0  0.609  5.983   98.8  1.8681   4.0  711.0   \n",
       "492   0.11132   0.0  27.74   0.0  0.609  5.983   83.5  2.1099   4.0  711.0   \n",
       "493   0.17331   0.0   9.69   0.0  0.585  5.707   54.0  2.3817   6.0  391.0   \n",
       "494   0.27957   0.0   9.69   0.0  0.585  5.926   42.6  2.3817   6.0  391.0   \n",
       "495   0.17899   0.0   9.69   0.0  0.585  5.670   28.8  2.7986   6.0  391.0   \n",
       "496   0.28960   0.0   9.69   0.0  0.585  5.390   72.9  2.7986   6.0  391.0   \n",
       "497   0.26838   0.0   9.69   0.0  0.585  5.794   70.6  2.8927   6.0  391.0   \n",
       "498   0.23912   0.0   9.69   0.0  0.585  6.019   65.3  2.4091   6.0  391.0   \n",
       "499   0.17783   0.0   9.69   0.0  0.585  5.569   73.5  2.3999   6.0  391.0   \n",
       "500   0.22438   0.0   9.69   0.0  0.585  6.027   79.7  2.4982   6.0  391.0   \n",
       "501   0.06263   0.0  11.93   0.0  0.573  6.593   69.1  2.4786   1.0  273.0   \n",
       "502   0.04527   0.0  11.93   0.0  0.573  6.120   76.7  2.2875   1.0  273.0   \n",
       "503   0.06076   0.0  11.93   0.0  0.573  6.976   91.0  2.1675   1.0  273.0   \n",
       "504   0.10959   0.0  11.93   0.0  0.573  6.794   89.3  2.3889   1.0  273.0   \n",
       "505   0.04741   0.0  11.93   0.0  0.573  6.030   80.8  2.5050   1.0  273.0   \n",
       "\n",
       "     PTRATIO       B  LSTAT  \n",
       "0       15.3  396.90   4.98  \n",
       "1       17.8  396.90   9.14  \n",
       "2       17.8  392.83   4.03  \n",
       "3       18.7  394.63   2.94  \n",
       "4       18.7  396.90   5.33  \n",
       "5       18.7  394.12   5.21  \n",
       "6       15.2  395.60  12.43  \n",
       "7       15.2  396.90  19.15  \n",
       "8       15.2  386.63  29.93  \n",
       "9       15.2  386.71  17.10  \n",
       "10      15.2  392.52  20.45  \n",
       "11      15.2  396.90  13.27  \n",
       "12      15.2  390.50  15.71  \n",
       "13      21.0  396.90   8.26  \n",
       "14      21.0  380.02  10.26  \n",
       "15      21.0  395.62   8.47  \n",
       "16      21.0  386.85   6.58  \n",
       "17      21.0  386.75  14.67  \n",
       "18      21.0  288.99  11.69  \n",
       "19      21.0  390.95  11.28  \n",
       "20      21.0  376.57  21.02  \n",
       "21      21.0  392.53  13.83  \n",
       "22      21.0  396.90  18.72  \n",
       "23      21.0  394.54  19.88  \n",
       "24      21.0  394.33  16.30  \n",
       "25      21.0  303.42  16.51  \n",
       "26      21.0  376.88  14.81  \n",
       "27      21.0  306.38  17.28  \n",
       "28      21.0  387.94  12.80  \n",
       "29      21.0  380.23  11.98  \n",
       "..       ...     ...    ...  \n",
       "476     20.2  396.21  18.68  \n",
       "477     20.2  349.48  24.91  \n",
       "478     20.2  379.70  18.03  \n",
       "479     20.2  383.32  13.11  \n",
       "480     20.2  396.90  10.74  \n",
       "481     20.2  393.07   7.74  \n",
       "482     20.2  395.28   7.01  \n",
       "483     20.2  392.92  10.42  \n",
       "484     20.2  370.73  13.34  \n",
       "485     20.2  388.62  10.58  \n",
       "486     20.2  392.68  14.98  \n",
       "487     20.2  388.22  11.45  \n",
       "488     20.1  395.09  18.06  \n",
       "489     20.1  344.05  23.97  \n",
       "490     20.1  318.43  29.68  \n",
       "491     20.1  390.11  18.07  \n",
       "492     20.1  396.90  13.35  \n",
       "493     19.2  396.90  12.01  \n",
       "494     19.2  396.90  13.59  \n",
       "495     19.2  393.29  17.60  \n",
       "496     19.2  396.90  21.14  \n",
       "497     19.2  396.90  14.10  \n",
       "498     19.2  396.90  12.92  \n",
       "499     19.2  395.77  15.10  \n",
       "500     19.2  396.90  14.33  \n",
       "501     21.0  391.99   9.67  \n",
       "502     21.0  396.90   9.08  \n",
       "503     21.0  396.90   5.64  \n",
       "504     21.0  393.45   6.48  \n",
       "505     21.0  396.90   7.88  \n",
       "\n",
       "[506 rows x 13 columns]"
      ]
     },
     "execution_count": 8,
     "metadata": {},
     "output_type": "execute_result"
    }
   ],
   "source": [
    "feature"
   ]
  },
  {
   "cell_type": "code",
   "execution_count": 9,
   "metadata": {},
   "outputs": [],
   "source": [
    "feature['Target'] = boston.target\n",
    "corr = feature.corr()"
   ]
  },
  {
   "cell_type": "code",
   "execution_count": 10,
   "metadata": {},
   "outputs": [
    {
     "data": {
      "text/html": [
       "<div>\n",
       "<style scoped>\n",
       "    .dataframe tbody tr th:only-of-type {\n",
       "        vertical-align: middle;\n",
       "    }\n",
       "\n",
       "    .dataframe tbody tr th {\n",
       "        vertical-align: top;\n",
       "    }\n",
       "\n",
       "    .dataframe thead th {\n",
       "        text-align: right;\n",
       "    }\n",
       "</style>\n",
       "<table border=\"1\" class=\"dataframe\">\n",
       "  <thead>\n",
       "    <tr style=\"text-align: right;\">\n",
       "      <th></th>\n",
       "      <th>CRIM</th>\n",
       "      <th>ZN</th>\n",
       "      <th>INDUS</th>\n",
       "      <th>CHAS</th>\n",
       "      <th>NOX</th>\n",
       "      <th>RM</th>\n",
       "      <th>AGE</th>\n",
       "      <th>DIS</th>\n",
       "      <th>RAD</th>\n",
       "      <th>TAX</th>\n",
       "      <th>PTRATIO</th>\n",
       "      <th>B</th>\n",
       "      <th>LSTAT</th>\n",
       "      <th>Target</th>\n",
       "    </tr>\n",
       "  </thead>\n",
       "  <tbody>\n",
       "    <tr>\n",
       "      <th>CRIM</th>\n",
       "      <td>1.000000</td>\n",
       "      <td>-0.200469</td>\n",
       "      <td>0.406583</td>\n",
       "      <td>-0.055892</td>\n",
       "      <td>0.420972</td>\n",
       "      <td>-0.219247</td>\n",
       "      <td>0.352734</td>\n",
       "      <td>-0.379670</td>\n",
       "      <td>0.625505</td>\n",
       "      <td>0.582764</td>\n",
       "      <td>0.289946</td>\n",
       "      <td>-0.385064</td>\n",
       "      <td>0.455621</td>\n",
       "      <td>-0.388305</td>\n",
       "    </tr>\n",
       "    <tr>\n",
       "      <th>ZN</th>\n",
       "      <td>-0.200469</td>\n",
       "      <td>1.000000</td>\n",
       "      <td>-0.533828</td>\n",
       "      <td>-0.042697</td>\n",
       "      <td>-0.516604</td>\n",
       "      <td>0.311991</td>\n",
       "      <td>-0.569537</td>\n",
       "      <td>0.664408</td>\n",
       "      <td>-0.311948</td>\n",
       "      <td>-0.314563</td>\n",
       "      <td>-0.391679</td>\n",
       "      <td>0.175520</td>\n",
       "      <td>-0.412995</td>\n",
       "      <td>0.360445</td>\n",
       "    </tr>\n",
       "    <tr>\n",
       "      <th>INDUS</th>\n",
       "      <td>0.406583</td>\n",
       "      <td>-0.533828</td>\n",
       "      <td>1.000000</td>\n",
       "      <td>0.062938</td>\n",
       "      <td>0.763651</td>\n",
       "      <td>-0.391676</td>\n",
       "      <td>0.644779</td>\n",
       "      <td>-0.708027</td>\n",
       "      <td>0.595129</td>\n",
       "      <td>0.720760</td>\n",
       "      <td>0.383248</td>\n",
       "      <td>-0.356977</td>\n",
       "      <td>0.603800</td>\n",
       "      <td>-0.483725</td>\n",
       "    </tr>\n",
       "    <tr>\n",
       "      <th>CHAS</th>\n",
       "      <td>-0.055892</td>\n",
       "      <td>-0.042697</td>\n",
       "      <td>0.062938</td>\n",
       "      <td>1.000000</td>\n",
       "      <td>0.091203</td>\n",
       "      <td>0.091251</td>\n",
       "      <td>0.086518</td>\n",
       "      <td>-0.099176</td>\n",
       "      <td>-0.007368</td>\n",
       "      <td>-0.035587</td>\n",
       "      <td>-0.121515</td>\n",
       "      <td>0.048788</td>\n",
       "      <td>-0.053929</td>\n",
       "      <td>0.175260</td>\n",
       "    </tr>\n",
       "    <tr>\n",
       "      <th>NOX</th>\n",
       "      <td>0.420972</td>\n",
       "      <td>-0.516604</td>\n",
       "      <td>0.763651</td>\n",
       "      <td>0.091203</td>\n",
       "      <td>1.000000</td>\n",
       "      <td>-0.302188</td>\n",
       "      <td>0.731470</td>\n",
       "      <td>-0.769230</td>\n",
       "      <td>0.611441</td>\n",
       "      <td>0.668023</td>\n",
       "      <td>0.188933</td>\n",
       "      <td>-0.380051</td>\n",
       "      <td>0.590879</td>\n",
       "      <td>-0.427321</td>\n",
       "    </tr>\n",
       "    <tr>\n",
       "      <th>RM</th>\n",
       "      <td>-0.219247</td>\n",
       "      <td>0.311991</td>\n",
       "      <td>-0.391676</td>\n",
       "      <td>0.091251</td>\n",
       "      <td>-0.302188</td>\n",
       "      <td>1.000000</td>\n",
       "      <td>-0.240265</td>\n",
       "      <td>0.205246</td>\n",
       "      <td>-0.209847</td>\n",
       "      <td>-0.292048</td>\n",
       "      <td>-0.355501</td>\n",
       "      <td>0.128069</td>\n",
       "      <td>-0.613808</td>\n",
       "      <td>0.695360</td>\n",
       "    </tr>\n",
       "    <tr>\n",
       "      <th>AGE</th>\n",
       "      <td>0.352734</td>\n",
       "      <td>-0.569537</td>\n",
       "      <td>0.644779</td>\n",
       "      <td>0.086518</td>\n",
       "      <td>0.731470</td>\n",
       "      <td>-0.240265</td>\n",
       "      <td>1.000000</td>\n",
       "      <td>-0.747881</td>\n",
       "      <td>0.456022</td>\n",
       "      <td>0.506456</td>\n",
       "      <td>0.261515</td>\n",
       "      <td>-0.273534</td>\n",
       "      <td>0.602339</td>\n",
       "      <td>-0.376955</td>\n",
       "    </tr>\n",
       "    <tr>\n",
       "      <th>DIS</th>\n",
       "      <td>-0.379670</td>\n",
       "      <td>0.664408</td>\n",
       "      <td>-0.708027</td>\n",
       "      <td>-0.099176</td>\n",
       "      <td>-0.769230</td>\n",
       "      <td>0.205246</td>\n",
       "      <td>-0.747881</td>\n",
       "      <td>1.000000</td>\n",
       "      <td>-0.494588</td>\n",
       "      <td>-0.534432</td>\n",
       "      <td>-0.232471</td>\n",
       "      <td>0.291512</td>\n",
       "      <td>-0.496996</td>\n",
       "      <td>0.249929</td>\n",
       "    </tr>\n",
       "    <tr>\n",
       "      <th>RAD</th>\n",
       "      <td>0.625505</td>\n",
       "      <td>-0.311948</td>\n",
       "      <td>0.595129</td>\n",
       "      <td>-0.007368</td>\n",
       "      <td>0.611441</td>\n",
       "      <td>-0.209847</td>\n",
       "      <td>0.456022</td>\n",
       "      <td>-0.494588</td>\n",
       "      <td>1.000000</td>\n",
       "      <td>0.910228</td>\n",
       "      <td>0.464741</td>\n",
       "      <td>-0.444413</td>\n",
       "      <td>0.488676</td>\n",
       "      <td>-0.381626</td>\n",
       "    </tr>\n",
       "    <tr>\n",
       "      <th>TAX</th>\n",
       "      <td>0.582764</td>\n",
       "      <td>-0.314563</td>\n",
       "      <td>0.720760</td>\n",
       "      <td>-0.035587</td>\n",
       "      <td>0.668023</td>\n",
       "      <td>-0.292048</td>\n",
       "      <td>0.506456</td>\n",
       "      <td>-0.534432</td>\n",
       "      <td>0.910228</td>\n",
       "      <td>1.000000</td>\n",
       "      <td>0.460853</td>\n",
       "      <td>-0.441808</td>\n",
       "      <td>0.543993</td>\n",
       "      <td>-0.468536</td>\n",
       "    </tr>\n",
       "    <tr>\n",
       "      <th>PTRATIO</th>\n",
       "      <td>0.289946</td>\n",
       "      <td>-0.391679</td>\n",
       "      <td>0.383248</td>\n",
       "      <td>-0.121515</td>\n",
       "      <td>0.188933</td>\n",
       "      <td>-0.355501</td>\n",
       "      <td>0.261515</td>\n",
       "      <td>-0.232471</td>\n",
       "      <td>0.464741</td>\n",
       "      <td>0.460853</td>\n",
       "      <td>1.000000</td>\n",
       "      <td>-0.177383</td>\n",
       "      <td>0.374044</td>\n",
       "      <td>-0.507787</td>\n",
       "    </tr>\n",
       "    <tr>\n",
       "      <th>B</th>\n",
       "      <td>-0.385064</td>\n",
       "      <td>0.175520</td>\n",
       "      <td>-0.356977</td>\n",
       "      <td>0.048788</td>\n",
       "      <td>-0.380051</td>\n",
       "      <td>0.128069</td>\n",
       "      <td>-0.273534</td>\n",
       "      <td>0.291512</td>\n",
       "      <td>-0.444413</td>\n",
       "      <td>-0.441808</td>\n",
       "      <td>-0.177383</td>\n",
       "      <td>1.000000</td>\n",
       "      <td>-0.366087</td>\n",
       "      <td>0.333461</td>\n",
       "    </tr>\n",
       "    <tr>\n",
       "      <th>LSTAT</th>\n",
       "      <td>0.455621</td>\n",
       "      <td>-0.412995</td>\n",
       "      <td>0.603800</td>\n",
       "      <td>-0.053929</td>\n",
       "      <td>0.590879</td>\n",
       "      <td>-0.613808</td>\n",
       "      <td>0.602339</td>\n",
       "      <td>-0.496996</td>\n",
       "      <td>0.488676</td>\n",
       "      <td>0.543993</td>\n",
       "      <td>0.374044</td>\n",
       "      <td>-0.366087</td>\n",
       "      <td>1.000000</td>\n",
       "      <td>-0.737663</td>\n",
       "    </tr>\n",
       "    <tr>\n",
       "      <th>Target</th>\n",
       "      <td>-0.388305</td>\n",
       "      <td>0.360445</td>\n",
       "      <td>-0.483725</td>\n",
       "      <td>0.175260</td>\n",
       "      <td>-0.427321</td>\n",
       "      <td>0.695360</td>\n",
       "      <td>-0.376955</td>\n",
       "      <td>0.249929</td>\n",
       "      <td>-0.381626</td>\n",
       "      <td>-0.468536</td>\n",
       "      <td>-0.507787</td>\n",
       "      <td>0.333461</td>\n",
       "      <td>-0.737663</td>\n",
       "      <td>1.000000</td>\n",
       "    </tr>\n",
       "  </tbody>\n",
       "</table>\n",
       "</div>"
      ],
      "text/plain": [
       "             CRIM        ZN     INDUS      CHAS       NOX        RM       AGE  \\\n",
       "CRIM     1.000000 -0.200469  0.406583 -0.055892  0.420972 -0.219247  0.352734   \n",
       "ZN      -0.200469  1.000000 -0.533828 -0.042697 -0.516604  0.311991 -0.569537   \n",
       "INDUS    0.406583 -0.533828  1.000000  0.062938  0.763651 -0.391676  0.644779   \n",
       "CHAS    -0.055892 -0.042697  0.062938  1.000000  0.091203  0.091251  0.086518   \n",
       "NOX      0.420972 -0.516604  0.763651  0.091203  1.000000 -0.302188  0.731470   \n",
       "RM      -0.219247  0.311991 -0.391676  0.091251 -0.302188  1.000000 -0.240265   \n",
       "AGE      0.352734 -0.569537  0.644779  0.086518  0.731470 -0.240265  1.000000   \n",
       "DIS     -0.379670  0.664408 -0.708027 -0.099176 -0.769230  0.205246 -0.747881   \n",
       "RAD      0.625505 -0.311948  0.595129 -0.007368  0.611441 -0.209847  0.456022   \n",
       "TAX      0.582764 -0.314563  0.720760 -0.035587  0.668023 -0.292048  0.506456   \n",
       "PTRATIO  0.289946 -0.391679  0.383248 -0.121515  0.188933 -0.355501  0.261515   \n",
       "B       -0.385064  0.175520 -0.356977  0.048788 -0.380051  0.128069 -0.273534   \n",
       "LSTAT    0.455621 -0.412995  0.603800 -0.053929  0.590879 -0.613808  0.602339   \n",
       "Target  -0.388305  0.360445 -0.483725  0.175260 -0.427321  0.695360 -0.376955   \n",
       "\n",
       "              DIS       RAD       TAX   PTRATIO         B     LSTAT    Target  \n",
       "CRIM    -0.379670  0.625505  0.582764  0.289946 -0.385064  0.455621 -0.388305  \n",
       "ZN       0.664408 -0.311948 -0.314563 -0.391679  0.175520 -0.412995  0.360445  \n",
       "INDUS   -0.708027  0.595129  0.720760  0.383248 -0.356977  0.603800 -0.483725  \n",
       "CHAS    -0.099176 -0.007368 -0.035587 -0.121515  0.048788 -0.053929  0.175260  \n",
       "NOX     -0.769230  0.611441  0.668023  0.188933 -0.380051  0.590879 -0.427321  \n",
       "RM       0.205246 -0.209847 -0.292048 -0.355501  0.128069 -0.613808  0.695360  \n",
       "AGE     -0.747881  0.456022  0.506456  0.261515 -0.273534  0.602339 -0.376955  \n",
       "DIS      1.000000 -0.494588 -0.534432 -0.232471  0.291512 -0.496996  0.249929  \n",
       "RAD     -0.494588  1.000000  0.910228  0.464741 -0.444413  0.488676 -0.381626  \n",
       "TAX     -0.534432  0.910228  1.000000  0.460853 -0.441808  0.543993 -0.468536  \n",
       "PTRATIO -0.232471  0.464741  0.460853  1.000000 -0.177383  0.374044 -0.507787  \n",
       "B        0.291512 -0.444413 -0.441808 -0.177383  1.000000 -0.366087  0.333461  \n",
       "LSTAT   -0.496996  0.488676  0.543993  0.374044 -0.366087  1.000000 -0.737663  \n",
       "Target   0.249929 -0.381626 -0.468536 -0.507787  0.333461 -0.737663  1.000000  "
      ]
     },
     "execution_count": 10,
     "metadata": {},
     "output_type": "execute_result"
    }
   ],
   "source": [
    "corr"
   ]
  },
  {
   "cell_type": "code",
   "execution_count": 11,
   "metadata": {},
   "outputs": [],
   "source": [
    "corrs = [abs(corr[i]['Target']) for i in feature]"
   ]
  },
  {
   "cell_type": "code",
   "execution_count": 12,
   "metadata": {},
   "outputs": [],
   "source": [
    "l = list(zip(corrs,feature))"
   ]
  },
  {
   "cell_type": "code",
   "execution_count": 13,
   "metadata": {},
   "outputs": [],
   "source": [
    "l.sort(reverse=True)\n",
    "l = l[1:]"
   ]
  },
  {
   "cell_type": "code",
   "execution_count": 14,
   "metadata": {},
   "outputs": [],
   "source": [
    "corrs,labels = list(zip(*l))"
   ]
  },
  {
   "cell_type": "code",
   "execution_count": 15,
   "metadata": {},
   "outputs": [
    {
     "data": {
      "text/plain": [
       "([<matplotlib.axis.XTick at 0x26107e3b7f0>,\n",
       "  <matplotlib.axis.XTick at 0x26107e3b198>,\n",
       "  <matplotlib.axis.XTick at 0x26107e0ae80>,\n",
       "  <matplotlib.axis.XTick at 0x26107ea1208>,\n",
       "  <matplotlib.axis.XTick at 0x26107ea1668>,\n",
       "  <matplotlib.axis.XTick at 0x26107ea19e8>,\n",
       "  <matplotlib.axis.XTick at 0x26107ea1f60>,\n",
       "  <matplotlib.axis.XTick at 0x26107eaf518>,\n",
       "  <matplotlib.axis.XTick at 0x26107eafa90>,\n",
       "  <matplotlib.axis.XTick at 0x26107eb70b8>,\n",
       "  <matplotlib.axis.XTick at 0x26107eb75c0>,\n",
       "  <matplotlib.axis.XTick at 0x26107eb7b38>,\n",
       "  <matplotlib.axis.XTick at 0x26107ebd160>],\n",
       " <a list of 13 Text xticklabel objects>)"
      ]
     },
     "execution_count": 15,
     "metadata": {},
     "output_type": "execute_result"
    },
    {
     "data": {
      "image/png": "[encoded data removed]",
      "text/plain": [
       "<Figure size 1152x432 with 1 Axes>"
      ]
     },
     "metadata": {
      "needs_background": "light"
     },
     "output_type": "display_data"
    }
   ],
   "source": [
    "index = np.arange(len(labels))\n",
    "plt.figure(figsize=(16,6))\n",
    "plt.bar(index,corrs,width=0.5)\n",
    "plt.xlabel('Attribute')\n",
    "plt.ylabel('Coefficient')\n",
    "plt.xticks(index,labels)"
   ]
  },
  {
   "cell_type": "code",
   "execution_count": 16,
   "metadata": {},
   "outputs": [],
   "source": [
    "X = df['LSTAT'].values\n",
    "Y = df['Target'].values"
   ]
  },
  {
   "cell_type": "code",
   "execution_count": 17,
   "metadata": {},
   "outputs": [
    {
     "name": "stdout",
     "output_type": "stream",
     "text": [
      "[24.  21.6 34.7 33.4 36.2]\n"
     ]
    }
   ],
   "source": [
    "print(Y[:5])"
   ]
  },
  {
   "cell_type": "code",
   "execution_count": 18,
   "metadata": {},
   "outputs": [],
   "source": [
    "x_scaler = MinMaxScaler()\n",
    "X = x_scaler.fit_transform(X.reshape(-1,1))\n",
    "X=X[:,-1]\n",
    "y_scaler = MinMaxScaler()\n",
    "Y = y_scaler.fit_transform(Y.reshape(-1,1))\n",
    "Y=Y[:,-1]"
   ]
  },
  {
   "cell_type": "code",
   "execution_count": 19,
   "metadata": {},
   "outputs": [
    {
     "name": "stdout",
     "output_type": "stream",
     "text": [
      "[0.42222222 0.36888889 0.66       0.63111111 0.69333333]\n"
     ]
    }
   ],
   "source": [
    "print(Y[:5])"
   ]
  },
  {
   "cell_type": "code",
   "execution_count": 20,
   "metadata": {},
   "outputs": [],
   "source": [
    "xtrain, xtest, ytrain, ytest = train_test_split(X,Y,test_size=0.2)"
   ]
  },
  {
   "cell_type": "code",
   "execution_count": 21,
   "metadata": {},
   "outputs": [],
   "source": [
    "def error(m,x,c,t):\n",
    "    N = x.size\n",
    "    e = sum(((m*x+c)-t)**2)\n",
    "    return e*1/(2*N)"
   ]
  },
  {
   "cell_type": "code",
   "execution_count": 22,
   "metadata": {},
   "outputs": [],
   "source": [
    "def update(m,x,c,t,learning_rate):\n",
    "    grad_m = sum(2*((m*x+c)-t)*x)\n",
    "    grad_c = sum(2*((m*x+c)-t))\n",
    "    m = m-grad_m*learning_rate\n",
    "    c = c-grad_c*learning_rate\n",
    "    return m,c"
   ]
  },
  {
   "cell_type": "code",
   "execution_count": 23,
   "metadata": {},
   "outputs": [],
   "source": [
    "def gredient_descent(init_m,init_c,x,t,learning_rate,iterations,error_threshold):\n",
    "    m = init_m\n",
    "    c = init_c\n",
    "    error_values = list()\n",
    "    mc_values = list()\n",
    "    for i in range(iterations):\n",
    "        e = error(m,x,c,t)\n",
    "        if e<error_threshold:\n",
    "            print('Error less than threshold, Stopping the Gredient Descent')\n",
    "            break\n",
    "        error_values.append(e)\n",
    "        m,c = update(m,x,c,t,learning_rate)\n",
    "        mc_values.append((m,c))\n",
    "    return m,c,error_values,mc_values"
   ]
  },
  {
   "cell_type": "code",
   "execution_count": 24,
   "metadata": {},
   "outputs": [
    {
     "name": "stdout",
     "output_type": "stream",
     "text": [
      "Wall time: 66.7 ms\n"
     ]
    }
   ],
   "source": [
    "%%time\n",
    "init_m = 0.9\n",
    "init_c = 0\n",
    "learning_rate = 0.001\n",
    "iterations = 250\n",
    "error_threshold = 0.001\n",
    "\n",
    "m,c,error_values,mc_values = gredient_descent(init_m,init_c,xtrain,ytrain,learning_rate,iterations,error_threshold)"
   ]
  },
  {
   "cell_type": "code",
   "execution_count": 25,
   "metadata": {},
   "outputs": [
    {
     "data": {
      "text/plain": [
       "[<matplotlib.lines.Line2D at 0x26107e0a9b0>]"
      ]
     },
     "execution_count": 25,
     "metadata": {},
     "output_type": "execute_result"
    },
    {
     "data": {
      "image/png": "[encoded data removed]",
      "text/plain": [
       "<Figure size 432x288 with 1 Axes>"
      ]
     },
     "metadata": {
      "needs_background": "light"
     },
     "output_type": "display_data"
    }
   ],
   "source": [
    "plt.scatter(xtrain,ytrain,color='b')\n",
    "plt.plot(xtrain,(m*xtrain+c),color='r')"
   ]
  },
  {
   "cell_type": "code",
   "execution_count": 26,
   "metadata": {},
   "outputs": [
    {
     "data": {
      "text/plain": [
       "Text(0.5, 0, 'Iterations')"
      ]
     },
     "execution_count": 26,
     "metadata": {},
     "output_type": "execute_result"
    },
    {
     "data": {
      "image/png": "[encoded data removed]",
      "text/plain": [
       "<Figure size 432x288 with 1 Axes>"
      ]
     },
     "metadata": {
      "needs_background": "light"
     },
     "output_type": "display_data"
    }
   ],
   "source": [
    "plt.plot(np.arange(len(error_values)), error_values)\n",
    "plt.ylabel('Error')\n",
    "plt.xlabel('Iterations')"
   ]
  },
  {
   "cell_type": "code",
   "execution_count": 27,
   "metadata": {},
   "outputs": [],
   "source": [
    "mc_values_anim = mc_values[:250:5]\n"
   ]
  },
  {
   "cell_type": "code",
   "execution_count": 28,
   "metadata": {
    "scrolled": true
   },
   "outputs": [
    {
     "data": {
      "text/html": [
       "<video width=\"432\" height=\"288\" controls autoplay loop>\n",
       "  <source type=\"video/mp4\" src=\"data:video/mp4;base64,AAAAHGZ0eXBNNFYgAAACAGlzb21pc28yYXZjMQAAAAhmcmVlAACYbm1kYXQAAAKtBgX//6ncRem9\n",
       "5tlIt5Ys2CDZI+7veDI2NCAtIGNvcmUgMTU3IHIyOTcwIDU0OTNiZTggLSBILjI2NC9NUEVHLTQg\n",
       "QVZDIGNvZGVjIC0gQ29weWxlZnQgMjAwMy0yMDE5IC0gaHR0cDovL3d3dy52aWRlb2xhbi5vcmcv\n",
       "eDI2NC5odG1sIC0gb3B0aW9uczogY2FiYWM9MSByZWY9MyBkZWJsb2NrPTE6MDowIGFuYWx5c2U9\n",
       "MHgzOjB4MTEzIG1lPWhleCBzdWJtZT03IHBzeT0xIHBzeV9yZD0xLjAwOjAuMDAgbWl4ZWRfcmVm\n",
       "PTEgbWVfcmFuZ2U9MTYgY2hyb21hX21lPTEgdHJlbGxpcz0xIDh4OGRjdD0xIGNxbT0wIGRlYWR6\n",
       "b25lPTIxLDExIGZhc3RfcHNraXA9MSBjaHJvbWFfcXBfb2Zmc2V0PS0yIHRocmVhZHM9OSBsb29r\n",
       "YWhlYWRfdGhyZWFkcz0xIHNsaWNlZF90aHJlYWRzPTAgbnI9MCBkZWNpbWF0ZT0xIGludGVybGFj\n",
       "ZWQ9MCBibHVyYXlfY29tcGF0PTAgY29uc3RyYWluZWRfaW50cmE9MCBiZnJhbWVzPTMgYl9weXJh\n",
       "bWlkPTIgYl9hZGFwdD0xIGJfYmlhcz0wIGRpcmVjdD0xIHdlaWdodGI9MSBvcGVuX2dvcD0wIHdl\n",
       "aWdodHA9MiBrZXlpbnQ9MjUwIGtleWludF9taW49NSBzY2VuZWN1dD00MCBpbnRyYV9yZWZyZXNo\n",
       "PTAgcmNfbG9va2FoZWFkPTQwIHJjPWNyZiBtYnRyZWU9MSBjcmY9MjMuMCBxY29tcD0wLjYwIHFw\n",
       "bWluPTAgcXBtYXg9NjkgcXBzdGVwPTQgaXBfcmF0aW89MS40MCBhcT0xOjEuMDAAgAAAKlRliIQA\n",
       "E//+97GPgU3IAA2XOop6H+EVsfSQUXqx2aBk6gAAAwAAiYH638JRwsQHwht3BudId0Uq2fQAIbty\n",
       "qmwF8gX0LLzk2vyiTGtHdrlUU0pvR9E1IWLAAGdLElzm0F+YKb0MJhE+T2NumtX7TTF8pigVhe0e\n",
       "r977kTqG3rWhSuI4WldWhyiZMW2mxwklk9u21aQfI9z5IAfMeVsOBUy1uwbG8h/WElj0WVRbXaKv\n",
       "rbyuwgFqRnkCjflev4CGJf1t2v3BWpVmrD7xDTSglb7oM29E8986SS/fA0VYjtl7nwsAUdmLcEO+\n",
       "cRcTF3Cs5MilWAShOb2Gm2Gyq7cghlMq5fAo+5hyjB61vFETrHWuQq6L6piFt0b8V5F8FBw/Lnmb\n",
       "S81yrrzhlsf/ncoPrA5LaWa0rmsO7wae2uxBG9rnW1S5Gypo106pQ2NQVh2C4L5/i0fQWy0PvCz1\n",
       "x5gpUNK4561NxCKc/LfN6dEAr4adS2xjYJekMXYO9GiciPxj3+GnLk/lkNXAiZij9hYDa112lhmp\n",
       "8E9rYhhghmKN6yitImQq8QkpKA94PMm/9AvjLXswFHGCp2CQXRcergFv07YKCIE66adMnbBgeL/c\n",
       "awS9Y206xHnqflibtXfEcJPr9g87aOIzpxsyMTBDVfrZsknHLLBwyDGS5EY+NyKngMCWU5qNiCHB\n",
       "1Nuhlf/sAbEyBJB70luZeG8lYnlNdRFhKth8N3Ctmbh52+vtPlhzCxy956DtE4Buf8gPdukKFAcK\n",
       "x+BBgK6XMM+5iY4crUwDTvJwDjQvMcGJ3ERilCpsPPFjKWeis9A+Z0NZbqIOac4BdP1Cwcz3hvZ9\n",
       "1FFNSp/gXxAJ4oWSGnwZGDD7CYzg/cV5HZHts9VuGILMyv1c1pUN0gIfP0C9Mhjp1dVP4jkQjo6J\n",
       "uvMcUIA4PKsAitEn1LmIZIwEaCcNR5h/oNxyPkrCDXX2Lg5k8jgw/SOXF9od5g//bH65qquJ8Z/a\n",
       "KYyXGAe5FBK3rMmxjst7I22SLGRd15pLYpGzPjQ+1pnqZBTdoyiEbrgAnOjVg4iiT/HY6Y8v8YnY\n",
       "UP5d70DgUC4huEd/mb51zxyHni6BUDgtFq/YSfzlIr9RFcSubrdZSJj+mYevcZeLzEOMuhgvo3/L\n",
       "Nv3zJeEiX1Y/lAKHgjW+U0JymsyOUgScX+OC4Z2KTynTiAqj3tw3bi6UMSmClYE5zOzndof7ZnRR\n",
       "noGXnHgE3NZwR8PUQIjYaLfb71D0Hbrk6Tb2+OBSVnUVd3vNPzlbF3VGoxg3cwbwpjC2Xa4HIebc\n",
       "u9IFtgb6cxGmfJHwwooAqczP0eLjz/lFR2X3uM9/g39XMQF4WB5ivpfeaHr+Bv3zmD1VfC/PGURA\n",
       "MnTvUSYAarysQpMfEo2yUWvaujZRTYXs6rxyQ4n6dsT/+b1WRZcKDngEw9CNJs7hlzadFywhhmLb\n",
       "wUX0UzII0BfaMFYh+2g0QxQoDaL826CGaiYUSJ1S1NhnMN3HfLPYGD2gj43Gu5qIFfuWr2EOn7U4\n",
       "493SQTFtaD8nX6/7KhSDTWUZ0Uc8QyltmTjn0Ljf2zMI75LMuyWMpMXEQq3t1RCITuXPbZVv7H4a\n",
       "bTpY51nzHa9XS8dkNcH2SjnfojtOate5HrbPjE4iaE4fA1S1whTmJt/1yih7Y5HnIQ12pL8i5YIE\n",
       "CXZ8kf32t5KHw4AJ8X60UBXYNNM8jt2L35LRj6H3V0RD+Rv0AYCEgXBggs/11r/6tcv7Hoz/Orxs\n",
       "O5NMswUlWD/XeXwtw7tEfh7B/N+xngB/ZAurmELt6MD6/W5vH9xk34D3fAPUTFgLNEfWGu6e1Ll8\n",
       "mapbNjEhIOaahMs2Is6Mb3r68VyTHzLXbgCleffw9wKysQG4Qk6yAnW9kAaQDiapVd/JooUMCE3g\n",
       "Brr6b7F41crWmbZR5GTnsceMgNVPAkGnJxdvN0mYmTpeqEn8+6Vvfnphtd3YnouDoqwL5H6r5pfq\n",
       "Gozp3pK0BQQ2XIgnkDDJ6YD9ak7+tfio2P0YysCISc6OT898lmngR8UThvveCmyVLyd36zapGnhB\n",
       "XwhP97w2nq0JG+09YICoCpCgfgEAOrgSCHQE8fYUQE7KcZyC3iIXBMhcEFIVL5Xvka1uTUYxHXgq\n",
       "VZYj1iGEvIIqV07rTjJvpjV/9I/PqT5A3kShn4CT/s+pxY4LzHiGZcNWrUgAauibZyVoCe11FuK6\n",
       "NJUQXckQTzX5U85pLrscHB0BUEgFC/Hg9ULZSXL9gKp9fByOJBSJ6fqSTFU33J/w8lhFBpZhGbsO\n",
       "/l2D/wBVM/Z3YpMHiNz4fVrVgbplosD3TrnnRtj33z7/mP5FbZBqrJcqzgUbpvX8cLqaUuJpjKFl\n",
       "ZLpgZSsPk8G3zFhR7MNujRNxM3S60gDRdeCLSbpic1iNKleox2e8IEVIvQph/jKwdkbutUlgrjHj\n",
       "vLnNmiJOkEqRzldBFFUuW/2j59Ff9b+AgUKE+ckJQvDdMRVPRupY74By9GhaNuh7hQaNLFUfTXLJ\n",
       "4mJgz8qJOzXV3/rkYMBv8KJKHc492kv4hWoPTLZ4dbuWfL4swpyZTyixWu4rimDPmw8eDzM5pgHy\n",
       "9jglCS3C9Fa2h/lFz8pBOvsStamw5hZDNJeuB5+L/uMmnLqbcfLkDL7QtZOejK0LmKquS37fN3lo\n",
       "yVprr/XtFRSTmr9wza2sYVmI82ajqO9FK2TWPWtRAfL1Qk3IFjQmsQGuPylS9QnJqtEhCbYi/ZUx\n",
       "K3R682m3O90SyVjmTU+UB3jOVXHXvQh9YyJIbjDvO7Zh222qJTu70ngOxhIj/I9ESC+ZWwRDzDDd\n",
       "29NyvRh2a5N/G/iG0CQ7s3O5Y7SSsKGiq/VhCJzbCABaA58J1m6KyoGfxnMySyuIDUQBRFVW0Erf\n",
       "i3DwDGKwAk+iDCycOzMKvHzXaxP1+FmSRK7NciakXhL3faTzqoMwkKdHKf+oieECuBJG8SeCxJyz\n",
       "fwTq9cFJGbBpg/MfHAMGgMsPh6xndbV1UU3ZoRAEHmfSHPpIWfbdfIKB507Fjhg7A44Q4tFtNbtK\n",
       "e2A69UVKEDmq8DB5QdrsklR7zblve39v3g8kJD1WbtypC7aMlTMIErQskVu19Pjd2zI2wF0BpBks\n",
       "yewTTrKtVyUNc3Ona4VO2++LxfnJHZ4InqmlTOWiRGaZmsL8cGOKL6DgRYLfYgYaz6zI5d4uI5+u\n",
       "+H7GwyUrSc5LpLTWTnN7kygxUM8At4pXSPGKrB8ctbV4QiovCzjMN7L/BcsfrLDpLVMTvT8Q8nO+\n",
       "2Q+rVPJtwysNC6L2kN1sya//rJrTDbsgm87l3lTlcNyxjSnoy9oN3q/cvW0/EOuAQEWO1mXSVSCl\n",
       "b7U9TB0up9rpkTynARe+nOp2RpOFpPKfBhzqKsQgwaci6d2zuE5VC2/QAFaz1IARzZI73SkuN4gD\n",
       "N31DwRgee++PdSFCpLo5ixrIwo2zBmtdCNesGpAPf1jxrA2W7xCTX3Mmngd5TilHZObZqUBoyBRG\n",
       "3XsQv6Nnchn26+6nhWuzNQSLKApVRJm55H07sj1kMuH1/onGb2xrcXOp2U7GnDsWgte4U2ydS9bc\n",
       "6R9mDIcJkRGJhWqto0QQZNl7Ctraf2tVRqD0j/YBDIFgHSa+E/Y3M6/SjcjvZNUcEmiX2q0SNSe4\n",
       "hUP3Atf2edQZcSnLndBRbMb09S2twJf1hQV3qZsD+KnopCL9bcv/KL5f1o1mA9Cdk/kBOMZ18P0l\n",
       "yzYuS3utLtpakeV35Y/OtZxyp8lzoz7MbTtf+qdYxdK5KNeHnfxnOrrKnmzmtLAycZfe3L6HNNYL\n",
       "ZvkIiH/2bp6YTUt3EghJUH0ndXO5fkm9avsQeDZY9N4WBHgK1N5nJvd9aU4ItHm9dzISV/JjuvhM\n",
       "u0LQik1P8ztChnnWOj7a6mQIdV5U7HLs5bdBwTaCknpoQ71tssytRTTQ29a5kD2E/FId7JFNCvrb\n",
       "ypDGU7mWNH8Xx9WtjEb37uVLy+NPKZ5eXWl81RWmGaV4KZz49AqSbRVBo3LXkg3zuVbUkkaQznyi\n",
       "3uNEUOQ7IgzhiN21mYP3PnwhB1jQhjg6x0UV+/3Ywf6Z+KgCCU2k0dk5JkNfpFufKQz92zDxYCQk\n",
       "ASH/eNdhkrBJ/ZJdU6BIFErjP84jnJ1W2ICOcieP5RUTSGforWAx37UibECikR1bSSUJ6VDbIPxh\n",
       "g/FT/Bjh6dV708moR3w8EHVWxPl4LwMhPq6RR1M3tjV8M5o+xBsQN3gQCdB0VSxQNJqH/AkRdNFS\n",
       "B5f5zmFTWuNuL67ky5GrkdEglHmOXQJUe+6tNQsnWZiBem9fcQv4Md36ohEACkoApH80B0Ht5eKj\n",
       "GCOWvDGm6yaJVqL07Z8jC7urXgn9xNYEBOyJvxvDY8XSt3vL/9x5IPxfZ1F6M4Boh0S0KvJU30ba\n",
       "X6StCWOUgsflsF4JrWGosBOTVaIufS+8usZl8daoDyzUciviOtcPjoa29vtYK34GuDC6mb0bADLE\n",
       "k0STdMF73cXsEAsi0eB51IOmP525Y9t/NnyaGPJdiLKUweHnCjac+A9OIbXkVxlDkiPD6FMNupDF\n",
       "d7pyMJvOBnINYX/0vW8t+mMuLL+0K33VVsnbm+DjMsYaiK3iio/HhsvoNF8mzfZ02j0AaUxkTBoJ\n",
       "QJw59OI7yDD2myjxbBn4Zh6uK9i8b6nXiTOsvgosqlrF0csk/weF1tLet8hHvvdhbt2ZgPpknVmO\n",
       "UmvNr0MNp3dgRtlQatYQllElBpanKrEuD5ZPmrcO/hqtice9JATWXGFBnuyHean29fCXQBbmzYL5\n",
       "qCf/qbRw+XpfvOba9u0ABpVBqLDwSGSHxufJBmEwpz7xi1W+oWtZRPW7N24m42YvyhmrtpkEPjT2\n",
       "8H6PV+ZDqXf+c3GfLBns86lSbBIh0lmm2m3w9BJI08y6/+CT8RzyDAvqCmaUh+mvCtRKbisSxiyT\n",
       "eCP/mVrlUQc6s944LY64FWv4wFnno9WpKoiK7XwWVKC6QyujiUSTtnzx9Z3nwSfRP4CC2hsTY2/j\n",
       "mWCzIsabObGYvA3URqARRbe+jHWz7t3d6/xjh+s+KclWl7J/ky0WYBmTW2SQinfbLiAmHZVILJe+\n",
       "Cd3f6YnUL7mpAcIGp3Knq/+bJterWYKnLCpjvkPHunZLRNrczZ44LEDoIpY1VVY8b2Wkct+Mndxz\n",
       "gB9HAZSHxRSuChR8GNE7Y2/ZwHOGYxka8hpBg0Ru+tiEhrjozFzYlhZO0CAHKUX7jnHwJNROeOCo\n",
       "BLwLP1YzBeQGtvuipvcGwOjrqKdvZK61YavIJ/giyyumtEKTJUx0WSBu5Y4+L9vsXHVzhpUFcWPm\n",
       "nMbhbIF4Kbhoq+2i6u4a0ARo4kQ7lurR0AAO/E5j3sHgHHlmd6Cg6ykzxbpfslFhjdjdZy96sThx\n",
       "DJQdzbXyeU3DFMbwPAz1yaWm1GC70w5pVIXVd0xlgO65WtvKmhhMMr84Jz/hHO/diqgqJHhrIORK\n",
       "cwCNQMEf/7lrjLT/4U22PqSS+7ITPyG2TnNjoUEt/HYRaGM/RWyOAyCNUuAEpz05aney+aiKf28o\n",
       "xH/kMxnd2t7/2ZnQ5YeRvVf4Kygb1USxv3CH+YKKsSgm2itGC08z6jDLqIHqmv5LtbVAvxAMZHfY\n",
       "E3bFa0kRc+xT1RMbGn+9lcsl7h6Trlq/dMQOzEDw6vqEGpwEMWGofPyM9SUMhZOrHnAQtYPxb3my\n",
       "r+8HOz3ZS4hC3WwceXbez4kbcDJ39N83p5IddUhcbkPHZ4ZoysBupRL8KzbddZVL3q78X+YnD37v\n",
       "A8Gw4Ua/lzr0Iu9fmUa/DqjLr+wJ5DLMdLEFaUZAWNtRuOymy4srkwh+KSQqx258ffEHbEj3f4jW\n",
       "iyJDvcrq64zu8p2iDg0mfOA1QqffDVSc9vfBKIp/ghxanZYZpUlE++N9kM78sS9k/cWAhFaYopAS\n",
       "1XXKaoC9h2fRyCAaxvW84bXDPBHv7sSzCs7qDxKqTv5kvdQWkIF1YvSG58wiSXaGIM2rRB4BA3sc\n",
       "WEoKJKUxIAO2YfuXmdjs/+Y6EqmKTXvYbRLi1S6fWraZ/AkV5KmC3AFJ4Km3Zukl2vIDfp4UmLnR\n",
       "tZ2ytvSfdZyUjWetEcpaBVEaJPJim3ri3XVaPKeUjDR/S3DBw1hDX8BoIT1U6FrW89v7a7C3V5Zk\n",
       "0Ynj5r5CkCgF7KiIhr8cau0hynLjMatQPUEjLp1JQYhCfXPNvX0x3dVCOW8k4MjzbOagFPyjvBWM\n",
       "XZxbcvhZmRfDGDk8lBAWTsiD/7QILl5+ce1degyPudTb0eWbkp9IoFL0sqgraSGfVj+iGqKQIuDQ\n",
       "pnmaDKU55JpMucxyjyJrW5hosG3SeygP3z2NWN+Sowy/nwLTrtdsvvyq04U8lmFQ4bg3yzHjAjWX\n",
       "ic+3rVGGPT9bQuc9JpOR9lbuC0LkkXcjlL6EVFxkYICNQPthotnFonfWEFoHjnwgDhW83XIUhRun\n",
       "/6lYFlOxQYMfWrGeGSU/PVOzE0sDztYAG5Qycv9Y6TI9gi+DG0HwVx6VCTe3Y9+Oc5Ajga/lcZZp\n",
       "0YpQAb0FFPcSlQBEJgWiR2djOZFoI+JCbCkRFejhGEsZwURyYbhVNqQsrRaDS0x16Z/sBDBFEIN8\n",
       "QGh8rwOxl+riK8BNiCBZ7fQP947hIpq42nzOKzF72rUe1py6cturCEr6eufK4hiOm1vCv40GOPp1\n",
       "gNyP+mskOAUKym8fXrOe8VwDURn92fSvZHYN5eUMYkiroOClzPFD6Vog1pYgM0ZRGH8caf9qZgJ4\n",
       "VDa4bIZiTFH+ruu93mhUdEJUnsLhh4RLlZ3qE+Y5Sh+Fc0rYkvg9X4ZTRJ9NG+il9FwDVENqL+OY\n",
       "8dFtNSx2FOVd40PZ+04oR34QSx36XzD5eWbH1eKkErd+FQ9olbeAVzwGP6nqUHsHI1q1oa4IA+y8\n",
       "w6fEcABdfErKJCY+GYcvn6W3uTKPd/hP4WEvNan7TQc41IN6fKdAmTSxyF+IYMrdRhRv05+LyZE0\n",
       "KvkR5pEDkXqQ87fIst9Zsyqd+TX8iQMJWxubpHEZtvgy9O8QYDcSlcnzcvomSvyqWHBe96RRUxCq\n",
       "b0QBR9x374RcVZDJqtk18QSPanZQe1x2G9ZYtAsUD3eQ6rYTNhiwQrPydwau/O++Nc9zv9uR8ygW\n",
       "o73Mt5KzIhHkuSI4nV1R7u0mzVeGUz6E6VSBO/8IKeU4LYHrCQM2s2m38gU1j78B00OeLBFryZn6\n",
       "WZxbNm/45y9kBcmV7WKRrLpVwVbEOKNCM10PI0hqqhCGC9jsWz/KrhSYfr7JrY/pBHs1GFv+qSOX\n",
       "aXLXJcJvnz++5WrgOs07rHKEZ9OArmfCO02Rf84/DpCFgoceBIstvKjEmigVl3iyp4MPGDrYq1qm\n",
       "pvkXacjKLAyScFiHv6dZDzCSb7szhqbxr9TXDWaGq3lta4OykXo8d75Aat4G5ew0dtL7AB2Aj25e\n",
       "AOo2UO4ab0fkSe4elO6H+nTMXZZLIZq0xjY8Fjejt7NopGT3mFhskhgRHQqhnXqZa67jQBTEgrRM\n",
       "GISjdVr/SA9PGZQS4tlrDYcsDbqjjAxY3V4SEvVjnjJqgQiMoK9mnu5HmA6wgWDLSe1MeemLubdU\n",
       "lzlGc3/t73AsDZZbLUvhMopMzJNVv/fmKRBkSpWaM6XddjhvYKua2hMCzSh//McCYWd0AZkq1puD\n",
       "bVpuyBOwLh+fViQWjH6/HtqkW0wLor7a0+jniJgpfEfoXMPM9Bpx53jTUrwDldFS5JpuZZxLq0tU\n",
       "pDieOKsAI+6lS4utl5kVXipy5EPwqwujiU7KfC6fSnvFe+xT9g87m95yyu8oTfFpQnZ0PmZlFoJK\n",
       "PHCXVFITdWHLiUjqxL7uyBSGErJ1E8T4SM6ARaX4uxJJq8Sc7xf/ykrkiJba4B+D3GFT519NB//7\n",
       "Hg/ysCCkX1I/UPhhG9JD4fo+CqJZa5NYGouak3pLaecya+LoP54yu8DLbsS2R5Rp+ksJ46GAtDgw\n",
       "QxnNelJ/npr5hzAZkhLqtgjHwPD/ZNT5vmtzG57ZHC9R1AuO7ITpxHGzUYngc5HYrdAPf1yCuldR\n",
       "e0GGwdZR+VyGMLM3wur22rKRL6inok+1IzRb6+/kiOK0deBfEAHP8ubtTf3ESzcR2VAVffMPnkN+\n",
       "h3WEvCSTEnFtq9h6eQ1ABXZQUO/HU5xwuCR4RAQ5UkciWDf8jxcL9DgnaMg6MNvyMs8bDyoRggoB\n",
       "6R7hfnJK8gj8D08LubTgzgyJgj55R5Ylk31vpOSgd0H5kHsaVGwa4u7eSa3M4ttnTucobcg0HcWG\n",
       "6S4xOWtA9RJX8ng7lIT/1TOU2IwDCjpN/fVD5BGrkDGBEqfkdJu0zzPrmEMv5fZcHBuILmA6/xaS\n",
       "uPW7MId8gCjDn4kRlyZNRtDMBftGy+W+BxWSUbUV0Z5qgNrc+MZjV+ZgUafeY91ShfTpd3p7Bchp\n",
       "3+kixDzf/yZ/H/gu5bz4RyZc3xLW0e88rFlgGLvI8fVQlmQfS7UapV7dHk1w2wqyubRCV85FIZl+\n",
       "RgrSxsf7vTo+WOPq/32AaoJLJGJquBMLF3d2Bn7+dEv60UJSCJ89rXdVwLqmD7Wc+c4X3rkGf8ql\n",
       "qT1jmNJflUykjjUrDFXVKg38onYVr1Eh198+KY8DBTo79tKcs8jwAacWj7SZAwGzeXz/1xI76TUK\n",
       "bcNnqGsCMwEOFNwGKfT2760lzLwFbaw+kPm7xJ+JTB7Ae98jM0wa8rQRcgi83eLlTRW/ubpRKowx\n",
       "wKcZ4yoA6zer4Y6V16osuI7xWPsxCCyEA+GUuImDhG0p+fksWxFPtEEYQtgpC1V2EVyGxT1PCLK+\n",
       "Y5e9srN3qIYUUZADw5I1pHv4vNYSHwy7rkceH/NzL93lEykZ85MDCUTTaoGgOJbLCMQXwKa04tWi\n",
       "XELtbCBSmb5lJg7fg5c6d6LZiQ5UsuWThQBZodez4mjKiSxZpLbFLn44AhXG/5zgVDIO02Z72Qnj\n",
       "aCLRT6EkY8Ta+u5BQKWHSSQfrDVRqnGjZorG1nzzW6wVlNZ/VGDrFF8cYP+8do988I0rdx3XenR5\n",
       "QryMYGRoS9yKnRaxsm+bki7l5LTYFpAbzN3YvuvbPVj/njP4Zpz6ybUDX3yrphc38yxBFy2kFcoR\n",
       "9J4z4zyfe2nVyQSuAN25s/M+IqvRSBtr32uSN1VeALCxKKf5ipF29EgLT2qJ6lydIoZL02vq1b0P\n",
       "Ze5vAvMahI8H5/vW+iuvajooZr/0M2sL6jyr9DCHgTXd/nA7oe/F2TPhumwp70T5FvcNFCIjGwN6\n",
       "GDFwhKR4lmRi1qi4TTASgghdI6bLhlAHPOsW8lKe9jtln+T5OLmdC+IZ2XxT/LXzIF1mkowSImgR\n",
       "10D+liy6xbVBZeb2rWNP5za0+D10CxjQA1AKQ4+eUPpwcR0jNyTICw0/Cjm1dkpQiMAL4P5QQBDl\n",
       "pNqyhZF2x/LlgZn9JZa0nT4LLDteoA+zSxMoqCrSn3AhWzk52QOxmO0oF/Xjzo/p1qccHQEr12kW\n",
       "fA+3ygg/WDItyWK//lImoQBUg8C9Ba67ZQEF0jz7y6N07+3fBYpc9MUERDeAMDtXMezPo9lSet3P\n",
       "3GRJ/zTwqYFuOV0iwIudNeaN3sRon0nUWlm5s3ZV6gSv+FuzGopB3vnB311zh6rWLhNjXNgHiJgp\n",
       "BmoGkvPAcZL/nGX4jM4DWY659CUkJifP2N1GZbxxWzqab9wmdueVACW68qMyd/IGPjwyMYYC+bvq\n",
       "zqmgFI7LIJLxVyvRLu9hPTDyE6y2kasKSugEca3LEN/7/SRmtT37JbeULH5ghYMVaACjp4ddJGNX\n",
       "ikT/uR7peGSHHUCbwrM+opOxYpuV67TPl4nTnQWhgLP0PbG6ecF96k+tz04LWOYlvtSwU9DHUmDj\n",
       "c6QEqfLdz3fWTqgf0NsAFwXH+G6gEnDV37U2s6PPU3+8+/8xC9ikKOHloaP6oXgDkZ8U7/XJHu+J\n",
       "Ge3R+XL+akxnaMBuJ/jfubUuIJvNIYmQU9sAHsufN+nEuzj8juS6CSUOrGZKyWlTvsYVvjoWb2Wt\n",
       "KnN262tK+JZYCM1fj4kLn9qr3XoiA2cK+BDLlae9+iJbmCFUkXNuLRCN3aeXmYYM10VvdrZfmGgm\n",
       "Jv1BFzhGYBqDjsOIK8qqBoh+6C4ZjN9v94jXvgg05rNQzccJY8l+rOnWbPTrjk8nbgELLmTyfO1B\n",
       "b5Ds/dXH+Ih5kT5OlOtZ9tcX/aI5UAlOjK9MR0nUzzF/luQh7yU9mfkONNiqTqWzmnJAyrJ3/4tK\n",
       "zR2S6AvatBR/yQl4xBX2QnfQiqSwpYesH6UZ7nJwRFZwtUJ8SwJ2HU0UVOGdIyZ2JqAI72S4E/uV\n",
       "fsacmwvf9yGggcI0tqKiryeZ6wcuwRaBNoAsUSzvqsNZBNMGuZuMzcy6wdjQi0HiCkX74qHsLHhV\n",
       "JJ3BsFSoIykkyZCpl5aNdfrGrN9oPsvNpL4l7hx6fVrhwjD4+X4o2RF2kyOLnhVqwSCdhHNuOJ7U\n",
       "e9Ccg1sXOr3MpltawBBBxIF5YDBL1k1cWdikggGxFVSdbj4Gybv9lTCIP48d3WmGeVLOYh97/hV+\n",
       "QaiD5tDidKiAJ5HxcCY8HvETsz9ZgXc15kHygTUXIJoccPjD5Yewm7PlcPb7VgLJodhqqb68KJ9I\n",
       "R1nX0LEaPFjQFXtWryaBR6kzUZkeFjRBIheJIkPvq21Z9Tb+YiuhYt3VdL4tVFTyB/+oMi4oYfFR\n",
       "Zz1Uf4YYHaxqebl9WPemVGfzIKqEsNRbAX8psuJBgdNg3eA1mcyJyhEmdik72R4Sv8iAg3dOGAGu\n",
       "ucCbSOxL0CdhcTuHOIE04JlA64nAQylvqx1xwq9hcLCmJNq0wtSHWHIM/CNe8zNrv/DiDy6+JPXc\n",
       "M0HtdTOqv4uqpUgAPE6sweug5sES+Rx21DfMTTBu+JksuMfVPyBGjisQcgxjUeeOijc3e38gV9/e\n",
       "AANsak7HUzq8omf9iOFCZD5I6IwL1FyiosltJfBB9PXQJtUpLx8j8h4n9SGGuBB9wjVpVI/pXgRa\n",
       "9yjsYMqn8fW8wql0UiZKOsTUJbx6D5Ims3RyNW95q/MMmplSWZNgslFYhINtilboEjH+he0V0iiA\n",
       "HQXM/mVeX2got/xdlsKsbna0pnUCFDwwAmVGKwPWqWZdYxvT0Aq2ncif9D2t22OgunSz0n37R1L9\n",
       "wZOIpng87dcn99OW2w4ta3xsQ5AUBlPvGjOtkiXU/iySj5jcz/4y28kNkGrOK5OMGbakUh/s2AZ+\n",
       "yrJmstt8h+Nd5BDJHJBWGDl2hyiii3dNvkiwAZKT9PJikVbvwM/z2UljMarGWxpJSDENlTzdshhS\n",
       "2Km7FiJLUO2CgPw0YwKOYjMsbU/vUqYj0rgJMl6+Bd1rB5sCKrK8SgbJ1bPRu/zYYQAd9AuF4i6o\n",
       "86Yw7OhSftFsbgKrIMNWnb5qpbvdjQgpvnEn0oebEhEIUwv60pJW9nf++23InOFctdY+ZV/8aXyQ\n",
       "bCkF5S77FERwuwywMIFjNMM9cPAopZaZ+dK9s/4pkAb+1yGpEe1lRWJRhEl22lC4yDEXvACDdWRh\n",
       "EGDAn2Rx700WXJITTvpeYQlG/Ec830LPVDFl0tIwolsSaKqa1j3q3WbyrZvrSsNCQ8HkfM9VKTbY\n",
       "SstvfmYD9AQOQh3F1vQONsh2ATrglD1mtjlgONpa3srwLji7ahV50HeiIHKHOpIbDtOJ+J7V3DKc\n",
       "zKwzZu1YYS4PPQd3ZUCOTaAq0h2Y+IVt2IfW559OLJR1B6xykm3KZy36tzFfUEwB/M31eWVMpCw4\n",
       "lacB9ROoxuEHUOme+D+uj6VszctKkFKtYudR/WKilZZG6M9Eu67htZNfXfxS7wZk9XNiv7Uesq7b\n",
       "xI4l7UdTOOaP43bpejZyWw/nz0UHSLTGA2OKOFNDxYJDu0vFyWRXqHQAwGIUoTJjZ8C3t1VL7yH+\n",
       "dKCvVQpk/zswy6YgDeaAvFVVR/tvgbUkmzy1hxI6PHiULvCZyaWxIv4ftU3g35pZHF2vVGSW2g3P\n",
       "1zzSn8yMGo6ZPfCzwISJDw37Fwe5IB4+puJhlKjESSz3p8b3zIL3PAMHWTgZ6qxOi1mB5HUnJnsd\n",
       "J2QHL1wGGotUxfPkXm+QURcvg+PW1j8jKb71/o8mrYzxGF1zWQryJMKWH9h8T2Zvbc67/etxLAD9\n",
       "G+VJJvkV9Fs60phVRaMjw7sFYLBbC31I0FjJ0TJzytTnL3mSV1ImQICkPUPVAOCpwfVbw1m+fAJJ\n",
       "/ofPzmnJKBjm01wK10iRCaLKbGykpBZYCiQn68ZIw4P+HnFWGmKBjToouO3+H428pfypCKtQM22T\n",
       "ZRkgMwQ96rWFptumRJqot3Oq21Lycx0QUtIm2hmL250xJ/xnnkf9NJ+6i/bZWxambWjyexeAk7Dr\n",
       "OvdlhDim8IE0eF+tUSZCN3aeXmKMaQ8tO52FfHY3P7cTKYsj6LRCboCXxwDHIOIdsXFZX6hDccW8\n",
       "AU7kS5A2GlaKUIudxzUnfO+xWaDL5VxXsP1JVsUndUWyNGwsHlR+gh3S3lAJPXYSaTxnDvJOHfXC\n",
       "IaMtR4st+WleZjKBd3DA3RCa0cnSjacKBDC/xj6tvoW1eoKlK7+mh9g17Ved1B162Q0PJTxCwdHu\n",
       "Gs1IXf0D91FQUQ7xUhUDLk/oytSPqF4Dh2+4UvSBIkcSY1A+NQAp0k6SSSqemJkGpcTZz1VQ+6HZ\n",
       "A/p3nRtiZTJM7kGwQceogOzhYvGFipzgISVzjz/7ifzIeg29sFE4hHzfpWAQHH7J3eyZzUm+5W32\n",
       "OrMc/1UsS3H8TZyppiccWR9s26ZlvpqPc1PyqKrYDuDPcIt6CPNCmChlNphUTtrx6yhLW5NgzG8m\n",
       "Hd4KVMNE8k/+Q2/HTOoml0bleSTviqiK9jIAGJuryLEfxajx9k8TqhetmEBG77/00AvfIp8mA47d\n",
       "iIXrpdvzRjTwoe+wzi9pB5x0NMCmaOlzrYk1X/4ScmZQeUsxWzOYdBA/hfZ80k1ZqvwMNtXB/J1H\n",
       "hFX4p0E7lk191TA9WLEtSMSA02FXq3v1xATw7/jpU2Ytk5fMFT1CgGQ6HbEPu3YMuFHbDDNVLvLm\n",
       "pI+rYNcG5/7JR5VUrkKkpC8Z7CyKCdaSq/DPfoONDwqJGHzP8Q/6ChzIP0IM7ljwdFW5ucs/eF8e\n",
       "QANoGsuznPZSS9wLuUJRfl3sW/TFkx5jHFUvO40jd+hOT3wVT6ylRMGZzLz5WEinMflk2a8frmCu\n",
       "W0UEEDEGVbrDfnZ4xeItCz0LrzduRWQiwC2i/pCOKjSAATr3x7u3TkYs4JX4RsUltxE0l6T8A+p+\n",
       "mEX0MqLrsdOC//WcMT8KVyYVZ53XV6IsssKkFeiKFOoWkfIOiqB/TCKVPROjKJvJY7AeQjj/u/xY\n",
       "QmfBeko/FZCUZv9B6mNT0E4v6GPQetiAfRsMk4re6vG6TVYKYgDNyE4e2jfG9bPkUtyCyY/9UnN2\n",
       "Jeq71va3LQNCDDk3kXYtn3On+iZSWWk/xdRAKc9nWGjGjZCkb2cnLSzhphOhZCSqPJUi56IpUIOx\n",
       "gXBdIzs+4pnhu5SG3R0dpddC8/nfTVP7lLfUDv4jRyMXkcNJ4cqrqU4w1Vkmt3mmLyEpmVkXVzEj\n",
       "m9GE8a8YJtgT54wRd4/1Xu+7HebFQG11C5J+HsCRGpgp3W/nMgo8AiJoj79e76sOtbGU4gZMForb\n",
       "Iz/i4n0/GHaRpu0C55N1vjsH7ug46BWA3/C0a4lAsLbzsBTZmRc64SyHvSAuAQA2M2mj441vxUhL\n",
       "KLESxdEv/C7YTa8od5exkgfIYoX38Leipep9HKa+b2aHMLEegQJ69Q6xDtEsf8fvW+/Db6h7rp8C\n",
       "X0ea0fSIB3sNgEhiA6CYaZAe8rGGCV6BGZ12UuJjvFNYj+JAxKB99XYxZ95dqPlukyJgdZhaAmPJ\n",
       "TV4ZBc1YAAkRIoQXiU+K9EheETskb7QDRl2CyXiz5xh0LsefFi7mlYXwBqsUxKP3v74e03mtuZpn\n",
       "eBtQHnawe81xRa6FPlmMd89jC0d+ePRXkacnpJxyva0cPtNM5s+QJ3ov/ekq3ZWvs/HOzeDWtwq6\n",
       "rAhVxkkbXu0qXh1PrRMagXgzMdLLccLCxKjrKILhvfVTDzlAns1X3FkNKzSEI598okaPhXvFvG0O\n",
       "SqogAp3imdaGJH6lNa8ieog7c34XE/qZmpG3DqIC7eQTD/Xgo2MBU9E3nkx28HK9/3IWvS4ZRbBz\n",
       "V5G8AFifH0OoFfq09CQ3hT8rozWyJ76/x04WvWTWcqbJW7LcWW1foBWMhNxtmEtb+Hm7n+b/nK8B\n",
       "0XUFivxN9iDtTuDOLRPVWRBS8V6k780Xt/6WsQYXdfF9VFd4rZB1BiJA/Px2cBQYDBfq1EKV9lyF\n",
       "1fAbuijm/QBQNjsRaMLvNsC0k3DWrMndSeKw9HAZZE1lcG22pTraDV7qkr5cNAIqwlypgFxEXUBA\n",
       "MWEAAAdDQZokbEEv/rUqgCKNGGUAZ7gndQDHHnt8pEeTD3HrJ/eBGZBSn6YZh823ixz9fDBAKh9L\n",
       "MU/HTC9mcSIMPPcszukO9lCuZxvab42rFu3vJwtvUNrQQPHuLHij25pT4D4eBy0SVhrWoxv3X/6i\n",
       "1DCDI5xD9f2mz4yRQlQqEI4eAEzUrBgndudtjTqLhqkPbLYpF7GeDo839I3TkSwxdxcNvszMHn/o\n",
       "Oy9glQUXzRW+3oPpOo77Bq9IlI9HGR0KschbDQI5PY9e3nSjZ7jeZL1vXKl419BJsohWf998ZLhf\n",
       "kWqOamjdenaSTglzhDFTeh9IlSJQQBD8s3K+IU73XOzR4LnK5qOZm+Lpl3ma1pwREyl1b1aG8Hgb\n",
       "ZYRckQ/y6MyFw9ihNW0rsCskyHsFKr0fp540NcteCIWHGOME5uHg95DIjjnqWc7/9MmRJb4T+UZX\n",
       "YFR3WtYP52VsCr6cvcjeZzANRaIfVi3Vg07IJxXcDXpnYR4PlbH6oxlbX064DZH7OPOzKlGTNqBU\n",
       "mVDLc4GkusMdXGxw70OCagySBm6nCKiv6ua2hz9VJ5YrmwVrhz9dfqEdjFPanuoU2KhOSHWEeGIZ\n",
       "8Y7iFALkZrVINwtzyTG5rlYBzYJ1nV5fsngj1K3kzOD1C0LK5pHK2U+QbquZbmP/8F8RIfSy39e2\n",
       "GJ6JpdySiJKpxjLtyx8j2Jsn2tvr9+xyctGeh44DUzn94ZjHVnrTSVweNoDC6bSMT8WxMCIW5r8z\n",
       "1Hd3rrhgCldisjN8mAW9Ffhtb+nA1MS4tQIluyrbPeUvG4USWx3s/jJMThAA6vwECiuU/nQ1K53i\n",
       "foEPilxXdaqFPh9Gghwm+q7RHT5Gznl4lpk/9wPwpzGkvrCkFrs43SSilhv83HRqr2uo+lmY4NfI\n",
       "gfvm62ey1UDsXl5JAMw7GdL3ZD/ljHdn4uq9ATGkzC66VTV2+UF3saPGtdKqHVCQrbO8ksGeXmCF\n",
       "Hv2FsOK8mdttwDqboqnnN8kaqYOl19sfSaUvk5191C2rBR1HVLJxLzj+WbEF19q9qJr2EpHrwnCd\n",
       "UZW6d55SmcpoWUPfynfFVJZeCTwCHhBnqtpaFJTrcovmoUp0VHwU7nZjechQ9DbzAkHCRYxw1PN8\n",
       "/j8V+fc3QrJchHJrOBbojHQ7kyHWoqS0mkjhNDB3e7lSRSaWrM08F4LWsisqlaTHmSvP+Lf7YHQU\n",
       "NST1kO/VY3WPVBoUIb1mjuEkUJcUE2FEezn3psYzcyh7H17UZl2l9SYXnMDGf6hASrA9u9DUmRNj\n",
       "84C9jqsxD7rp6P3CF2Fk5TJtNvQ5bgO6AxU60WW7sYI8F4zhN+dctoppOqzVexwCLCH0tQWv80vx\n",
       "h8OYW5QkgnF02Et4SXzzb7LZU5/7eg88NrLnMPV8zdZ/Sc8QgR7oYrXISRxhxPzITODk0vSpk/mh\n",
       "jpgqxW1945eqNXV8bVf9PHDyT4sSq+uk9mwd8rTEuizxdqhmAjK2OlqN99oPjM5GCcbYfxMK759y\n",
       "BChVQ5DRVt3V5QCuplXAP3aG52BGZq9Y10QWvBLfcgU4Rqeg2G1Yb/fV0SikXc6AIS/3/t6ZmHod\n",
       "OK1yLPqS8WCtlBO5b1fsEBXRDq/UHyNij5xj6lRzDGWDC5M7TQdbQfQw2MlEr8HVR9HKRWrFjgDc\n",
       "8iX8CJBjyybJPbAJ/Y4JkGuBLnmzMDXWCjVSi6XU+0sHlorFDLgwh9y8sYUxsYWrsTDfB/1I+XSS\n",
       "x0NNr9fhjBqwXDiZUbH5Fax4P5baJpU3ECQqb0jMYD1yk+W+95KdmfgUB/F0+JOnvBzPlqBz3a0i\n",
       "ZnKN8xjNZzRqzj6iwELDnHZ5NJKQDszcz+GZt2pR/4UOSAgz4RGGVrD3uCAGTwkerf8VdhA70Fw9\n",
       "HuUk34jyBubFNFSe2f0+03Pn+RHwBbn4Ilw1qZIVTNfKoN/Kl/xGS68OZZJyVRcbfPUU+ai7DKOT\n",
       "B3MbSjv8K8nnnPzpZs+GfCuC0T97FHbKIHcdqhn/T4fso7tEeDIFDdTpet3Js3XlX+h3KTsc+EiV\n",
       "9JnQqixpn/BDHd4rHAj7kYbHzMDgo2Tcj3FtYmK6Gl4EOkx0d3KqGcDDQZsLs0DJi68ZKCPEsspn\n",
       "rsQtEef5fOnqW6tKfXmzLApLZBC0cbH19/e2q0gH2XBhzmi/c/LvFTRWS8xUYGB6FYNHb3KXQroB\n",
       "2DMu9qri3b5p0N6otsvfQWieS+Ju+rLOncTRo8XCm8ogFzQvUO85B0rkCc5QCbBBYbdkPoxn/tVx\n",
       "BwvPErSsAkAKN74ovBCwiPOhwXdJLUWlPEjy+44GVgFgJWix4lLsyZpRxAUXch2zEzQwuFiO25EO\n",
       "zoxBpuidohJId9b6mJWZm3zUBTIExoiF2bNrB78zmvWjDl1XEs2d9iSUuMaUQ2IbOGT0lPwCamdj\n",
       "kDJUb6tEW4o6qgg2/oNNq0D7pWkUaxKYl5jh+udTLLIoNyEfktzhdsAAAAWzQZ5CeIIfABV/nTOw\n",
       "WBeWnH8IhSfHlx686OgVFn+EFdnwAthHKE/gmwel5XglTa3OwqfTei3BmN/8vxc2H/LsYZzq1Cqg\n",
       "0D/Cv+JmnWLF3cEuSTw/gQgiYFpYjwpzJaT+f7HE0Ulfe00+t11MCoP+fxBtJRyMhRsStItawBF2\n",
       "X43ClkqkXjd9gq7zrxOf+wsVKZhhZEVliVfLJKAv06Jxk2gvLcmc5NL7zv8wi9p54Y9ops4zkhfr\n",
       "HxpwbwDEUuvaH62n0ZlN3Rq4iUMzddVwrxmu50S/SGUbeIOCx98aWN4vCy/fNHsN/1cmYHqiKeXF\n",
       "sGo3p4lw3JL+QcFMEYYX9h0q0pPhvGPDvmJ/RQGF8/9H6634mxzh8xoWM/SUR2dQ1AweowJXPgaR\n",
       "y8DZIli5qyvSZ/0taYW/vQACNedkC/jkrKBWUpFY199ftvORue38VaVBUNVIjod87NpY1iNfFUFl\n",
       "LTWfloPaefK+z8nnBEO/nonXwZDhZ6XHRUH+qtGkbvm7g031X2LjSu+FDEFz5BbyA83kvvPQ5mvs\n",
       "IwKSs1DbMxmhO/36w6eJtXcE7Lj5F4lbZdctbcLA8Mwq1iMVJ6O4qdmai9EPd8olE1fJ7SqgyLXQ\n",
       "SAEJhIwHhJhzSt9+8DCwywvz4R1seReBD+Kl0k2/IN4hSzLvqpp41T0Htrvzb9+R/PgY2YtTR1Fo\n",
       "2ZXI8fGjcYfQ44eLPbe1QDfY4RORrLFx6y0+/Ea0sdg7r3LrpeCGCSTQ0ZFIto6kJHK4FqdV4F1z\n",
       "6MJQfOate4KKcbS35x3nhDWhJcDF0pV/pzLlCx6C6Yh29SC6iIQwbzU0DwKYOvlYiMoZEiIGicHN\n",
       "4q6vLaYpZ65YUvkM/TFENlKkDjrY3iq5PVtOrvjVZFPjAfHoDKTt69oUXS9dnoqQwFsKvzpsnggI\n",
       "IHQO39CrcF7aq171JEWF90wzI/4QND7YOpNo18NcWi6/MhlnTlvFD3E/gHUjAxwhbnr8kD0HlYWE\n",
       "7Q+PBNLa2hzmS9fHnTYbkveqnN5iP+XO0mJc5HZXxzMMCGsRMVFQORDQNROvWkgVRuYoCbWjzpBQ\n",
       "JNSUTgwjlDehw7EZM0rIDOHTPdf8ryCZNj3ZSiotFziR3DcefUoMY5AEIWUgVM80Tabui4IAjAYI\n",
       "sMQT1H0D5Eha4YGmqFmCAGEgc4WtsTck4ncRknTi0MEwNkgB9u9B1NMUIA7gAIv3N1Z3BOrZbVqL\n",
       "AxVZf2yOs5Mk4VZqe9BsiXg1N1WwPABj9QkzlXwRJcjfad35kEw2iFwDDX4C/EDpdZwhh4EYFXCt\n",
       "LCSk3Wyd4SUm+ByjfieYDxA2/81G/i4vNX/Jr6bJEta+kHbbQDKJNCaDlu2oLtAv59BAzxMq74Dz\n",
       "8z9ilQrNN+4v4gf75EA5Fp8r7Q3+4j/2naJuy/dasn9NfZQwg8h/KHujcaiJ3ElGS/V1GZnThXkl\n",
       "Oqx/OrVALmo6rOWk1XKjkOZtEjNSSiSYUZ+/t1O9l2cTxY/xy9UPC6KTyY1h+XMecXSok21DC5hU\n",
       "7P05Ivg+Es4crnhg9nbPYas8k++DYb5H/qIwEOUjKkolv4pLes52LiLaOA2i8amyR2uybqGARoF9\n",
       "u84Vz4ya+1CNwi8xaGPkoNV+VTb5VK6xnsy1dL/D2Wt6VFFdZ79NG2qatqYrhHc+YTcHZYhzoGmE\n",
       "+qE5+Lp+/GlSKxrnOHkIeKcvaWBwWjinbunoiS1lL9q3bRi1yVsNzSBgc0qtjBk++IUC7+r3Vicv\n",
       "ndpU+0OLrlXAIsB9phEQ1gT7qGkSRWQD23L2o3Z/mVTj/fU1h8k8TxK1md3xydVQ85yL3p18KhDZ\n",
       "MQA88wkhIaHtk05DK5f261q30faxrYX4rnfzKE0IqQ5nhC7ZWvnudAWbuhAvbqohYX2xz6LTTre7\n",
       "NR4w8fTIQo+tsn9Ap1uxU6ZT3ao9MwAABNABnmF0Q/8AL4LboxxV3/M9X4r3gqZIAmvyJXTxtOjM\n",
       "8UhCGuYeiRlMepf8EM+MmeYI+Vf+v9ihCC5kEVcqHBSLjE5emWZlHkO+axpnjbSonT/p4GCbX0LL\n",
       "HFeTCggxFnN2NPyC0MVSOjA/YEkc9DAAwtFyXc+9e2LJ0BqD5eSiXx/KAK/T2QObi0xoQxEPFHKl\n",
       "Ke1mkSwPv8JwuPYnMv+jOEW/WuJPCCHeVWeePJfpPp+EiUjYnKtHSXpsJ/kYEMcSEoQ5KxV47YRd\n",
       "vuvs6vEkc//+3+Ky9KhtXvR8TiDMeMDvS2saG+TLgWR6WlTx3PiYbgeGB86obgYbPgsNTtdtozad\n",
       "lYfZq7UamMTLgiqOuFOTVn/DDeX8hRDmUS4Td2cUW3SWmVXsUUP/mpZm9Ycucp6KfP9vUnoF5+7l\n",
       "rHn9cIN4CP4SdvuoD9QqC0uoPbcVJR3+feceRi1xO79P6CRyt1h3SH6hj0OCE2prrNWZpMLt82ng\n",
       "kf072vkJhGdT3ZfNb0yl2CHKXo+0FUYoOFQtGkfTiotGbftxfzZdqOwScLp3aSkv0TGms5jR268I\n",
       "V/xoOHwejRn7eGDzKvsgCXC8cHoA/NH8+B1YXi85bJd75OgnJutFKDLWtDEagBhpZErFMJSOGzgY\n",
       "+pgWjQyb1KeezCG1/6LnWnV5EhFpuqZpF40Dm8Nt5gVcJDUfXkRKCjjQZ/Kx7eVrbLFHH+hzEwfG\n",
       "l2vXC5ruY462KHywi1Hcj7vgYRbvmRY8wt4o1IdSULXdjihAipETJLqhlwfBQiP6nagyOJ5W9u8T\n",
       "Tdyzrj+bJWtXM0/a7i5O9FXsGsnFtuXCYOh8xcylHqIk6L2yK3EnZMF85U890uJN2tRB/J1LUYcW\n",
       "E32ddQCt5HiCGs9bzmbb7nvyIULsF6yByaEE1RkRde3qh7ZFPqtBIitMopDgfXkwGusX3+KnZ9TQ\n",
       "jUfJd90yM9K+CwXew9YLkDwrHxcqh54WRQBHkEuFqAxmbcxZlEBYRK8dBPEXWqIt0Mcw0p+NRu7N\n",
       "pgl0pSbbgTvGaRv3BmRYcfTSNOxPiMrNFZzkR1oCA+R4pOCHqikLZvd4XcnjKjzXD1XhkVML6l53\n",
       "VfIMuB/trplRjyTyRuyU+yJShr5Uk37ewi//+lVW+cQc+KEfQTdZu3AHg6QjtdNLPP6TV2KCppRs\n",
       "YNa26wpz9YOxQW9oUCxAC4nAUi8UVbTT06RPG2aX56vNLNKGfniQ7IWbesP+ayo8ZvHGpxPLQWqd\n",
       "EQ10fjWEQf5y8RKNnsVzhUlGH3uLsq3pWC+YVWPbIsJ8OlupCsfyvXTxp4Xxew3b0P7uI3j/bVAn\n",
       "uODBR7PwBbBYV4Nwbiz/1dqC+iThYXxlPNKh8vuEbBusueNldtklHNvrtgj8sHqX5da9eNwa37e9\n",
       "MYnahrWI0PEyle7XuTdTQhptHUZi62yvRS6DsE6eAZgnGCJExs7XztJsVQzKkbITPoFrGXlkf42L\n",
       "AHKPEge3K7dLSkP6w77VvriLRJ0ySObJKAzJoIq/Pne5p0A5iR8i6hJZmg+DSRIEvsQwm1pvSRTt\n",
       "mfC7U8I+7c8JyJJREZkWT78ARfq4vt/Fi3Eq9a6MKXy8OBT22TYdwudwdXAvezR6w6kMjtOvWjYy\n",
       "wQQj4AAAA7QBnmNqQ/8AAyOZy7wLp4fZ/3vQOYDLoLrZ+4Li836BgzENNthk0v4aWH60Z6Xnszis\n",
       "SlRSBz8bpbcMy0lzh3hbgPKG5TVefhvTFerb8N2y8Wzdt4j8g8se3TzX72gSchAE7IAAsPkgmCnr\n",
       "kSDsiUunxP9FlWhNtCaB2gYgpiizJUK4IY16yE9IieWpI+VgiW5FSgRBhmkPk8VwhU57FQOJB7D0\n",
       "8d14v2R8+ZPj9m5NPSu7gIUrtkOZRHWDPN2t7oNBb3z4BEmncCdV3KllqIa2b9qucAA8lJeGCnn4\n",
       "fZymnuwBdNBAgDQ1X7U6KVFE+8MDc9uZZ42myY35cMbg2p2unTiODF5DhhW6er6AJabOHWEnloWL\n",
       "XY1fMz7ccP+z6Z4WoIBhQoISgHdL94iHV0we609FnuZBkZi3ByEAmIWOKw+e5uAcfTUrPcYaEz+S\n",
       "Klodkr8APOuXUqz84fH0YQJK8M/tCDwGhFxMS+gr88hblJcc5XODUTeh8dcBmuALpz73SIJAHghF\n",
       "1f0T2xgxwhqz0/tVPPRD2cbBHvlYEINNYR/5wbVh82VxcRVEHMK9gf0KwwBfZZKTc8mDXLZ4nqsv\n",
       "7FFPgM0BBbb7vPRJDWUKZrz9rhpUIHuNRiq6NEuLC9370EvtY+W1XeZJ54ZdDqBEsCJHSaCSl6zf\n",
       "eMBVrkZX07C3TxjdX5Q07ioR1RbWGtkOuBRiZY9IjF8wfQ+ou/BTK4tlsbHHvr/AatvzvjS0yJbX\n",
       "PLhA6BIkhczzrDm8wV+cWjpn3iQLXqX1ehtWzMeayoi6+b9+A8uZbZ5Djg3EbnbR5fWrNSylJ8Xh\n",
       "mu/3nCy5qKgYRV6m8jXqfnmcYfuLaFc7gosw39JTxQjKqItccSdKu+SxQtFh1Euy0qYEqmI9vgRF\n",
       "/b8QiA/baG48+6twqYVMNJ4ZB5g2CYk8XZtN/0Itx/QugCQjdGwF/HXyKXMRepODB7GyUncfI7TF\n",
       "w/NAw+iOt6BCdRVIj2xVcOyIXVW1XYMfs/FkENyb7YRrnu6UBe0O3rnxfneHTHZx+EfH9mzfEAW5\n",
       "RoFx9PA8GjvgbdQrULDB2JoquZy189htdv8JvotaT90oqQWTMffRRZf8Bxh+26jKegOeiDA8dBY2\n",
       "tPJJkFKoyJf3yMOUtsmDNtcyyjYRpvRR/xKvPxDb56jelvLSzp0uNkfy9GWODu83oyEcVdVFOKgP\n",
       "4DLR3XRk9bh5XH21AsteMiBlHozjoIflj6P7BpLQVGmlt2l0E5irejc23M0AAALnQZplSahBaJlM\n",
       "CCX//rUqgAArfxtIxqDLEPhgcIdqlOIKjx/WF4AAaGtyP4W72f+33+28mKBNq+rqgG8/S7L9jSJW\n",
       "ez80lLwpkmpntDEFWY7BSY9Yfe/av/QfEYM3iB9xqoq9NmNR69Npv6fMHFw67XQqI9o05VbOSUpr\n",
       "G5ZSgCFyZNTKroRHBCWQyGMgYz28zC0XCxtyW7eFEf6l7hi0zp6a2GlJUFPJBsO3//hMOi84+ZmS\n",
       "yO8bJPqNCcriymcpen4MLafIHXw2Lz4arhXErDxG+9DuD1zyRNP4kMNUH+j0pdPty4Oozd6THVDg\n",
       "zM/xhNFQus+GLgTWIY4/UkKv6ZsxMXYRZWATaTDW6p6NzPyYIXcBueTHUQQsQbGOvZMyLO0vDDxo\n",
       "+jAZVToSp0R+iFq36h03n7ZVoPJIow1sOpO3Qh9eWkR1SdXSHji81s/tx1ef8Hb2dSDTLE+Jinnj\n",
       "eVCwcl0igiCP9K8sstOyOjyrUOVXbCB3sn3EA5nYZRxJJ0RU9VLfqfvRPlFEvIFjto4qq1X5+jT9\n",
       "honf2ezj+KPCR5pbCotk0yFzmZqIkz+nCuCSE+lv0zv4vbruvxfz20lZ2ddL5zPNNoGoH9+hLbFp\n",
       "KNxVFi9eDBpGLOX30z+q42gucUswgCGBuYdtR8OE9b0M3GVje7VUCRu2q+FpPBFsQs52xki398AZ\n",
       "C+wYikoBefU/hIQgp3rkMorU2LNWweOSDYYDCVd/KbFwEj4MDJ0XoFxwQGnQzjr2wnNj5WaPkpMP\n",
       "q9ODZHzxqe6meTjEaoIoAQCcEsn1XWVoj2e5EFzFc3m3jS98PVRKKvi8MyxDtILn0+kHjmzEiDFL\n",
       "1JG22ojLoPH+BOjlb1MDEukFUlivZBcQ9caNuuDjGveN88Aal60z9JWURvadN5lke5QZsZ21H47k\n",
       "SccedsrepVhMFxOR5IJmDU5aNDPzzar8F/ozyCYDtp8PY1OCGnrI+bRmjmo12SsztJEAAAPbQZqG\n",
       "SeEKUmUwIJf//rUqgAAcnWT+K1nYmAFYWG/4tIVab3UPM3I/n1b66wjeSYpnqa4pARzE+GaqbWn7\n",
       "5hdNGX1HJc2lNjvTectH/mHJdm22PTHJftZrMISIAkA39Z0YdWKHgedk/yP74J9/QYCa0LiM1i/X\n",
       "nOXxNno0WtPvWKSoL7xm+HgwILBESnWc6qFiCZi8/kgIyKwDJR7cSGTLlzjxQOiLYaXRjhr27/+o\n",
       "nORwQcsaJ4J4ViB0t/LLYnZ4nfzd54QOdPIXjwAsr27PHk5pM1oRLMo2OAISYC1U8+hce9pC/0O5\n",
       "KFnqVFYGU4GNGXv20IEwakpIfyXt1ZLZYzTXC9wrfgOlUC9FKLIONyJeyzhsqWRb89OHYQceYJWX\n",
       "v95X6aR/luNmEoice5P85LQVswczvMWwQJZTpJMxUcrdAJLV8DF2Kx6O7OSDr1oGIwgc1mPYvfh1\n",
       "kjBx011QRoAGwBzLQ4ogAJV7hwg5huuDNGOTZn9Cfub9qgY3bB5GmWBlIiq6hFVnP1U+AQlGpAFZ\n",
       "Ejh/ak58xDvR47tqr9BsnE1ZRnfZGXyrUaxvQLGU3H6HJYk80w/yskCaMQ+Qj/7iWtWJwl27pgMD\n",
       "DmtZBSqxg8YGFhNpZwRkcWcpTphi1otT7piS3E3YN/9yZwxRmxqTBpN5Io/nzRu4v7/5Ocm1VskH\n",
       "8qbyEzW5tW8m85rMYYBB8IDNYzK/DPYZRjSRwYabNN/Gan1gBZZ20YdyoCFytUMnMRHfFKt2hc7R\n",
       "otueaAHyk6FpNeSOj0EeN/5kxALA0JbPKIkkfm5ELFaxINIM33wTBNruBxAyw4JaLfCBLLLpiSG6\n",
       "WYnPFEcurB+au4BaeliAWyE/8a5KQVcuYIkqtX5iZgs1zMtGl5sPwg4+A6bn+BPt2WCrcq7bFqeT\n",
       "E5OYE9Q8+cJWkORkLXDfPPex/a+GbIe5sjw5XRVZxKXJQqlzHInWF0kCAX9+L1ZQDaXu4TbGV8ON\n",
       "jlxyjl9eemN+hvNJlpdetrcrB6kMlMfPNItQduYwLlpUhqolEqhpmaOQSeF14JOMsC+UhTJfoWX2\n",
       "xpZD9DbUEvh1GzTAzdMLWmo8Lq7Zd9EL8pclvcjGgH04KtX6gm22RskYcexkicHbX7rQ679TycxD\n",
       "IFDUQO9jCylszdAlxKL/ZamS8/Qf+sjE3XtjO47kTFYsAL3QL+J2DUYix4LmVYcLvAMTErFXos3e\n",
       "sTBzgl808Wc/MUr7R79ppF9DwN6F0B0mfTLfuIsDtevy5GpUkZZtKoFkbpZxuYuJpZDEg3R0utwy\n",
       "XAMhmqZvzYFlj7qEFzFhAAAET0Gap0nhDomUwIJ//rUqgABydaV/xCdXATMpqmvgiJZD4qe3dccE\n",
       "MQif0Sr72Xy1GYxcL2qlnDL2c47Rn6l44V9WjZtOdAFPLNONSh15pf2VMknR0HaC6XsEIL73tGWy\n",
       "N3HJB+vr766xd9/pv08wRRaRp1K60LWx9S7TgGSUsC28joqEfbiLysDTmJE74R5HZIV6YWCae8eG\n",
       "+XH33RkMAIX/G6BfXxly9UCdTGv5q5RrXrrTxHnLItJHCA+8zi0FNYyE2OYbygmE63moiYJ6niLS\n",
       "8Od9XNZ+yorrf9StXGOv/f1ACtehEr/jD6R5bhXJCRm7Idwb7oYUZsYbKwTb+wA3gBcGGx9U/s63\n",
       "jBnIewAjsOrwifcTjQUDCEPHNFEEg9pWOicXCFkJgMFlvtlFpzEkqZZuXn0qqKyhLM8RFTQ8WMyA\n",
       "tLHG5ctta7KZnfHeG6tWc/ih77G3lgx+yMRVFm48gk/Xwzy6cXOvtjGPGuY1ECyrv0mJpLPKjnao\n",
       "rdoLjpDAqei4oKo5dt2SBl5MB/1FymjNKnxcHdCD5VV/SzjromjKCPv3KDNifYXoU6iLwh7j3S7O\n",
       "T1uVD8R7PG5iyq4YdFDVbETvrwfWhJur1K5yRt5B/rXEe7WDeNBmFPIlCOYOc/XlYnYtBF7KKVwS\n",
       "j5sJVJruOzcZn7lE7NoFN/EZCjJNuSU+zD7cg3h/AOk8fS/4a46pZzeWYwMvFC+wNBY3nYDJQlJi\n",
       "ushBbpHnfHnilNXAxm149ObYbRqx2ABPVrXCNMQDYy+XaoqE4dxI1BsWFGQVxMBvjhwBqunwVfyP\n",
       "Y9kA2/+9jEcNceRifG9EPKehuBzreACqtnbDhSOsdG6NIT1l3sB5CiY+nl0yYF7WqoudBIR3BWaL\n",
       "1k19Vs6RzlQS3zl1M7V7WkpwhNLRQs+jwRfUHhaaO7euUOdKjQysvy8WaKVtT4P3I75kPcImuydL\n",
       "+NL8f12QXhKR65Ovj6daI1IN5jui/BeSQxtKSLsbHFPVqBSy3foqHo8Gq3sOBlo+AU7EWFefePw2\n",
       "WJ1vdLtwOSeIirNM2pZXkn0KfdNXBRjSFO4xILdGSgEnnizWuclcKwKhehQEGWiJeKIQt0bFECje\n",
       "VgmaPoLBMowU4Ko2zlHaE3JrQjurP+8mRarMGfwdom7V0PjDntgdWE3ErddVgVThc0wmpKkcyCh3\n",
       "2y0+iJ3XZkeMDse4hT9WSyUKnG6TxUA9p0Q2OLassKeUdBG8dIryFSws3PMkdK1KYSteanKaV2rn\n",
       "cNLe5Q106PlpeRdT/qk5DUi7iIqxgI9enUIj/7MkA1lqOXHvP8muRiygoZUQKGL/yvw1FWWGDvf4\n",
       "+zvI4RxFs7fgnlnYQgfaAu3NbwyedGl6BAktn4tQwfmyn+fb2XwYL4KaqrGy8RTRqlxYQiMtz5D5\n",
       "owN5og4Gb/seZmln20NrT+0z7f/39jm2EFTUO0HsmbAlkojlYOmBAAAG50Gay0nhDyZTAgl//rUq\n",
       "gABydZZ/nHMLgA3AehnEJVlm8nisb1gfirx259GNgnmB+MTTs31lKUFDInj0ru1LtdfqXjhXsjlo\n",
       "z9k/mhgiJxf9SgkXGVwhGs/flsOxyE+gKBjxvkszIYDUuiGaQZc5jQIiI7xFfu6Qz9DvBPaae+ro\n",
       "ifFTQHrotRXjo6tAQFcpPJs7lDUu+qewEkv9RxMplYaImPZkd2rSG0SUWg7SJF5Qntj0Kv4edYFg\n",
       "7a6GATKFACarlsII1daSBBK1t97Ll+ZxtHKZUMgwSN1MaewARo0MbQUmfJUT/TTuQzg2fsQ50a5X\n",
       "1NuU/lTFs9sNUNcli3ADvSwg/r5crZPae6aEdcz3aXbS5Wc0j3cmVUn2ftoVtcGJzi6lvQS9uGf3\n",
       "iIy9SzCXZPwerWWuicX4uSCn/aBbqP/ZH9rxrH+lOT8bzqJko9D9Yi3vodaIt2sFs3gQkZu7BCT7\n",
       "8NOTkvn6Y6z+n67LQgKuxKlK2JdMN3V2uGfnqFdXE5X2YFb/GOrWKHCx8/dJQK5XN3D4rAnWOVIY\n",
       "qzuKGs9iHDawG70xhAg63L3m4HqW0IDbRC84TvcQGpEoKlXWQmjS0895Xw7HqzEzPb0zYKu9KlzE\n",
       "hzph1zVw5ibZYJMtbCj5u4REFkJbYLhHa3Bc1fk4P7a1s2YNMfYeISHZgzmp3J4LJJGXs5cx8jbp\n",
       "ZV9u/B7zQek5+6xHp3roQukLCvsNUPsW0hqk3oQldI2pUflR1toFcTmw5oeehWfhA7iuDvQ/GYCC\n",
       "2GczOW1x7b6L1t1NR3BCNCYMsfzsRsgbYHoQ4FR8HFvUaAkyocb61tzIUn5db3FJ/EV81BU2TJNx\n",
       "OWXT6pq5CtBrmYnzAh2jRCRsTlFIECUF13lpK6eI905+HzLxYCZ4Yr+d5BydM22WKDB+9ozYqMGB\n",
       "JCVu4ft2qrYhzrLjK4OkHiL0buqVDMhVi6QU5tj8TyqUEAW272stBDihW7EBdclu4UXt258GtEXW\n",
       "Gz2BHGl+2sZ//dMLnxbRl0wgTGethgr7v48jTRv5CTberdPyQm9+4aMbaRc5tQFVSSEEjEnw07+2\n",
       "bjXiPyf7/R9gM2v0v2mkbueI7NNtY4Lt9WUn/Ka7s88ng/8bKpRZdXOiuV5BWNH2kFiJduYSoNck\n",
       "fXbq45dONbB1pq0gA/ec+fjPiSqmyfmPx4XY5jhhuFpoVtHgmvZC37UXbGMSp4PTK5BZ1dhYK0Y3\n",
       "HcdqaUwBWN3EZF0SIq7Sky8yKjRD2R35/6n5W6y5R2BRU8oqO8m2j9fUV8qdsquLCdP8R7xC/mUz\n",
       "R6zsrQrZGdPzMfJjMJ1+plxP+Q79bm47VDQi2o+mWaIV3Oqt/OTKTiREjm5kysUFZk2s5t2QaEyg\n",
       "AmTZdPZ7wnldzYaXYFrbU/JCZ9+mXyB7QiymXkBohAzB0ey3wIwKsyRJtw+PPu46Bt5dzC9CoBpv\n",
       "UERwkmLoiMP6IG0SJBr/NxZzhdOFUOvGhnkTNHaskfpmJXJdFRSfGs0C8qbecHOYQOU1xRLkOQKo\n",
       "6nZbW0ro7PY0FFEOT2WWuzYuc/XixLG3mO8ckbDAZao+hDqd9kubpRPUiiKkU5DNxqWqz7wbwmxG\n",
       "e7iWH458xKzSwgZkThdqHw6zGL2XZapU1jd6Z8ofUwIHRrffuLKWu/+6tl10waoiC7T9tBy9M1Mv\n",
       "U+EcCOEZ8RbpEH7nTTUalQkCWsdZojEM62Y4vrhcMLCchHl4gy0Mr8bLuehedZ10pnbbyzl7b6Q3\n",
       "AAQKeiBmLM9t0mX8kIETtMK1nBuJ/O4KnrhDyaLatNQbZDTQsKWNt4/ZdiaLAzQo3X8pwhWrBS6B\n",
       "sU0nOqMk+iJ9XFW4r40hg/EcT1wmCrXjBN8qwvtX6Tj/v8/ONmkYosEb0BdzILMSzhRmuo4pWeTz\n",
       "65MbQWXOdDQKjq2qRyjc4qo3Bq2nF/wEDtQsPkBzXt9EoczSGkrH5fpbb3g/e94gHSHrZNH0/oFW\n",
       "/WJfWbRpvnxoVTP5jSPd3HAILqO5BdTuHGVXYk1y/RCta6aLnOayYhPd8cXURBEbW2rRoxr2jtmO\n",
       "NWR9wvYTv/X9Tx//fjIQ1/YPmKsd0pWQ0viZDQJ82PqN7vJfTCA2OzdSUf9+0K6CrFaCWG0pDMFg\n",
       "4G6uwgTFHlsVi/Qx8xOJQlnPDh2x0hEtXsm3VQzVXvfCmxXBPLN1Aic7ujdNm0nEyv18250DUpP3\n",
       "/M1qer7y6jw1PKgJhhocoy6oZF8dVESYUfuZz14rgcCTjYyOOPMinspgn/+E2jdikVynLLigYB6j\n",
       "TNwsCDpZkHq3HP8HrqtIzWsR3rUas+2otPVh/FXFZdbV2zKi0o228Pny1QAAA+dBnulFETwQ/wAA\n",
       "jq2urQbv66g9/bEgc8GZGAD86175FXSw21qLIqMmBJYzXAs7BZEi2utkqpJ+MjSWNiircy+N6jG3\n",
       "oNYYWqsCCzNnaAL+99GF27nceQuttrIItQxJkdr8vjwaB5ZTxiyWVoEFFQfchc2ArbAY5WzHZ1++\n",
       "W8+aFO6RLIl5m9QM4zv3F39Wn25iGQs0ptgbczSupZdouSeVpqlpZKj7wLrhnLqG0rn0SaPqgvg9\n",
       "HAW4hklihNdLOQqte5OXm9Bnol+We7C0Z33V2dxOIRPJLSYhN4ErQnF2pskU+Z88ps4D6U/g1if6\n",
       "hGuCb8eS1UqWyhamVo3Hfn7NDkXWT49hyzgzFCjTPY1wsdaqWatB+9ddAdLV6zOTqWqFZ36ViYkh\n",
       "0+rvK1UIK94aF5vCiSixOrTLBeX/V8S4/Br62qKLmkngcceWgOqdVhPOpiIuqzVe5IIXKJ6BzBxs\n",
       "r9tXLWPhlKBB7BWklXWzQLNeBUoo8v2/Mys1qekfU5dxlnfThwmxD0ZF9xgPGN9b43SvKwiIWAjZ\n",
       "1MfyfvVabDVos7E72s4R5s/nrwmsWWqB8s/G1DnnUDNUWvEBVZoRvBCg7ZSozo7zxEubygIFlbFr\n",
       "t55CVezfxFIKiqc1A6vOyHcUtz/gll9ezp4JWEXgysUIkOCnp8Me3LtNIEETt/zQe+ut01t4FAbR\n",
       "2sEN2Ut4+6ln4UrXTIrENCU1LcURSaWNFVjTqL1l57x5BvBZ8fJqvvW4capeW7X6ZSPmh0MCzrNf\n",
       "3serdkIQTNsPmGH2BIfxuBqrsHHZ2sn2SL4Fdb27Hx5IhhsuGk6tMXZdCpJbvTCTpURk3Yw4l86a\n",
       "NZHiXQGsQddgHU1V7gc4B9UCQaUC8e+5Jhsx/SxAu27VgdmZal5spbObv1C1W3bkKao1nwKnCxkR\n",
       "bVuSllyvOUPmwHTyjDRkp/Od0wgEC5pgUkKcji5q64/mJTF8BWTHeVVkegRRNounVtRKOL2jYthF\n",
       "maYaxZYCx59a0vzVMI9OCa2jYDLMVUIKHinrtzqc1S3kwaZTgH4nW8Lnozrfwli1HiQn1IqVaASw\n",
       "qFsS3xSZITVZhe4JlyNT2JhI4IsqhjXG3qkKHFfVIt30VaHnXaCL6n9zCQSxmNwpWmhbpM5sKysW\n",
       "FZ/kU0q8MR9Qchv+LnrmZBDIW7JXRYiet+4YujtSLp5aN9JsxiOqYaLLd87XaTPSn3o/KniAiHSb\n",
       "Uv30nErcfSMKEvdqPhfFtaLkZy509vKaPBlxXaxJyIPbn8DIkepQz2iCiJfyRgesXsTufBIMznfC\n",
       "Pimj4W2S4tR+4fSLvICKnRl8NSAAAAKsAZ8IdEP/AADD3S9SnhK1rhXjuojLp14ytPG9kP7rugAV\n",
       "uiamBB96F7QrVEuyXx8lbRCb7BxDAEwkOcow1R0hZOy+JQvkkNAQWVIPwewtVAUgmbTL3pqv5fjx\n",
       "DRhUZwHwZ7qN5RxEWmz9pDYtx3dhL+1EIokF/XAW8oamNeYq5nkU7fvsQlQDGRQozg8yx37VCNec\n",
       "DU0s72s8z4S3OIMyPFpSCzoGTb75F2n8W60yeR+aAcW5kIAx6SKg0JLU5cJXCktW8y9x8vB9N4l2\n",
       "ky7qn16X4v+nVc/rNJxOUMXCGKpzqa0FMVIBFF7kMOlBA4g4w7dZThWhUF2FiubPGnrh6c6MjnxS\n",
       "BHavA2aHv9jBazsA3kG6puhTszGaTATX/xDoH+ieW/pMeBNSvMx6xiWx6JwvCcwwThc2ybUhYuNU\n",
       "W3ZbxprnXvzXDXIYqhAhcfDDDQdHSeJPekTXVLmV+B+d+o/mQ+lDUFm8BnAjy3Hnsy1UXp3OVSCx\n",
       "7TPlr22NdarwLx8FgjIRx3SxVjrt3ED8OtWsIi4NssD/BG7wcNj1zWJXReSH9BNlWglLCCX+GqdX\n",
       "wLnNDtsJcSbCZP5p53YmJy+1HK5mhum75d32ZM9OTbOykwEDVEJh+Yvk1rs3tjZ7rWrAgnaLNTXM\n",
       "sh+w7HUKUq9uAB5NGmsK+blMYhAIboJ7Xn0qV/WAeWFUUdDtguDyY4Xufy/xoqLXYmMa2Ee9eW2p\n",
       "gxPIHaYY4lwsAuW0yeiSUQtiMUWfM0PKPwsvN1lc3q95nC7Sws4Y4vwoLcakYDTkxIG688pND8LF\n",
       "QKMSyytyLCjy+3VbQNguHHZJX3zEYs7jtPoIkIAtbEBYowaItQdnoOecCqgOwp0mHizahebJqZu/\n",
       "2mXYLBSBvV6YZQC6A0tAsTPIkG7kNqWBAAACKgGfCmpD/wABPk8BKXVVacvSZ4Ri0W91uU5imHgC\n",
       "LJa/34XtaoAIfsz7nGzt/vhJKdiq82S88N6YdPp/1+aoNpc4bg0sWB9Ivd8ebFM3JMVKgSJL+TvV\n",
       "yDIOtRM7/h3n0z5cEbWz+iMijJhPDKIi/R8RIJ4UUkXzHplKOf5ow4JCpvoNH67v6Kh9saIC6td0\n",
       "dE+NiVNAUVTiCcri9ulEMphV9SA8G3345zcUS4iaFrE197QryrmCebWHFKxv0PBVkzbSOchE6gOC\n",
       "Y+oQ4BXxVu6irLfAI9yHNzyxc9jwP++ACPB0pT2Xr0xvC7DiuBR5kHCS2JqW/To/mJv9MnDPGwi8\n",
       "gNcldbdVAhLylNRnt7A/7DJjL7NBFExdWeOx/lUyAJIdTA9t6Bka4n8fKESID9h8aqBuRBW/7gkP\n",
       "Hdh8A61h0dKLjYQgMjvphLBtMGo+FC32n3DlI5ugG40xWFdQB3sdc+dM4viorhXtXKtIleBRls77\n",
       "eCCGvb3/M9z7ACvVRNzlik/alIMqbVtEqi1y+5f2dja/k9mSlXh32ZXekuVQnoqZJ8yopeADvClK\n",
       "UcUp2Xw3XU04c3hmIUGfWZVGz2EEkzD8PqLuI6OQ7ZRlbiX3AgTjlaUr8Z8Jmg36zYTtRA+2ACfM\n",
       "ql5kZPOxnG4LXVCMzOlqhT0qXyDqlChdEChUT24jn/DoTRygi9odV3QkuADIxW78HaQ3/T6yiGh2\n",
       "pplvJEIgHxu7p5VtAAADf0GbDEmoQWiZTAgn//61KoAAcc3q/fGIlKACyj4K2SI76DsGkiKYBUIG\n",
       "Xg63Jl3KjzIXabQCgbJNC1JqoS6pCEgKtSFvCFaYfQxnoK8PDJH1RLrCFC9Hi2Xyn2AmiZWmNTmL\n",
       "nbntMOt5vTiTC+sXxIhzDzn8WfqR5m6VoJgrlimR/DQDcCAM7xYp+3fgMK3O1D2Mmp6o9RnGoGnf\n",
       "RWLLVJzNCxlA/U9gILCzOC58SAp6nGKsOPcUx/RiLfBxJwP+4Myha1oQdc8ArHJkkeGiJrqLhn+9\n",
       "m+Kww7SZlNDRVfgVukFxNWrmTWkun+f6K9Opr8M6okoCyeWOUGeyi7JnZ3550VD+BzarH2kjZ6NB\n",
       "nWqBkMXkXXNYx9b79smy5eY2gPEUPz64xS0+DLfkwqk56J/BJ8ul+GKRfBIdUiDPANzkIRmqLp/4\n",
       "6m3wjNQmPUoi2MLhv8hCtzfp32DMwwPY1GlxIJYl0hQ2yURtAkEwmYij0/AnofCphH1tMPoTfASn\n",
       "rTT5ze1srup4FmqjVGCW1B5qmApTFI52f562FekaigsV3ctFZL2HiafRC47Oj63GfwqX9zUkP5uI\n",
       "d2OSPj3cn15+wN34vTkp2EnlM5aDLNm6ZU0D7Ci0ZgCapUtsSq9iLfFeralUb1HrZzLaaxPKsovz\n",
       "V5hLdkA/1xb4g5nA9ZsDgO5IF6GYQ4iBAN1ELLpj9dcYbEoHeLyrhxWaWIKVE2smh3Tv+vgHJHHC\n",
       "Kkc2fvm2y0YUXnJcPbCoQIE6UauGBIAazruQlBDKGzSzcQDPzISKO/6UwbNBYB+D+q3OejgdDAGP\n",
       "7nshCGBwpMOdszHaT7kdrSUeUpRVq9PufbWT5/F3ujt8W3yJ2boqMcM8strwYETU/b+Un9q33C+O\n",
       "sHPsEa/n83OQNbOk0Xx5taOgbI0fTxKdRqORHfO4KrN1m4xINoxTcweKEC4ztIVo4rOePajl/Ghs\n",
       "Z8CKIYmURyNtJYsVAHR3y8h4Zmhmsd/C6BZb9VR3KSMm9eXof4RSZZYRPzzFi5jw2CyO1Wd6htt/\n",
       "M7vgKqO3+CGXfR25rk8d5wk+FQBAnrAAhknQAqU1fdw8WvayJWyQx1RGEFqibTdF+3PBVl4bW38V\n",
       "CCQTIBDeQzMcSZK1Zxem8hIgjbEoZ70yu4b9PC0uplaAAICMFJpU5DGl3NYEUy3xuKumJ900EYAA\n",
       "AAXlQZsvSeEKUmUwIJf//rUqgAByH5kwW+kG4AbREfQEfPAFk2UHI1DcSAaos57i4ac0cBXKCdsn\n",
       "d6gmTATpIfwziXM1K4LOllP2675MFN8d1LoB4xmpsUxIPt1ltEVipzrBCIIXQnEn+mgPK3mJZeL3\n",
       "PJcdutRU9MqUkztCvf7RJX1uM+FnkXuodfhhtE8TZBrU06goZ+XgT3Wv8C6KjGb/J878AQV0tsm1\n",
       "rK80HKN8+RaWEPC7Wt+U5MYkAgkQzBr2b9MGE6zN+HNZAy7S8wuVvW3ak5ZXw2qqzDPfPb9zwPw1\n",
       "Mpdemxeo5a9I9MXCAxHMmK+hunYLH5R+nGyL1PwL6blaQ7Td8vzd9foRky4X8rLAuHwTnlVELw3N\n",
       "I3QHixkre9VDkL+o7NU0eI68I4+PZSBsL0tvVWaSWgjUUZx5TSbUDGEoY/mQQjOouiyD84DLnpxn\n",
       "JcwGKBd9ql8pqaheP+42W7Du8B93y6Rj8rRllfKUiZ8zNUVxi6ZnCOQpSeyddrbXOI6OtM5cjSbh\n",
       "3oM2rkGdbjFR4niWHvSMnUB3b34U5bJOlG+iG6mxIIDCYlPxbjxFU5MzCbPcJNK/r6xgdSOxwzgm\n",
       "xSjr3c4pOc8Ux8shNSo6W//BMTGZL1optoNNKRoNN7GsNiNd4Y+BRnXgADqJCjL1yomCvvI+jpAR\n",
       "ABMZgap/Omj1Wq6eRFLM0OwRdg0qbqCmxIFh66ZIopYYr+KVsAZFr7j4kxcWbLUtIJAL7HI4OLsa\n",
       "ATo3EdD3Ll3S6rhu+G6PDyGkCsoWQ6Ju/c3YSCRD0FTJaLsk9QqDi6MRxi9T4aMfvBTDTtfekOdj\n",
       "5CzAzLR/H/yIvTp9iPw5tPbB4eStWn+QPBL2yU9UDrh5PrN9m1ybQZ9cPJqvfO8s5Vvtznx1tyJG\n",
       "NzZ25O17tF32fcSgshUUfoIJvJArHUweRB/Z6/JNf8Y8zvGPMIOyJGhM9MgungRpJdlK8zb29ro+\n",
       "lmU8ARznw1x/VK0PAhI7GQi0nBWpV8/vRi0cETVRuQ/tGRZPB9xEDFjXjRaTpt8QnEiI3SHmctca\n",
       "kiPYeeu1DkjIldfWrQRinQ8A6e70l0jhWZDxvKAU8vXuoc54fnPYoGeoPA9bFGu+LVHfizuva0I5\n",
       "l4DgSDnve5ZJTs0QlcofgMg3OMAYLLO6E8+nxGkOv6is21DTITldAbFdfkJFT4URVbhaAcnLFiql\n",
       "3MCfYEaDQS2Oam94IRnyomUl3a2JFbGy7b0JX0gsFcybZ34DVQAEW5D2QmfqD9OOeDsGuv5uv4AV\n",
       "nxyG1OYuFW2BwIydsGR0E/L3NTRxUf31sMWDqRfd/ZZoPqM9i1di+65uo6T13tiN5mE0gOgf6LqI\n",
       "KNgInkyax+4eRxUz9vr8kYbEyzwTOjxxIB4Bx3NwK4R/6zPiLKElYrqteELrIEBxa/kWDyigSRzr\n",
       "W9023Tctv4Nylxsn+aS4Zh0CRScDY48qgavUOOyyokiP/Lb2ZnZEtWfZlsq84vZzRrVRnz6fnL+q\n",
       "ae3GMcpQifoPFb0M7UllKzZ6O+/SYN4PyUHVWUpwClP7eW52VRIEyVlZlQo8KqhppZVu0bIPiB9r\n",
       "pGSVuu12uKjrPNfNzvd0W1V30NeSRhmBcEeg20ozOwaNsAKJ7bqJcFY1c3z1Pzl3ElBsK0aHT4h2\n",
       "teNxJ/oyRsSsoVWZCTA0KX8j+YMy7a5POXT7DdzJ58WNSmdLkOxLu9dXz247asFNlYhQWvgV6/gj\n",
       "x1aV83qH9NzdarO5T1CB+XBShwv0AdhT9Ux6/85JUYVNZF7KYGWvodLPolL6BuD5HhOg4Gp0UPfN\n",
       "vFYd298uz7qMyOTc7e0ojHzXxgsuAXFmUZoCe81D2BwHf5/DUANYrKPxViV5ldPfzj5kYWexPcgb\n",
       "sJwwzdqDugsdB8fCyX0cLQ2YkwRe4664ubinX98hi0i1Ef7qIKs3BoJyol0Li9rR0umLdf6s2Yuo\n",
       "XgZrj48U+dNJYenJcWTTnbYKQ/NPqaxAdkTwHxpxAAACHEGfTUU0TBD/AACOlSI2WjW2cLA6774r\n",
       "4ABCNmMPRp4OSBdF3+dN8C4mMt6OqwqFwUHfLmGbQ+Vq5P/w7L8BxnM998GXj2jl/wKkqvWsm5Zk\n",
       "41Nf9rjypEHk6hUEB3u+xVvxVlJxVtfTmRktjZQSnWPjzgijavhTun7IhM7j5ECFKsx/ESNin65U\n",
       "/RmrANfKWkyYlFPrAWslXPYRg1u7tJJ7VUbcY0Ft1XrxDlDpo4vEKUh+kC1Mzz5UgLbsXSgedPLZ\n",
       "Dnc2lbnUT736jPfJDbNRovR7Z8J7r+qcVbdoXMjC5m385QbVGuL1RdALixJVv3TF1Q1zMBFjYT+M\n",
       "uj0nP5+5akI6k8uZCAlo6wodsFGqkU48PAFFx7GaBujEoyMdmx23QWdocwWyf+R28L51ipTVALtJ\n",
       "KujQyjPe+qrMKwfKljtrCkP6SqBi8w1mWyeP2qQsGu5fKUKzKejHweUVKIuB6Neo9LoBY/TWYBYw\n",
       "nuFY+yZCcrZTxQ0bFIfNwSU0bAZayVsUMpQEKCFGvSCYjfm8ekZOycqKbZ/q+i+QK5b7/Lm9rY9S\n",
       "9jN4L18uK/EpoIWsuVW85hIFdcvouAfPvyB7xj96tkyzvsCH6rVzCiQUkQLXPZtmPRuYI1oeV0H1\n",
       "NlVsrIuMM7PQiMUPfTILHieLcteILW56G8BKnh+6pv/EIsNvjlu2DUXRxrK82zimXZAuVTq/u4bU\n",
       "NX1DmwAAAZgBn25qQ/8AATm3HFtcawHJef9GrYloAIfsqWva86GdikDWDorLR6bNWXzQXykXslkg\n",
       "RcXbx4kmo0UZc9lG/AwiOGnhmngxaHDIjJcyAvwsjSdGQMs4MeedRciroi6figlX2h6w0VOfLWkH\n",
       "8o0QzgHFfagU9hfZi9hmGAFtTFUGbLbua8Cd5Nagbpa3cDGwNVn/JrkFJNePwBMhJJgbvAvrXlIg\n",
       "eYvvb0vi0CSrkbq8Jyf62tlAW2Cf3FBr6pt0YXrjp8BPg3cky3gCUuy8CkpncEN66vbF86AxBEtu\n",
       "NJ76dUNrcAXeQEYKgkWLTy1hcMrAo7n76Hx7xK5EboZCOYwJEYEkc8J1ZJIqoPNYbG2hEl3H9khm\n",
       "d0TgAZaCN08YyQeGwWshLFZWZfzV8XBt+mp1CJiyKmboVELkYEAudPBKBwQMEwJOAJ6GGmz9rVOV\n",
       "hKb66j5J25DIEXR0rrlvtcOgpjsKlb29HBEkLPPbGgsiyrMJU7Agjg4Inx8OvsUSNd81iD2l4cZH\n",
       "MlkePBntGymQnmQVBxlsWzUAAAO0QZtwSahBaJlMCCX//rUqgAByH7ilC9WIAcHgKcoTJBjb4Xsl\n",
       "bhJZr6zVJHlanSrgeigQAy+ZB2/REcWutz9oyre+jXmI8G4orVc+xwi6rBW8giUDXv/E29NOUbqC\n",
       "1SPzs8vxfCLMev4CS6dlXyURzHe4VQbDonKWo8KveNwI/238Fi2piD3Gat3Oy8TxYrsi8D2Ctkn9\n",
       "+5P13d7E8UngubRmHCinmTZoCsOgHacFEN6hJICO9RYhvepE/CtXMYpoA2LT6r8jebF3ivlBCk0U\n",
       "DwAJH4cEDUxSJvk7j2ogeKeKymIgGSyI2i2MEKnh7cvvhaRdSpYLpN/+7FtVaSJkUvfUtLmJEyL1\n",
       "6BhCuM3VTMWr6EsWx2RE/svO5T26H0OEEqu8MOitg7QSjNIYZ19mxotRqhv4OMP1nkd6pXqMwFPE\n",
       "iQkoI4CPCX5LRxmrheFwUp1YARyuR78e9e0mRH/zjBChTO1MLCYzJJI5J489c9T3VJyRyAD5MaYG\n",
       "2FSnECF4AhHjL7o5otwKAyMTtoBCa+1pPbRxlf12WPib1e2eN+K+lmGgf7H6i3Wn3aqThbUmChWd\n",
       "W1yjS1rZkK6Z7vGWKadCKUzlzuj1D7gtNLpwGv1PqO3uJxB7mxVWwe7CiiyVZAhYNyqSpKYcO3Dm\n",
       "wf6ooHjl/KsJs1F5OyLICSuH9HnDT8GxVNz4vABjYQIH4PYe1AwrtNiKpcpknAFEJDNPeFUZMnhl\n",
       "KCoqK2OIWqLccRF1RaFeLRTIQJHwPbP0oTeAE+FUImwX7PBgJ78GJx6VmAMlCXmLget4EgU9/tcM\n",
       "/8RtUCFdtNp1H+oinuNkiiTeTdG5/8Fk0iYtciTrjV607ZTblYq5suMmShwVFah0ygVHlvhp8upr\n",
       "GP45eMAJzon2A4w7S1D12XUwVUoSqeX276NwFN4zn9xnKlIPzeuyyrxPftgKBDh9ZJck0C21SeiB\n",
       "+wRVYIBKkyKZexK9vbMtlVnEgj+o/g2ZxE38EKR0AwwxN+2hR/hl5UWXcaJWuYf5beA67CFnLZHN\n",
       "dfRqmikwQA7M97qmtxE9z3bhe3ajo/XkRcOjkXEd9twfcnH83BpVuNqDDyQwHSPJ3rY8CP8QYUh+\n",
       "EaVvyRoCQwRZ/Tc7mnl4IZpSY5OH3UsCy57yZygWu1VlUoZYazM/e9W12/tkGVzTzYdYX34dGD+r\n",
       "h6Lsh4f75Vi+LGTM5vxNkcIfUgQ8AQdV306++x0ca/AI8GpfiTsToV3iuZFOgEPab3gbFdBuExGA\n",
       "AAADjkGbkUnhClJlMCCf//61KoAA5F/fKCaAAP63Omf+oYRACGvUxrFJlLrIenOb/voiyGjj3RTU\n",
       "6R2UdyBorzr2ZrTNj/5j68uHjGPg2HATWtnPSi9JfPf00IEj+3fn0xy2R1ten2uha2bvruZlk1qB\n",
       "8RshBN6uIcZfutQL6kzW6oPg4to/KXGfvnNxu9N1yWXSKQrSWrMSqAVyd1S9ephAehxTR9yV5eMx\n",
       "r64nR5X2CBDbyLP1xhpPyPmgmSjmDcVafr6Ipt6PrzpNwIGPbLCOWxE1u+YVgRUjx9n0DAIU8ptp\n",
       "xYSQkG9Yh2ZdN2h3/5Y2NAYxTy9meNJ/khYx+cn4UH12usUmUgGMmqCCJEStGEFP4GHe2v6p5ZAj\n",
       "AGHAbVBlumK/OveVnNd4+MbVJMGs5/at4pO7plhmqDRYHimP1pPPYobqWa4vYGYL4lPdNeo+sLUA\n",
       "fFHTc4jnZas5jiHKUDc1uPLGi/ExSYUt9cKFUJIrFtTHnwT0ALKnB/EfoSGlREqzfw463+AD07gj\n",
       "YwpVuIuGUqFKIc+I5WwMe5c1PgCEWIWcuhABPZ1YVYBO8Sbxi2VwxkMCAcYB5n6iDDGXCVLeV1Aj\n",
       "yt6dSWdqhHgP6iE4iDNIEOyZ16dueIV6YK0rrhBPzSr02k9clblsVPZAxaiRTZhwgUnrRr62BZiS\n",
       "C9mbOAcG0+l326m/scdo1vw1INGpL0UxmxoHDxQRMO0/DK0L2CZoV50SYk27N2fNJx2YnAsuCKIg\n",
       "TD2iXbffa61CvcVEFkRElHTrPSjfs9w1YlSox1JEM78ndXKNsheRAdH6syW6yT7j9txI4amb3+nX\n",
       "nNFyEhgvK8TxUQUYnycDTrUMFTYhTprzifNBqn98k9xdWAOytaRqBfO3T4uz+GD6O1Vpk3JuK/Gd\n",
       "UUdxVF2KXWpjvHOcrbnyfQuxqu97pze+c71+Bu0BQ2iudiduUyXQpXgKoTYpXiGaDy7Pg1elcjyN\n",
       "CS3a0m/0mObrzjB2RrDsQqjLr18iSKxW7P3P6dPKioFJXSqagruGV8yZgI5kJLL7tcYaR1nmlneC\n",
       "+41+rl3BeDeZXVOq61LrD6Gix/71SDMV+8PFuSpC19c8e4vuS5FiU7kM1tYjivIjOzOhU2x7sc3v\n",
       "uPt9X8ovreBSSsftqdB97AMCsUTXhys+mRi+JZeLzWhVIqirfJunboQ+THErMZlYdORetiIV9lP6\n",
       "XsAAAAPuQZuySeEOiZTAgn/+tSqAAORfum7noATupUhOSWMWC7M1DM7Jjoxz4N+WAxZOdg+VN3R2\n",
       "b+8VkLgOrDFkAYZ+PWhZL2S3OGEnvb307JdTZ7EzN1pQKlOYuPE4BzCH7uCeWSUqAz9GyknacrQE\n",
       "MsuN1tKiJQgBFw2G6mPDPq7F1Oaqs7rMPFULvw+1kChY6qnPCYhWYN3IgcV8qzeb8RTpRpt/yBHw\n",
       "MkZpen1r4eiBwnMy9dAHnzHqk/oEl7MBo4WZtnSLqNq/Jdsr3j4di8zLlyXLPZmTbDafrM9PRuK4\n",
       "R39JfPI6XOKErqhBzdS1Aicx3wUWizMWvZXv/08U12K3BuqExB/qaE21x3sD9FZACqITKRbDK2mG\n",
       "ItLmVpY8EbVfByTTwVTUJqLtBcP3OZTpVuulnY82fkUwx9btRy9nY3sp4VFeyDZVXM4ODrIIfV/I\n",
       "yjAMdzjJCPjZE5GDIfbNSn3QYMP4n+1/GjcgZ8mxludL4BHOkEb/iEOldwbv7hrh0fZK/i9CvBU3\n",
       "NWUlMNci9PBLExU1rIBP5cQmILvFrBzTr7DxZqIKZM0M+pPNuU6YidM+y/WfONxB8LNHNIzlK0AU\n",
       "qxm4a2qcknVLFeGSW6SKJaid/Hx2AF6ERUmS61so9oKIcn6oU7SRX2RZd2BmJn0ZsSjKjCUJu47k\n",
       "NixkXa4ZQ6bLbrtB2mr4PITjOtxnGZao59c1jKZk89+dennaZ8gU9krhwYz3ttisNbXR9pZtqHWV\n",
       "grfTlZ2bEMQ8kPHk34MBUKsjR9myF1GC0Oych1tQUtXh62svYv+UYtZr7BnqkV5nIjUF5LN1KrTF\n",
       "78F1xjV09swHST+JYqBtyUDsith0j38z6hqubMI8H36DLqSKriHKdZWvGADY+dpZ84D7sKpYvU6r\n",
       "f5B9e6vfwtIKx0vcM2sjSngcJTWTiWNrpgvB+1UUdyyst0kU2ZTEz6KYznh0aD15HnLj3EuMJzJR\n",
       "oqDE5O8Ky3eDczh0mVqc8URWCvg7Xp1zPjZXzqaC44X9LkXc0x9/RBLChaFZ5gSy6a4KSZo5k2wJ\n",
       "s80A9Y4Qn5TP9YDaZ+WJfDplqZWNLIW4FKnRcANJE6qfvUQWcDfq5CGBClZNkhDyath2uqvzsb4q\n",
       "uuT6Yf04DFYhXnI8xub2onk+rf3J/dI9oRuI36Dclmn26wy0+nwG2f7qjwhu+Jm7hsFjDGb/tPH2\n",
       "SioE8mWRYwmTALCWCnEeYmhGRlsrqzuyR4PMtivMaPd0uwEsgR6eaEcGKwAaa3wx4SIUAlMPHz8d\n",
       "9oq1L1r0+dteh7YlwWOgL7OV5mPVuZSRvbyGNeetvdFNaK1X+AUpx6FCuQAABXJBm9ZJ4Q8mUwIJ\n",
       "//61KoAcf+I0AXPbhbRh9HpOxOWL2hyRgEgTW0lS8yfotPxHf/VE6591UxaArBjAWZp5akSXWFfd\n",
       "td6ka6EjF44XUJGBn3fXcsYbI1YbuCXoCYgQ1EhMChgsYe797zSrnab+MFy96TtvTH73NMcr8Hzd\n",
       "HNkB8lRc69dXTPJgGwf0HevAvMPW2iL63SqCuo8c6zGp2PyT8jJsPEoryZ6hdWhwTM7hUdXC7nPQ\n",
       "rpQLbGYVCwL4wxs5/YXOscCnQZowt1xzXlIv10oqbZtZDfUXF3Urh414Jcg2PlLcV2mAFFnPU+9m\n",
       "uD3RoPbgHV5TINrOZCqGpdueulR3lGLuhmVjWeYG3FGei+2D3hMfe0ZJpHac0rTeUIHhw2OivGrA\n",
       "hE5Gm92Y1oI7/BdumniB8f3wAqp/FlKF5uD4OrO0S7SeYPZJ2rXWkxOCCGXwMz0zbVk9Rt/xC4mu\n",
       "8U+/wJUflH79OaYx5xhLwvhSH9RtqbhWXsl1CYSHa3mooqPX+XKj6hPQjQfT41qLZ/P+4hIwgwJR\n",
       "LWbZZs4qvGYYtF0UqDAadxQ1jag5pNC8eMhJSXg638TTkmN7F5aPAwRb43JIafZEGVHt1KY6f9ej\n",
       "bqAUyATS6PVzg3JBR9H68Sx1W6Y8C3DOiLrFOyWtieGiWKAgrDi1rTl3kvCPExHwmxeL8orDET6Q\n",
       "ggdlrNhDhFswkhgVD8dOqadKH42Ii1uXCmqBb+3vbBYU+fWDluj8bPOuv8P760Is84sjTOGAw98a\n",
       "L3pQRMku9hsw5AbiBBwiAUk+HswN3Qf2+J9ZIzs2thpFI1NE1MmzH//0ByKpF1SN1tCjU0qjYAzA\n",
       "t0trOtwgn/K2OkaavxO0nCTdxcj41CrQ3NMVkd1NnwRJVyRNSwACxAFdJtT2sQuAPbfTSLR60lbR\n",
       "3HVku64/S76UM1f05vaeXupFrbVU/wrXiPpJfzlUS2PbWcwY1uB1BgFPRPxEaQnAKEOOhDnCOPac\n",
       "2pDrxbiWmiB6YVK7BWzcG2rMg4oGzQSZnVBDdv5DsNl+AIhR/PCCyDarE3Q1TLRSEAWhM3c+ad/8\n",
       "s7wSGd40ZNSvxsgDZkyJ0HpMUEocikq3X0kMq8CdDmJ6g6uiYn706450UgnHemkoARr0SWWa7qV3\n",
       "PpJPSu5i1/Tz5LtVW/6eyGx+0ryMp9f23hkvRXv7Ss1G12slNHvCH2j6YlZHrp3TQnjqc3b68x3W\n",
       "1FP7HCoXWVAruPSMKSKjf2c3LJ0ZMcog5tkN5PpVOR8FRkkn9c34fO2hXU3Krv9wSI002VsGiNrI\n",
       "97kCjTlfkVn+YAqMvDnkJOYPf2bxnzmxrgJm1dz0e17jJB+gbAgUgYdrxqJUlgzxQmyZOzIAIYzS\n",
       "zP9PW+M473DdG4+A7sQ+6HYBlR4YViizn4E/Cmzhoob29idetxruECCrB25eu8xww/+uVIdef9le\n",
       "Af2I44/uUHxphDDIj+2cxBVCad86LVUpdaC0q5dM8RwN3XlQIFmsoq/n3S8jjLypP1lcpLLmDy+I\n",
       "oOEOVnhRReNQmY04ixIs8LNb+fOV+dzXxZAjcalD2CFePxcGlmEGsdheZbonXyvYKD0whzBK+UBy\n",
       "3reWa5Hou4eay+iGCNpv4TLmd6C/WSP84kbpk3m1bgkR5wb0ZkGksbXNN3xcF8m5wKci7sdfq4sU\n",
       "UEWQxnkMnxB5KwveQ+yOeHMdLA5e4E3yAtMpnlLCPcrnG8XbS4WGaADJYGSs4Ru78lAJFk5Vii/X\n",
       "KVfreU9hMBYM4TeD3aQ7zfSBXug8a+Ot0iOghLe1fp7G9HGhPMP6ZP1EpbvZQ0NyGLx3yuxYWx1Y\n",
       "uBTTlWrMcSXlT9/A3/oC0wAAAhJBn/RFETwQ/wABGsHqb2Xef8AJOCWp+wXwu2jcaoh4PLkYDq4J\n",
       "gztmpqRKDjlyAFBrSHMbotR7T/oMQBt3AtKNMuU5opQHPBz/pifTcZO0yS+tJaVK5JKrDlsXhtYP\n",
       "J9BuMh4uEp4esiwv3JHAbEcW2+LlccxxBus/MJLVsTQjkFEmheC5xsJOHmj4hMamxPF4q7NQrHHS\n",
       "JNEX7vV5Yom71ZAF7H/cs+mEVNKX7uXU0LL8cuSD4kOEifJ8+PDHYbfKTjrLUPVVADffX7fYIVVQ\n",
       "8GKjiBXDF+ORynVhKeStZilVw/jhWBy9xsIMCS5+XaCpr+wFrzvro6MQ9jCD8Jnxa4Se4sAJq/++\n",
       "1wIPRsW3l/adkNTvYGB1cUhjCCJEwRpV1kBBXnwZMkijKd5pWaaYSk4TJoTVUBTQGGFxvhmirptZ\n",
       "dcbl3W4tRXcBO1xrLW0A4XFIZxUeNPEODXZ4ZiSI7mESrlr0ASp9qFS3Nn39nQrYs8W/OlSbYMga\n",
       "bZqCY2KH93LQnsqDZ2o+W5qdCDNMZRgAfC1beOczf90QabgrKDZ8xVCqZqSKWTRbojKYptBoXEbT\n",
       "Jz845/Xg1ZqYSiN+RCNKpOPw1dMZdtsI3hL95Ip3Dla0VZ/eTUoQD/GTs0vDazOYSHGoz1/ink+K\n",
       "oknIEWSZ4QymzweMCzUUjFu2Mq0OKs6kuW2kWwX4FHo80juHGgAAAVUBnhN0Q/8AAnPIMW43MAH5\n",
       "ytLeBy4dk7ln7qzzY1MyoI2Fgl6QIXmmoKSGYe1zd3MNSUB+SP6mhW94phaZNp+7pL8tsD2WJdv1\n",
       "DJvbpPbAOo8zORi4hk3AcZFId+edvRA5A/e7V16JQAmmQ+kmtFLnkVknz8wJT+KQmmVMnpzHeIrF\n",
       "G8TG3z25pqYJDDL4q2R2M7Ga8N3oHA33sCAO977emtK//t+X/Zo8RPxgY5r466+nI2CiVDDFTGRE\n",
       "Lyc0VlbzF4CAmetkjTIjOZhX+rWIDG7AB0zMTLYYrLzM+EXQyuux25asLxh65FLR/BDNqtaltYzB\n",
       "Ly7sQ2xwmPHbY7qknWOTyiyU1l8otbHuWGV4Ffdo85cxUpGS2eyPYaUTVX3YKBzGZf7pvFipOp/o\n",
       "4CnF7IiuH8+s+5JCS6cSwyvCdhIop4WAtvWFD4jvGtn8FAIqu9etUQAAAOcBnhVqQ/8AAnO2RxeD\n",
       "9acMgBMY8mBIzcK14buwS0mJt0Ap9w8WdeQlTOjbG1CMn6S/ofZVLSQ/40u6Bp3940j0DiXpGubZ\n",
       "c5PVECvnDcB2xRL1WUjrCehu7yjJqo9f03LG8frdeiOSDXbDVxGPR+suOe+Wij5wgTlIlYF0DF0K\n",
       "qlgMJGwTNaRRDvJFWPb/OYj6hVUV+NdxrsHKFZinPDHbj0IihC4Rhs03TO+gtiyHPPDSR8K0bG++\n",
       "5DX4ijdTTPQ2+9JOzNg85WsnSHU5Y+S4AoYYWrIvlO7cNeIjztZ6r+0H4q3LP9AAAARwQZoZSahB\n",
       "aJlMCCf//rUqgBx/4jQBcW+FtxWcevOy0gDxekKmypEy9BgB/qZKI2GdKT8LznIgCblNqxGnOBU5\n",
       "l43NX8rggNkyroO8diUweplxlk3dPoUcI40dyKL90qh62gl2S+KLewsqT2GR4vlBXjEjCLkI9WkB\n",
       "bKX+aUHPIvRugKWuHQhMCvN6GrrZHglD6B4UvNDe17jr2iTV2t/mmQKRgFlJ4St9fdxcB7ObAdDw\n",
       "WpOrwQQ8pP2XNWklolGpNY1z5K68DGVEYeXzOK73VXBfwhIh9JrSOXZlyc0DtsPvuMlPnlwPt52C\n",
       "fcfM2EZgVgyPQzn5L3t7eH13a4Mw0AJOHH42eHORI9cnOtza0pNsMS1MnuFGvgu8Z/DKhCCJxkku\n",
       "oj88OTqhHXaVnVka7NpMFreqI/+PdGFlNfqtA9vBsywW37X0X5aBEv3AnoVzkQRzWtk68i+WSypp\n",
       "TvjsrjS+2LyT4cq7qKmqUbYMJ1lY+kB38LUNTFS2DtccHxvmMPInqLylCiYFdpkeYJCgudnxKa3/\n",
       "Yq6pjMxuHB82jDei1c5EvrsIvAqJ8MNHPOD4YC9687y3WTu2YfO8xIAmvbCFpMukYwRt3OrtB4r/\n",
       "rxYZrANkH7d0kxTZEQVQl0qbfgYEDdajhPh+S6GZv25W1ggpXA9hKI+K4G+ZgyjW7QjeNuVmCp2q\n",
       "xsWVeCZw6bwTgXbMuINwNtBLVTTNlHhNwSh6cTLXcfTeMdKmRrTfu80KnpIVwUNd9LC+GocIrv7Z\n",
       "6JVN4Y2yRYh+1lJy9l7EJ/7OdAsHAhBDfHG+rVxifNizOCzG17AhiFhQD7IOJcac2kF4cSx1jurK\n",
       "YLIY6tVZLGpVirWSALfYmCh7ImdNBQ+B+nmAT03wgcKOxQupun+UL1yWpI1f2/BR0E6vDZtZukM1\n",
       "FTicShnulliEFMbZ2KEtJQqRqWlTsv271jMFQxQti0B13494I/lexHcqr8OXcl03Vr0K0+KATkV8\n",
       "NxuNreNauuaj87z4hxE1NrKdXT/Ez/rPmjou7ds/wfqE8cfUZxefvDZAJwK5nx7igaKZcKF9Lyka\n",
       "9D/NxwtBlF/zyIITF6DIHd6MDLfMZMNRx+iJEclIP/0IZsi71HElnEqls/9sORvidtZiBST6Y94q\n",
       "lO31f1S9sc7JIWNciQeN3kVkHWe9xPOi11x5I/PDfpMx5ib9rqmzEo1zvTW8bup25ZhENOqwSxAG\n",
       "FBFss2VR5PwjQH3Pnj/cGm+huCx2XapoxsUbSv6WZ8bwa/PXiKt5NTVEePyDC+Kje04J29Otu7EE\n",
       "JF5RzfYU27jBJtn14qETqklZrequCNTB7jNSTiER1MeRIUEkT1hH4pNZD6A/BbVngA2B6xxPkDuB\n",
       "H5kl+uTc3W40Sizgp6TZR4WMxsrrg3T+ZU8jWiy57/y3sDMUvnoxTCbattA9c6rdz0mTqvHWS5tl\n",
       "q7P7RbwMvJvONrLCau5mKUD0TIocofWG9lMPR+aYmR/qL//PacusdRFs88X5USsAAAEPQZ43RREs\n",
       "EP8AARtFURVoAE2xmEy4SScBlsINu/GOu8wh6IIqBOwdc84qWbscHS4/S/KWX6/uloVSNYEm1l3U\n",
       "2ptvR6L/jNVDBMZIz0TrYjZoc70ATeKvnNCYLAgVSSBCbmHIdAN3vjtNjixDzmTF/uZrJtyieUZH\n",
       "7qldUBVVCFutFwrnsf9D0EHFyweHtikDTOhvsgxEfbZ0vTjGCNX9TCX5tNbC4S2MqbJsS7prRF/H\n",
       "0I1FKcyR3Na5BHz7p4DUPr5jL4jVRDpp/JmmPA80QbFepuFG43pJh1gYDNh5Vsyo6BGOnIi2gehM\n",
       "R7r7S28q4AOBoH9GDsX7hIMzMiQAAAo9v7OAEblJUI/PoyUQ8QAAAIUBnlhqQ/8AAndcqBsLBMNw\n",
       "JHkTgAg0bC8uFf4Vadki56xwWPoBvabmI+2bi0xXzlKIZ6TNLH4lJTwA/ZNAzSq82EZ9dT4HGhKy\n",
       "fdu94aoISygVNwlkc0cs2JCdlarGyApDPdyS24mRLNnr11zBmkHLs/b+X7wrfaCQ7+OnK+tb0vv2\n",
       "iM5ZAAAEKkGaXUmoQWyZTAgl//61KoAA45VM/33xDACxGFs8rjBjLEy0jh2q9gDoigz/kl7Pgw6S\n",
       "4EplKv0vuLASTr1bsn8GlWyUlSnovp7Hv3p/maaSPpGOUy6LsJBeNEDm7zt4xuLOHscMssBgsNIU\n",
       "Bhxp7TVvf+NfNoiKxl6wwQ7fN42C1TEXxWfr/w1MKbiRpajFDgI0O97aVvNb3rr1mhefpz9weCEo\n",
       "DTqj0PPKHPIIx8qzHG4rFatAheZT1MusugyInGmVYywiu/arjEmUh9gWkwSHIftfZk4CFE7Xazk+\n",
       "l+/xmox1r0rwew4zWl22mT6N5PN3XnOzqw8kH21FFPCrnIZW6dKateAaG7yyA7eWDTPc4xY4iZ6E\n",
       "efI0U+t2XCaLhXRHro6Ck1uz6BpHMFaPUfO5GZvCH7OJOLX+1ZkfMxo9IZQqkrGLhisBxdExLBnH\n",
       "CQBZgGU1DdKxKee2f96aqE6A4SZUC9EAg21AhtmzZzRV64Lz1PbnGTnCwEyPdiP+aDcsldP2t5ql\n",
       "HrCCH2KklRSeAeTkvjDUpJ4Rk6W+Y1isb3r2Qp70/EGbvP7nTfflNMMGuO/5Ww6AjlUq/zNgI6a4\n",
       "xPTEEqXrLQyw6m3MDZ2hQXhIU/iQYklro+nLsU06Uj7XWweT5xt7Bzf0mjM5ssl+EA7Ywd9tERgI\n",
       "LeLSKYZZQpy3C/ncrakMg+NL+hss1CtGyn7v+ImM6oUN4DvCaBusUe+XAUkGz/FWV9UFBkfLVmn/\n",
       "eXT5pYQSETnCSW/nYfpqz24szOkpaR+55J/5QXMNXU2iyPTdj6G8FU1QC1W3ZPGYetFh2bBqhhZK\n",
       "XLxyn34N6I7Y/1nIwaxTIphTB/O+3riacfZi5qqbAvjo+47sS0fXj2WVLCyVed/t01uL+ORsBb35\n",
       "Bs2HuyAGTGAJrp4MFutig6ec399Hg/42RpnADk4xds+OM+tKkqGPhxmo5ez8c/sq4vC5OEkNezhY\n",
       "1L7zxiRvp57ljN24WrsUNx+08yvbgMCaN1DHK1I9KFFMshiVlfyNkFqm1bvNE3fGV0O8YUg+lwYO\n",
       "Lhh/xysnQ3I8wmVsV48zBcFmpQYJcr1WuKwyEZTH86tnA5L4izKugZQAwrUsHLHa0mhH0+veO6Ya\n",
       "3pouEYuKDl+jpJ7/ZOEbo0MJa2mNBTVlW5hsSA8oIArDDui4F1FNX9rTC0hrj8p9KqdZW+kCZ2M5\n",
       "i3u/0jpaZwxwiNnYRYVXKdtWoo2VTU6xf/0x4FD1+1LRgQDIkE1l9Ja0oOGnzvssPk2ZNfoYdQlj\n",
       "GllfPUU9Z7Fm/BSr4j3dieMlIzFUR+71EJGaejqs3Svj3am7p/j2W0hHYxoXyE+abDQTKM+q/5+j\n",
       "+VW13W8GyN6aw0OxH2vEc6SFq3xZ6ivKrsldD7NrTbd8G70iKtk6NLM2sUjP7g8AAAD4QZ57RRUs\n",
       "EP8AARmjfCdxW2dsaABbdtKDVfhHU4Mc6N1r/ENRTvpKMeh6F91G3WCXecp/gZ9YVo2A79jh+0c7\n",
       "DxlK2bQxOL8SmhnDyW8IPqTUhnljwSdEO71ZwhHO6eFhDTdvRYd35l68I7wfsWauIIJB5FPfJaOx\n",
       "hy9o9pZ2L7k+Cc9NpjSWIalL881DXgMfp/26kkZbhHQb6LekCcFK+wuaEtcY1EtIrwYVxyiJevpn\n",
       "o0O9XEvQivP1IPf/gCRSsF+8NGlq0tCXdhazrdNP6LMl9dYkS1Hspx8U7X2U4Gic6XCMWOrD0IoR\n",
       "yWRglobhdtbuXe02HTAAAABbAZ6adEP/AAJ2JRpoupF4VGff6IkdAxX8Qg0lhSWSCp7VtJ6NhAE4\n",
       "eCiio6uaMDhi3ZMNIcIzICp4gumW4qfW0Rdt1yKih3FKWAMlanzqinTshNM8pp/oFHoakQAAAD8B\n",
       "npxqQ/8AAMP48RvPZjunhx7cjY2kT1YyVf0NL/pxjW0KqTkihgJFyR1568KddgABCBx0d8TunShx\n",
       "+qyiydkAAAIQQZqeSahBbJlMCCf//rUqgADkZNCABE25WsY0FkYQj8RBsh80sIwNdXlkwooKeAK5\n",
       "kGfGRoaYYxQrwRTKCGec5Y4SGfEpo9IqjrxGqcazruReOVsogc/mHP3riDT5NKAlNED7DuiulfP5\n",
       "RDCcHk6ksYsav/YGQV9xJM6ksCHK6xyqP4aOPFD9dV9wxtC0ySZAerdU7x0T+NJmqg6yaqCzWaCd\n",
       "8mx/PxJn9iMSPqB2f98AjDS3uMZbsCuxos120GeVu5phtWbT9phh0LGj8Ft5WpzAt6jwrPoFm5kp\n",
       "nW9A4tWe9+hW4MPgHu4ZlCQ/gbWaBvnrrZ158X2v9L1qUnLM4/ia4/7HzafBL3r90daoA6JyKcpc\n",
       "hb1Y8GOxDX0UBjgpLrbu+EiqvE1TEKQSrcOYwOeBU5b0RAMLtMiGm7/JYwIlXMw50niUj0sLBjeM\n",
       "vA7IA44qi0tB13AcOg7VMZFAtVscTAQ88/1EVxuAQejxWrxXZLVM0EnAqo3VUnynQ2Urk7cXSbfy\n",
       "YIxixQgSll4gjnQCAJkZNL/8zIxhW7ZDR09jfzCMn8+H/+PskU+Ut6P2DyDCBLKr+Nvga8aDN3+t\n",
       "3+zyLNx5Si9uO3FbkPF430MY5pSyvn5x8cXJdn3musphcRFbYlu2JHQonhTo3Bhh4211Iymbo2VJ\n",
       "fuiHO5K/sNqaPHn2iKG8exEbp+4w5jR4AAACykGaoEnhClJlMFFSwT/+tSqAAOObHvlC0AAiXkjC\n",
       "nQqTmIVpa+ZWJ4Bvz2loP0IMJvbgE7ES5QJqVrkboFtk2YdnyIOyE4hwJS4kPVb761+UmEA/sEBs\n",
       "74TBBxYBC/5R5BjbNJs0N+qh3RHWmZYollk5Wc3GRaCopa0K2ayoso5/h10ZO69g5AJEBz9Q3BN+\n",
       "jnbf+NwrRpzrjeL3g+wE5d+eyDpTeTvr3LyF92MYkC+T1YQsvQTaIkfAjJltsRcfm7cYF7vHXthC\n",
       "nkf5HQnwQe3Mz7OtMi3l2MgQfTrvYaXffTieDdprmGV5Y8ltp0nYYVFkokRwAuwAI4lqfdzQv5gU\n",
       "jntP1ad0ZWSL57A+IYZA/hatwb6Sg74Pin7wslKpxe0xE39JxaHUgtCjf/wAKTT705DGSP9Jrnj1\n",
       "X/HPF2aD/mOgNMiULqbiwIuuFyE8EvJLiGHaTAd421cqKREsojhJsGFlPGLcNmOROoiiYrzTSjO+\n",
       "djulA0mu5WplEtB8CL8LcIaWnQk0ubbhbi/Jq724bESvUz9cRU3yuk6SY1eJbQby87cRaTGWI24C\n",
       "M0Vm9oe0/BAGB3GRPAs4+iY9Df7VTPSZiZx2LF1ZZT1jRpa3keKQljfgBDKKAOiH6tOUlqA+0wke\n",
       "nY3+Rp99OLohsJ67wqmwsdMnQ1kc11O3FyxqLwv6haSPDr7jMRhaZ04xEv0JDgIFnZHb+l/C9npR\n",
       "MyfPrDR++8/n7A/e22kCIGTrflKzZYerl/REqxSa8x0pY/AsXwW+uTl1JhbzetKJAgAvwjWoL6hj\n",
       "ctNw+N/DaP7IleuOFmvf53UY1RclpdQ8AMHYNzeUzLB8CG/WBTVBIqB5NCLmp1ZC+0a35/3mH8De\n",
       "42wJDDYVFUcryn4GZUocpr44KkEbAxPKF9tdpQGBGbefwKz4OLi3ha49B9mmnq1ousDf3fQyzK2q\n",
       "YAAAACYBnt9qQ/8AAMHyRIQC9iV0TYG1YAC3byufkuKzG0qB4kn+qnljQQAAAvhBmsRJ4Q6JlMCC\n",
       "f/61KoAA45v2dEr/pYAOO6HWZ/Vn6soCz+e6zJqa4ADIFuPiy7w5SosAgxrmCoqlOpzqrD3ARebN\n",
       "mQW10KeK56I959G1hcGlq6ysQF7pmClRxRRINqRd9CUnVTV/5chfmlDpeFeFP+6ZVXkWHe3Hg78q\n",
       "YDdvbXCbwi2GIhfh+KeIp/5rl7/Jc9CRXy4n65oz3QducZamynl/WgQsVevXrXBH7Av9aOT+1F22\n",
       "/a52z7wVaRg7cWGmpYv+FC4Qro5NbeGY31fiiwjyfq+I8abR3/u6Gci0ybGRg9D15qPFZmSzbtQ5\n",
       "r24SYMcU20ej2b2W5MO3bRgu3oK1b6kEsSHOZLYz5qy5VCbe1JLlqwguAMYAWll89vUkeeDWkYmc\n",
       "qMeQRB/S+9d+lnZ8dN44OvFSm0LIaWj3FcucIYLa9sjGPrU5yqprJg4GvZrtt37UQP28XCRfp9Aj\n",
       "c3uh6l3yykheB9yuEQgXMyBsHrJd3KZ4tqzrUkdM/W2WjNPuGEjjysGzdQWRlqq0qnFYWKk07gix\n",
       "7+IWWQFlwIaRODlutGnIkPvZ3+mUCWwqEdXZjxXrbr4r5cZ9WkNervjXFs6XB5Gmk89ma6klz5me\n",
       "TIaNcK2XVQ0Xz9+bjHM5L1KT6AA4IY4HuNdqsV8CcesIS4K8ea0byB3AJ41mELj1uRkpLwNhv8vW\n",
       "ixucjh5X9BCjDpKu7q7qa+DsNeRe0sJY/39c1Re4t7Ar3jzouNPC7cckXZES2yw+x+bSshFvGBcX\n",
       "eboQ6kfUnx5B/Cz/PTTwd9Q0muxS9k+Anbm/M4zMlYO9510CmY63PQ4DEE/z2g832966hOgCx3ar\n",
       "x37SvW+u5stolIgCR+vHM6XseURAb3PWiH7/LTdOV3cchVVHLcPV88kuip+RmkOyCZXjQTnvYBvF\n",
       "nsKvN2yrFrlxrKkS7AQXtWGX7wf5H8E4uhs+XkgzGoLhBlojCpQ2sn6dd0+04KFoFdN1UVVu4XE2\n",
       "+Trz64GpH3NAAAAAQkGe4kUVPBD/AABXqjsFpiFWiJR2ImFI8hqVJV/5Bq21aspWCfua1bZ6qhgd\n",
       "FqctnMAAJTkGWDNeVTSbQyir5fdRjQAAAB4BnwF0Q/8AAMPdKKz7C6G5ELltWI+e3IsMkEBmYfgA\n",
       "AAAeAZ8DakP/AADD+PDMPWXs7iAN+wBsbok1pqIMp9UxAAABkUGbCEmoQWiZTAgn//61KoAA45vl\n",
       "l5AwAca0E176k5ZNPYvEyD6qJBjy6jG9LckLT+56YdklWqxxHJW3TebUnEPV1Rk812PV5/ogpxRa\n",
       "qyGExAaq7yweBDdcntc1fecCulXHydErZ4knE/Ne364hY8u2kw1jpLyW23KYreMQ8A9sJ0Xk2+I3\n",
       "+b3Ypun6hN04B60QLDuQ2uBhlAmXP1pD3rw/lf5rx1vhmNPhKTZcOVmtiasIDuva9xxcuQBgN0hT\n",
       "NBWm20/2SjX8f9EYD2nST0F0oTB4+ZKH06gPlGyFP2FbzX5o6tUciimWTZjqxe0d2tSSskttX7mg\n",
       "EbuLKegnI+q+os9UwtEDyl0wYQDlpWL03VE+XMypttSw8Q5+61Tq4Y05bRM5blPsb/zivMfuoi/g\n",
       "ZBGdRnE98Y7ngU9FC0DbkwQfwOQRFu01j+fw7cpikNYU2ioFLcPNf/Lb7okGMPbcnKVmDT+lIYgq\n",
       "KpCEYJHeNjfgfmN67z4rFyFgAPoZLgnqoK56Pdde4sn9Y+uqj+arAAAAK0GfJkURLBD/AABYi0vA\n",
       "Aso6lgqjU+iEqB5WbHLkcDn6nl46vXwiNOtGSlkAAAAZAZ9FdEP/AADD3Sis+wuhvA878gDcq55s\n",
       "QQAAABoBn0dqQ/8AAMP48Mw9ZezuIA35SicMwlGjNAAAARdBm0xJqEFsmUwIJf/+tSqAAORnAMMA\n",
       "LZ59nOi/nq/Ixebh4oURQ8nA4KDhNm9dIrWXdKMIMKoAobILztfds6Ldz7o9Z8KiC/NfJJ7C8PZ2\n",
       "3Iqaky42Np+H8cuhFvJUDi5BxYDuhcy29DMnF24uaKn84/kT/cNl8Y5FI1SPHxcslhFrya9onmOn\n",
       "gPmN0oZowceUzewEkDSKipPR483bIQO3ovHD2t/K1jSAUzPrzwfst/m1nup0X0f144QgsEJf/T4a\n",
       "Q8dsBxB34jCU8l1ubEv4j1RhwKLRsu3p+IJWMU9Ru4AIsOcy5NSwmxLuFiuMVQ1VwNfUMD2F+0mK\n",
       "n5G4EeFzB306BOY0PtbJ+kRCgKsl0353yIxA3TAAAAAmQZ9qRRUsEP8AAFiLS8ACyjqWCqNT6ISo\n",
       "HlZs0UyNFN5ijgBHyykAAAAcAZ+JdEP/AADD3Sis+wuhvA878gDe5PLR4w4yoAAAAB0Bn4tqQ/8A\n",
       "AMP48Mw9ZezuIA37AGzpjEqvplgfGAAAAE1Bm5BJqEFsmUwIIf/+qlUAAcb3ZmzUAI7gAYWfhGsx\n",
       "NvEy9cjFL8gUdlOyOipw0No+xptwtwZndhjmHfAKkD+45KhPo6DeGOV5Utl1gQAAACRBn65FFSwQ\n",
       "/wAAWItLwALKOpYKo1PohKgeVmzQxLDrTYQK4YEAAAAgAZ/NdEP/AADD3Sis+wuhvA878gDe5SLX\n",
       "XlxHzgIr8MEAAAAhAZ/PakP/AAJrBtGy65BCIFMDNR9fgrCf7aZQNqjyJj0gAAAAFUGb0UmoQWyZ\n",
       "TAh///6plgAAAwDwgAAABVZtb292AAAAbG12aGQAAAAAAAAAAAAAAAAAAAPoAAAnEAABAAABAAAA\n",
       "AAAAAAAAAAAAAQAAAAAAAAAAAAAAAAAAAAEAAAAAAAAAAAAAAAAAAEAAAAAAAAAAAAAAAAAAAAAA\n",
       "AAAAAAAAAAAAAAAAAAACAAAEgHRyYWsAAABcdGtoZAAAAAMAAAAAAAAAAAAAAAEAAAAAAAAnEAAA\n",
       "AAAAAAAAAAAAAAAAAAAAAQAAAAAAAAAAAAAAAAAAAAEAAAAAAAAAAAAAAAAAAEAAAAABsAAAASAA\n",
       "AAAAACRlZHRzAAAAHGVsc3QAAAAAAAAAAQAAJxAAABAAAAEAAAAAA/htZGlhAAAAIG1kaGQAAAAA\n",
       "AAAAAAAAAAAAACgAAAGQAFXEAAAAAAAtaGRscgAAAAAAAAAAdmlkZQAAAAAAAAAAAAAAAFZpZGVv\n",
       "SGFuZGxlcgAAAAOjbWluZgAAABR2bWhkAAAAAQAAAAAAAAAAAAAAJGRpbmYAAAAcZHJlZgAAAAAA\n",
       "AAABAAAADHVybCAAAAABAAADY3N0YmwAAACzc3RzZAAAAAAAAAABAAAAo2F2YzEAAAAAAAAAAQAA\n",
       "AAAAAAAAAAAAAAAAAAABsAEgAEgAAABIAAAAAAAAAAEAAAAAAAAAAAAAAAAAAAAAAAAAAAAAAAAA\n",
       "AAAAAAAAAAAY//8AAAAxYXZjQwFkCBX/4QAYZ2QIFazZQbCWhAAAAwAEAAADACg8WLZYAQAGaOvj\n",
       "yyLAAAAAHHV1aWRraEDyXyRPxbo5pRvPAyPzAAAAAAAAABhzdHRzAAAAAAAAAAEAAAAyAAAIAAAA\n",
       "ABRzdHNzAAAAAAAAAAEAAAABAAABcGN0dHMAAAAAAAAALAAAAAEAABAAAAAAAQAAKAAAAAABAAAQ\n",
       "AAAAAAEAAAAAAAAAAQAACAAAAAADAAAQAAAAAAEAACgAAAAAAQAAEAAAAAABAAAAAAAAAAEAAAgA\n",
       "AAAAAQAAEAAAAAABAAAgAAAAAAIAAAgAAAAAAwAAEAAAAAABAAAoAAAAAAEAABAAAAAAAQAAAAAA\n",
       "AAABAAAIAAAAAAEAACAAAAAAAgAACAAAAAABAAAoAAAAAAEAABAAAAAAAQAAAAAAAAABAAAIAAAA\n",
       "AAEAABAAAAAAAQAAGAAAAAABAAAIAAAAAAEAACgAAAAAAQAAEAAAAAABAAAAAAAAAAEAAAgAAAAA\n",
       "AQAAKAAAAAABAAAQAAAAAAEAAAAAAAAAAQAACAAAAAABAAAoAAAAAAEAABAAAAAAAQAAAAAAAAAB\n",
       "AAAIAAAAAAEAACgAAAAAAQAAEAAAAAABAAAAAAAAAAEAAAgAAAAAAQAAEAAAAAAcc3RzYwAAAAAA\n",
       "AAABAAAAAQAAADIAAAABAAAA3HN0c3oAAAAAAAAAAAAAADIAAC0JAAAHRwAABbcAAATUAAADuAAA\n",
       "AusAAAPfAAAEUwAABusAAAPrAAACsAAAAi4AAAODAAAF6QAAAiAAAAGcAAADuAAAA5IAAAPyAAAF\n",
       "dgAAAhYAAAFZAAAA6wAABHQAAAETAAAAiQAABC4AAAD8AAAAXwAAAEMAAAIUAAACzgAAACoAAAL8\n",
       "AAAARgAAACIAAAAiAAABlQAAAC8AAAAdAAAAHgAAARsAAAAqAAAAIAAAACEAAABRAAAAKAAAACQA\n",
       "AAAlAAAAGQAAABRzdGNvAAAAAAAAAAEAAAAsAAAAYnVkdGEAAABabWV0YQAAAAAAAAAhaGRscgAA\n",
       "AAAAAAAAbWRpcmFwcGwAAAAAAAAAAAAAAAAtaWxzdAAAACWpdG9vAAAAHWRhdGEAAAABAAAAAExh\n",
       "dmY1OC4yMC4xMDA=\n",
       "\">\n",
       "  Your browser does not support the video tag.\n",
       "</video>"
      ],
      "text/plain": [
       "<IPython.core.display.HTML object>"
      ]
     },
     "execution_count": 28,
     "metadata": {},
     "output_type": "execute_result"
    },
    {
     "data": {
      "image/png": "[encoded data removed]",
      "text/plain": [
       "<Figure size 432x288 with 1 Axes>"
      ]
     },
     "metadata": {
      "needs_background": "light"
     },
     "output_type": "display_data"
    }
   ],
   "source": [
    "fig, ax = plt.subplots()\n",
    "ln, = plt.plot([],[],'ro-',animated=True)\n",
    "\n",
    "def init():\n",
    "    plt.scatter(xtest,ytest,color='g')\n",
    "    ax.set_xlim(0,1.0)\n",
    "    ax.set_ylim(0,1.0)\n",
    "    return ln,\n",
    "\n",
    "def update_frame(frame):\n",
    "    m,c = mc_values_anim[frame]\n",
    "    x1,y1 = -0.5, m*-0.5+c\n",
    "    x2,y2 = 1.5, m*1.5+c\n",
    "    ln.set_data([x1,x2],[y1,y2])\n",
    "    return ln,\n",
    "anim = FuncAnimation(fig,update_frame,frames=range(len(mc_values_anim)),init_func=init,blit=True)\n",
    "HTML(anim.to_html5_video())"
   ]
  },
  {
   "cell_type": "code",
   "execution_count": 29,
   "metadata": {},
   "outputs": [],
   "source": [
    "predicted = (m*xtest)+c"
   ]
  },
  {
   "cell_type": "code",
   "execution_count": 30,
   "metadata": {},
   "outputs": [
    {
     "data": {
      "text/plain": [
       "0.020847099800493745"
      ]
     },
     "execution_count": 30,
     "metadata": {},
     "output_type": "execute_result"
    }
   ],
   "source": [
    "mean_squared_error(ytest,predicted)"
   ]
  },
  {
   "cell_type": "code",
   "execution_count": 31,
   "metadata": {},
   "outputs": [],
   "source": [
    "p = pd.DataFrame(list(zip(xtest,ytest,predicted)), columns=['X','Target_Y','Predicted_Y'])"
   ]
  },
  {
   "cell_type": "code",
   "execution_count": 32,
   "metadata": {},
   "outputs": [
    {
     "data": {
      "text/html": [
       "<div>\n",
       "<style scoped>\n",
       "    .dataframe tbody tr th:only-of-type {\n",
       "        vertical-align: middle;\n",
       "    }\n",
       "\n",
       "    .dataframe tbody tr th {\n",
       "        vertical-align: top;\n",
       "    }\n",
       "\n",
       "    .dataframe thead th {\n",
       "        text-align: right;\n",
       "    }\n",
       "</style>\n",
       "<table border=\"1\" class=\"dataframe\">\n",
       "  <thead>\n",
       "    <tr style=\"text-align: right;\">\n",
       "      <th></th>\n",
       "      <th>X</th>\n",
       "      <th>Target_Y</th>\n",
       "      <th>Predicted_Y</th>\n",
       "    </tr>\n",
       "  </thead>\n",
       "  <tbody>\n",
       "    <tr>\n",
       "      <th>0</th>\n",
       "      <td>0.911700</td>\n",
       "      <td>0.195556</td>\n",
       "      <td>-0.081781</td>\n",
       "    </tr>\n",
       "    <tr>\n",
       "      <th>1</th>\n",
       "      <td>0.381347</td>\n",
       "      <td>0.320000</td>\n",
       "      <td>0.326058</td>\n",
       "    </tr>\n",
       "    <tr>\n",
       "      <th>2</th>\n",
       "      <td>0.521247</td>\n",
       "      <td>0.084444</td>\n",
       "      <td>0.218475</td>\n",
       "    </tr>\n",
       "    <tr>\n",
       "      <th>3</th>\n",
       "      <td>0.779249</td>\n",
       "      <td>0.028889</td>\n",
       "      <td>0.020073</td>\n",
       "    </tr>\n",
       "    <tr>\n",
       "      <th>4</th>\n",
       "      <td>0.134106</td>\n",
       "      <td>0.448889</td>\n",
       "      <td>0.516185</td>\n",
       "    </tr>\n",
       "  </tbody>\n",
       "</table>\n",
       "</div>"
      ],
      "text/plain": [
       "          X  Target_Y  Predicted_Y\n",
       "0  0.911700  0.195556    -0.081781\n",
       "1  0.381347  0.320000     0.326058\n",
       "2  0.521247  0.084444     0.218475\n",
       "3  0.779249  0.028889     0.020073\n",
       "4  0.134106  0.448889     0.516185"
      ]
     },
     "execution_count": 32,
     "metadata": {},
     "output_type": "execute_result"
    }
   ],
   "source": [
    "p.head()"
   ]
  },
  {
   "cell_type": "code",
   "execution_count": 33,
   "metadata": {},
   "outputs": [],
   "source": [
    "predicted = predicted.reshape(-1,1)\n",
    "xtest = xtest.reshape(-1,1)\n",
    "ytest = ytest.reshape(-1,1)\n",
    "\n",
    "xtest_scaled = x_scaler.inverse_transform(xtest)\n",
    "ytest_scaled = y_scaler.inverse_transform(ytest)\n",
    "predicted_scaled = y_scaler.inverse_transform(predicted)"
   ]
  },
  {
   "cell_type": "code",
   "execution_count": 34,
   "metadata": {},
   "outputs": [
    {
     "data": {
      "text/html": [
       "<div>\n",
       "<style scoped>\n",
       "    .dataframe tbody tr th:only-of-type {\n",
       "        vertical-align: middle;\n",
       "    }\n",
       "\n",
       "    .dataframe tbody tr th {\n",
       "        vertical-align: top;\n",
       "    }\n",
       "\n",
       "    .dataframe thead th {\n",
       "        text-align: right;\n",
       "    }\n",
       "</style>\n",
       "<table border=\"1\" class=\"dataframe\">\n",
       "  <thead>\n",
       "    <tr style=\"text-align: right;\">\n",
       "      <th></th>\n",
       "      <th>X</th>\n",
       "      <th>Target_Y</th>\n",
       "      <th>Predicted_Y</th>\n",
       "    </tr>\n",
       "  </thead>\n",
       "  <tbody>\n",
       "    <tr>\n",
       "      <th>0</th>\n",
       "      <td>34.77</td>\n",
       "      <td>13.8</td>\n",
       "      <td>1.32</td>\n",
       "    </tr>\n",
       "    <tr>\n",
       "      <th>1</th>\n",
       "      <td>15.55</td>\n",
       "      <td>19.4</td>\n",
       "      <td>19.67</td>\n",
       "    </tr>\n",
       "    <tr>\n",
       "      <th>2</th>\n",
       "      <td>20.62</td>\n",
       "      <td>8.8</td>\n",
       "      <td>14.83</td>\n",
       "    </tr>\n",
       "    <tr>\n",
       "      <th>3</th>\n",
       "      <td>29.97</td>\n",
       "      <td>6.3</td>\n",
       "      <td>5.90</td>\n",
       "    </tr>\n",
       "    <tr>\n",
       "      <th>4</th>\n",
       "      <td>6.59</td>\n",
       "      <td>25.2</td>\n",
       "      <td>28.23</td>\n",
       "    </tr>\n",
       "  </tbody>\n",
       "</table>\n",
       "</div>"
      ],
      "text/plain": [
       "       X  Target_Y  Predicted_Y\n",
       "0  34.77      13.8         1.32\n",
       "1  15.55      19.4        19.67\n",
       "2  20.62       8.8        14.83\n",
       "3  29.97       6.3         5.90\n",
       "4   6.59      25.2        28.23"
      ]
     },
     "execution_count": 34,
     "metadata": {},
     "output_type": "execute_result"
    }
   ],
   "source": [
    "xtest_scaled = xtest_scaled[:,-1]\n",
    "ytest_scaled = ytest_scaled[:,-1]\n",
    "predicted_scaled = predicted_scaled[:,-1]\n",
    "\n",
    "p = pd.DataFrame(list(zip(xtest_scaled,ytest_scaled,predicted_scaled)), columns=['X','Target_Y','Predicted_Y'])\n",
    "p = p.round(decimals=2)\n",
    "p.head()"
   ]
  },
  {
   "cell_type": "code",
   "execution_count": 35,
   "metadata": {},
   "outputs": [],
   "source": [
    "pl = p\n",
    "pl['Difference'] = pl['Target_Y']-pl['Predicted_Y']"
   ]
  },
  {
   "cell_type": "code",
   "execution_count": 36,
   "metadata": {},
   "outputs": [
    {
     "data": {
      "application/vnd.plotly.v1+json": {
       "config": {
        "linkText": "Export to plot.ly",
        "plotlyServerURL": "https://plot.ly",
        "showLink": true
       },
       "data": [
        {
         "line": {
          "color": "rgba(255, 153, 51, 1.0)",
          "dash": "solid",
          "shape": "linear",
          "width": 1.3
         },
         "mode": "lines",
         "name": "X",
         "text": "",
         "type": "scatter",
         "x": [
          0,
          1,
          2,
          3,
          4,
          5,
          6,
          7,
          8,
          9,
          10,
          11,
          12,
          13,
          14,
          15,
          16,
          17,
          18,
          19,
          20,
          21,
          22,
          23,
          24,
          25,
          26,
          27,
          28,
          29,
          30,
          31,
          32,
          33,
          34,
          35,
          36,
          37,
          38,
          39,
          40,
          41,
          42,
          43,
          44,
          45,
          46,
          47,
          48,
          49,
          50,
          51,
          52,
          53,
          54,
          55,
          56,
          57,
          58,
          59,
          60,
          61,
          62,
          63,
          64,
          65,
          66,
          67,
          68,
          69,
          70,
          71,
          72,
          73,
          74,
          75,
          76,
          77,
          78,
          79,
          80,
          81,
          82,
          83,
          84,
          85,
          86,
          87,
          88,
          89,
          90,
          91,
          92,
          93,
          94,
          95,
          96,
          97,
          98,
          99,
          100,
          101
         ],
         "y": [
          34.77,
          15.55,
          20.62,
          29.97,
          6.59,
          11.98,
          7.9,
          14.98,
          11.74,
          18.71,
          30.63,
          6.78,
          16.59,
          13.15,
          4.21,
          14.7,
          4.56,
          7.53,
          30.81,
          16.35,
          21.02,
          4.63,
          7.56,
          2.87,
          13.34,
          19.37,
          10.19,
          9.16,
          5.33,
          9.93,
          14.65,
          13.59,
          12.67,
          11.12,
          6.43,
          22.88,
          10.27,
          17.73,
          3.11,
          16.3,
          9.08,
          25.41,
          9.28,
          6.65,
          22.74,
          11.28,
          6.07,
          14.19,
          11.69,
          5.81,
          4.45,
          6.15,
          8.88,
          5.03,
          11.5,
          6.36,
          20.85,
          18.07,
          16.51,
          13.44,
          16.2,
          26.4,
          8.47,
          6.47,
          19.78,
          13,
          5.29,
          9.97,
          11.1,
          6.21,
          20.08,
          8.43,
          9.38,
          19.15,
          3.33,
          30.59,
          24.08,
          11.32,
          21.08,
          9.55,
          6.48,
          6.72,
          13.83,
          16.14,
          5.25,
          9.52,
          4.61,
          18.03,
          6.36,
          11.45,
          8.1,
          7.26,
          14.1,
          2.97,
          14.66,
          5.49,
          29.93,
          5.64,
          12.64,
          7.7,
          14.36,
          9.62
         ]
        },
        {
         "line": {
          "color": "rgba(55, 128, 191, 1.0)",
          "dash": "solid",
          "shape": "linear",
          "width": 1.3
         },
         "mode": "lines",
         "name": "Target_Y",
         "text": "",
         "type": "scatter",
         "x": [
          0,
          1,
          2,
          3,
          4,
          5,
          6,
          7,
          8,
          9,
          10,
          11,
          12,
          13,
          14,
          15,
          16,
          17,
          18,
          19,
          20,
          21,
          22,
          23,
          24,
          25,
          26,
          27,
          28,
          29,
          30,
          31,
          32,
          33,
          34,
          35,
          36,
          37,
          38,
          39,
          40,
          41,
          42,
          43,
          44,
          45,
          46,
          47,
          48,
          49,
          50,
          51,
          52,
          53,
          54,
          55,
          56,
          57,
          58,
          59,
          60,
          61,
          62,
          63,
          64,
          65,
          66,
          67,
          68,
          69,
          70,
          71,
          72,
          73,
          74,
          75,
          76,
          77,
          78,
          79,
          80,
          81,
          82,
          83,
          84,
          85,
          86,
          87,
          88,
          89,
          90,
          91,
          92,
          93,
          94,
          95,
          96,
          97,
          98,
          99,
          100,
          101
         ],
         "y": [
          13.8,
          19.4,
          8.8,
          6.3,
          25.2,
          21,
          21.6,
          19.1,
          18.5,
          14.9,
          8.8,
          24.1,
          18.4,
          29.6,
          38.7,
          20,
          34.9,
          28.2,
          14.4,
          12.7,
          13.6,
          50,
          39.8,
          36.4,
          20.6,
          12.5,
          20.8,
          24.3,
          29.4,
          27.5,
          17.7,
          24.5,
          22.6,
          23,
          24.3,
          12.8,
          20.8,
          15.2,
          42.3,
          15.6,
          20.6,
          17.3,
          23.8,
          28.4,
          8.4,
          18.2,
          24.8,
          19.9,
          20.2,
          25.3,
          50,
          23,
          50,
          31.1,
          16.2,
          31.6,
          11.5,
          13.6,
          13.9,
          15,
          19.4,
          17.2,
          19.9,
          33.4,
          27.5,
          21.1,
          21.9,
          19.3,
          23.8,
          25,
          16.3,
          23.4,
          28.1,
          27.1,
          28.5,
          5,
          9.5,
          22.3,
          10.9,
          21.2,
          22,
          24.2,
          19.6,
          13.1,
          31.7,
          24.5,
          31.2,
          14.6,
          23.7,
          20.6,
          36.5,
          43.1,
          20.8,
          50,
          24.4,
          32.7,
          16.5,
          23.9,
          16.1,
          20.4,
          23.2,
          23.9
         ]
        },
        {
         "line": {
          "color": "rgba(50, 171, 96, 1.0)",
          "dash": "solid",
          "shape": "linear",
          "width": 1.3
         },
         "mode": "lines",
         "name": "Predicted_Y",
         "text": "",
         "type": "scatter",
         "x": [
          0,
          1,
          2,
          3,
          4,
          5,
          6,
          7,
          8,
          9,
          10,
          11,
          12,
          13,
          14,
          15,
          16,
          17,
          18,
          19,
          20,
          21,
          22,
          23,
          24,
          25,
          26,
          27,
          28,
          29,
          30,
          31,
          32,
          33,
          34,
          35,
          36,
          37,
          38,
          39,
          40,
          41,
          42,
          43,
          44,
          45,
          46,
          47,
          48,
          49,
          50,
          51,
          52,
          53,
          54,
          55,
          56,
          57,
          58,
          59,
          60,
          61,
          62,
          63,
          64,
          65,
          66,
          67,
          68,
          69,
          70,
          71,
          72,
          73,
          74,
          75,
          76,
          77,
          78,
          79,
          80,
          81,
          82,
          83,
          84,
          85,
          86,
          87,
          88,
          89,
          90,
          91,
          92,
          93,
          94,
          95,
          96,
          97,
          98,
          99,
          100,
          101
         ],
         "y": [
          1.32,
          19.67,
          14.83,
          5.9,
          28.23,
          23.08,
          26.98,
          20.22,
          23.31,
          16.66,
          5.27,
          28.05,
          18.68,
          21.96,
          30.5,
          20.48,
          30.17,
          27.33,
          5.1,
          18.91,
          14.45,
          30.1,
          27.3,
          31.78,
          21.78,
          16.02,
          24.79,
          25.77,
          29.43,
          25.04,
          20.53,
          21.54,
          22.42,
          23.9,
          28.38,
          12.67,
          24.71,
          17.59,
          31.55,
          18.96,
          25.85,
          10.26,
          25.66,
          28.17,
          12.81,
          23.75,
          28.72,
          20.97,
          23.36,
          28.97,
          30.27,
          28.65,
          26.04,
          29.72,
          23.54,
          28.45,
          14.61,
          17.27,
          18.76,
          21.69,
          19.05,
          9.31,
          26.43,
          28.34,
          15.63,
          22.11,
          29.47,
          25,
          23.92,
          28.59,
          15.35,
          26.47,
          25.56,
          16.24,
          31.34,
          5.31,
          11.53,
          23.71,
          14.39,
          25.4,
          28.33,
          28.1,
          21.31,
          19.11,
          29.51,
          25.43,
          30.12,
          17.3,
          28.45,
          23.59,
          26.79,
          27.59,
          21.06,
          31.68,
          20.52,
          29.28,
          5.94,
          29.14,
          22.45,
          27.17,
          20.81,
          25.34
         ]
        },
        {
         "line": {
          "color": "rgba(128, 0, 128, 1.0)",
          "dash": "solid",
          "shape": "linear",
          "width": 1.3
         },
         "mode": "lines",
         "name": "Difference",
         "text": "",
         "type": "scatter",
         "x": [
          0,
          1,
          2,
          3,
          4,
          5,
          6,
          7,
          8,
          9,
          10,
          11,
          12,
          13,
          14,
          15,
          16,
          17,
          18,
          19,
          20,
          21,
          22,
          23,
          24,
          25,
          26,
          27,
          28,
          29,
          30,
          31,
          32,
          33,
          34,
          35,
          36,
          37,
          38,
          39,
          40,
          41,
          42,
          43,
          44,
          45,
          46,
          47,
          48,
          49,
          50,
          51,
          52,
          53,
          54,
          55,
          56,
          57,
          58,
          59,
          60,
          61,
          62,
          63,
          64,
          65,
          66,
          67,
          68,
          69,
          70,
          71,
          72,
          73,
          74,
          75,
          76,
          77,
          78,
          79,
          80,
          81,
          82,
          83,
          84,
          85,
          86,
          87,
          88,
          89,
          90,
          91,
          92,
          93,
          94,
          95,
          96,
          97,
          98,
          99,
          100,
          101
         ],
         "y": [
          12.48,
          -0.2700000000000031,
          -6.029999999999999,
          0.39999999999999947,
          -3.030000000000001,
          -2.0799999999999983,
          -5.379999999999999,
          -1.1199999999999974,
          -4.809999999999999,
          -1.7599999999999998,
          3.530000000000001,
          -3.9499999999999993,
          -0.28000000000000114,
          7.640000000000001,
          8.200000000000003,
          -0.4800000000000004,
          4.729999999999997,
          0.870000000000001,
          9.3,
          -6.210000000000001,
          -0.8499999999999996,
          19.9,
          12.499999999999996,
          4.619999999999997,
          -1.1799999999999997,
          -3.5199999999999996,
          -3.9899999999999984,
          -1.4699999999999989,
          -0.030000000000001137,
          2.460000000000001,
          -2.830000000000002,
          2.960000000000001,
          0.17999999999999972,
          -0.8999999999999986,
          -4.079999999999998,
          0.13000000000000078,
          -3.91,
          -2.3900000000000006,
          10.749999999999996,
          -3.360000000000001,
          -5.25,
          7.040000000000001,
          -1.8599999999999994,
          0.22999999999999687,
          -4.41,
          -5.550000000000001,
          -3.919999999999998,
          -1.0700000000000003,
          -3.16,
          -3.669999999999998,
          19.73,
          -5.649999999999999,
          23.96,
          1.3800000000000026,
          -7.34,
          3.150000000000002,
          -3.1099999999999994,
          -3.67,
          -4.860000000000001,
          -6.690000000000001,
          0.34999999999999787,
          7.889999999999999,
          -6.530000000000001,
          5.059999999999999,
          11.87,
          -1.009999999999998,
          -7.57,
          -5.699999999999999,
          -0.120000000000001,
          -3.59,
          0.9500000000000011,
          -3.0700000000000003,
          2.5400000000000027,
          10.860000000000003,
          -2.84,
          -0.3099999999999996,
          -2.0299999999999994,
          -1.4100000000000001,
          -3.49,
          -4.199999999999999,
          -6.329999999999998,
          -3.900000000000002,
          -1.7099999999999973,
          -6.01,
          2.1899999999999977,
          -0.9299999999999997,
          1.0799999999999983,
          -2.700000000000001,
          -4.75,
          -2.9899999999999984,
          9.71,
          15.510000000000002,
          -0.259999999999998,
          18.32,
          3.879999999999999,
          3.4200000000000017,
          10.559999999999999,
          -5.240000000000002,
          -6.349999999999998,
          -6.770000000000003,
          2.3900000000000006,
          -1.4400000000000013
         ]
        }
       ],
       "layout": {
        "legend": {
         "bgcolor": "#F5F6F9",
         "font": {
          "color": "#4D5663"
         }
        },
        "paper_bgcolor": "#F5F6F9",
        "plot_bgcolor": "#F5F6F9",
        "template": {
         "data": {
          "bar": [
           {
            "error_x": {
             "color": "#2a3f5f"
            },
            "error_y": {
             "color": "#2a3f5f"
            },
            "marker": {
             "line": {
              "color": "#E5ECF6",
              "width": 0.5
             }
            },
            "type": "bar"
           }
          ],
          "barpolar": [
           {
            "marker": {
             "line": {
              "color": "#E5ECF6",
              "width": 0.5
             }
            },
            "type": "barpolar"
           }
          ],
          "carpet": [
           {
            "aaxis": {
             "endlinecolor": "#2a3f5f",
             "gridcolor": "white",
             "linecolor": "white",
             "minorgridcolor": "white",
             "startlinecolor": "#2a3f5f"
            },
            "baxis": {
             "endlinecolor": "#2a3f5f",
             "gridcolor": "white",
             "linecolor": "white",
             "minorgridcolor": "white",
             "startlinecolor": "#2a3f5f"
            },
            "type": "carpet"
           }
          ],
          "choropleth": [
           {
            "colorbar": {
             "outlinewidth": 0,
             "ticks": ""
            },
            "type": "choropleth"
           }
          ],
          "contour": [
           {
            "colorbar": {
             "outlinewidth": 0,
             "ticks": ""
            },
            "colorscale": [
             [
              0,
              "#0d0887"
             ],
             [
              0.1111111111111111,
              "#46039f"
             ],
             [
              0.2222222222222222,
              "#7201a8"
             ],
             [
              0.3333333333333333,
              "#9c179e"
             ],
             [
              0.4444444444444444,
              "#bd3786"
             ],
             [
              0.5555555555555556,
              "#d8576b"
             ],
             [
              0.6666666666666666,
              "#ed7953"
             ],
             [
              0.7777777777777778,
              "#fb9f3a"
             ],
             [
              0.8888888888888888,
              "#fdca26"
             ],
             [
              1,
              "#f0f921"
             ]
            ],
            "type": "contour"
           }
          ],
          "contourcarpet": [
           {
            "colorbar": {
             "outlinewidth": 0,
             "ticks": ""
            },
            "type": "contourcarpet"
           }
          ],
          "heatmap": [
           {
            "colorbar": {
             "outlinewidth": 0,
             "ticks": ""
            },
            "colorscale": [
             [
              0,
              "#0d0887"
             ],
             [
              0.1111111111111111,
              "#46039f"
             ],
             [
              0.2222222222222222,
              "#7201a8"
             ],
             [
              0.3333333333333333,
              "#9c179e"
             ],
             [
              0.4444444444444444,
              "#bd3786"
             ],
             [
              0.5555555555555556,
              "#d8576b"
             ],
             [
              0.6666666666666666,
              "#ed7953"
             ],
             [
              0.7777777777777778,
              "#fb9f3a"
             ],
             [
              0.8888888888888888,
              "#fdca26"
             ],
             [
              1,
              "#f0f921"
             ]
            ],
            "type": "heatmap"
           }
          ],
          "heatmapgl": [
           {
            "colorbar": {
             "outlinewidth": 0,
             "ticks": ""
            },
            "colorscale": [
             [
              0,
              "#0d0887"
             ],
             [
              0.1111111111111111,
              "#46039f"
             ],
             [
              0.2222222222222222,
              "#7201a8"
             ],
             [
              0.3333333333333333,
              "#9c179e"
             ],
             [
              0.4444444444444444,
              "#bd3786"
             ],
             [
              0.5555555555555556,
              "#d8576b"
             ],
             [
              0.6666666666666666,
              "#ed7953"
             ],
             [
              0.7777777777777778,
              "#fb9f3a"
             ],
             [
              0.8888888888888888,
              "#fdca26"
             ],
             [
              1,
              "#f0f921"
             ]
            ],
            "type": "heatmapgl"
           }
          ],
          "histogram": [
           {
            "marker": {
             "colorbar": {
              "outlinewidth": 0,
              "ticks": ""
             }
            },
            "type": "histogram"
           }
          ],
          "histogram2d": [
           {
            "colorbar": {
             "outlinewidth": 0,
             "ticks": ""
            },
            "colorscale": [
             [
              0,
              "#0d0887"
             ],
             [
              0.1111111111111111,
              "#46039f"
             ],
             [
              0.2222222222222222,
              "#7201a8"
             ],
             [
              0.3333333333333333,
              "#9c179e"
             ],
             [
              0.4444444444444444,
              "#bd3786"
             ],
             [
              0.5555555555555556,
              "#d8576b"
             ],
             [
              0.6666666666666666,
              "#ed7953"
             ],
             [
              0.7777777777777778,
              "#fb9f3a"
             ],
             [
              0.8888888888888888,
              "#fdca26"
             ],
             [
              1,
              "#f0f921"
             ]
            ],
            "type": "histogram2d"
           }
          ],
          "histogram2dcontour": [
           {
            "colorbar": {
             "outlinewidth": 0,
             "ticks": ""
            },
            "colorscale": [
             [
              0,
              "#0d0887"
             ],
             [
              0.1111111111111111,
              "#46039f"
             ],
             [
              0.2222222222222222,
              "#7201a8"
             ],
             [
              0.3333333333333333,
              "#9c179e"
             ],
             [
              0.4444444444444444,
              "#bd3786"
             ],
             [
              0.5555555555555556,
              "#d8576b"
             ],
             [
              0.6666666666666666,
              "#ed7953"
             ],
             [
              0.7777777777777778,
              "#fb9f3a"
             ],
             [
              0.8888888888888888,
              "#fdca26"
             ],
             [
              1,
              "#f0f921"
             ]
            ],
            "type": "histogram2dcontour"
           }
          ],
          "mesh3d": [
           {
            "colorbar": {
             "outlinewidth": 0,
             "ticks": ""
            },
            "type": "mesh3d"
           }
          ],
          "parcoords": [
           {
            "line": {
             "colorbar": {
              "outlinewidth": 0,
              "ticks": ""
             }
            },
            "type": "parcoords"
           }
          ],
          "pie": [
           {
            "automargin": true,
            "type": "pie"
           }
          ],
          "scatter": [
           {
            "marker": {
             "colorbar": {
              "outlinewidth": 0,
              "ticks": ""
             }
            },
            "type": "scatter"
           }
          ],
          "scatter3d": [
           {
            "line": {
             "colorbar": {
              "outlinewidth": 0,
              "ticks": ""
             }
            },
            "marker": {
             "colorbar": {
              "outlinewidth": 0,
              "ticks": ""
             }
            },
            "type": "scatter3d"
           }
          ],
          "scattercarpet": [
           {
            "marker": {
             "colorbar": {
              "outlinewidth": 0,
              "ticks": ""
             }
            },
            "type": "scattercarpet"
           }
          ],
          "scattergeo": [
           {
            "marker": {
             "colorbar": {
              "outlinewidth": 0,
              "ticks": ""
             }
            },
            "type": "scattergeo"
           }
          ],
          "scattergl": [
           {
            "marker": {
             "colorbar": {
              "outlinewidth": 0,
              "ticks": ""
             }
            },
            "type": "scattergl"
           }
          ],
          "scattermapbox": [
           {
            "marker": {
             "colorbar": {
              "outlinewidth": 0,
              "ticks": ""
             }
            },
            "type": "scattermapbox"
           }
          ],
          "scatterpolar": [
           {
            "marker": {
             "colorbar": {
              "outlinewidth": 0,
              "ticks": ""
             }
            },
            "type": "scatterpolar"
           }
          ],
          "scatterpolargl": [
           {
            "marker": {
             "colorbar": {
              "outlinewidth": 0,
              "ticks": ""
             }
            },
            "type": "scatterpolargl"
           }
          ],
          "scatterternary": [
           {
            "marker": {
             "colorbar": {
              "outlinewidth": 0,
              "ticks": ""
             }
            },
            "type": "scatterternary"
           }
          ],
          "surface": [
           {
            "colorbar": {
             "outlinewidth": 0,
             "ticks": ""
            },
            "colorscale": [
             [
              0,
              "#0d0887"
             ],
             [
              0.1111111111111111,
              "#46039f"
             ],
             [
              0.2222222222222222,
              "#7201a8"
             ],
             [
              0.3333333333333333,
              "#9c179e"
             ],
             [
              0.4444444444444444,
              "#bd3786"
             ],
             [
              0.5555555555555556,
              "#d8576b"
             ],
             [
              0.6666666666666666,
              "#ed7953"
             ],
             [
              0.7777777777777778,
              "#fb9f3a"
             ],
             [
              0.8888888888888888,
              "#fdca26"
             ],
             [
              1,
              "#f0f921"
             ]
            ],
            "type": "surface"
           }
          ],
          "table": [
           {
            "cells": {
             "fill": {
              "color": "#EBF0F8"
             },
             "line": {
              "color": "white"
             }
            },
            "header": {
             "fill": {
              "color": "#C8D4E3"
             },
             "line": {
              "color": "white"
             }
            },
            "type": "table"
           }
          ]
         },
         "layout": {
          "annotationdefaults": {
           "arrowcolor": "#2a3f5f",
           "arrowhead": 0,
           "arrowwidth": 1
          },
          "coloraxis": {
           "colorbar": {
            "outlinewidth": 0,
            "ticks": ""
           }
          },
          "colorscale": {
           "diverging": [
            [
             0,
             "#8e0152"
            ],
            [
             0.1,
             "#c51b7d"
            ],
            [
             0.2,
             "#de77ae"
            ],
            [
             0.3,
             "#f1b6da"
            ],
            [
             0.4,
             "#fde0ef"
            ],
            [
             0.5,
             "#f7f7f7"
            ],
            [
             0.6,
             "#e6f5d0"
            ],
            [
             0.7,
             "#b8e186"
            ],
            [
             0.8,
             "#7fbc41"
            ],
            [
             0.9,
             "#4d9221"
            ],
            [
             1,
             "#276419"
            ]
           ],
           "sequential": [
            [
             0,
             "#0d0887"
            ],
            [
             0.1111111111111111,
             "#46039f"
            ],
            [
             0.2222222222222222,
             "#7201a8"
            ],
            [
             0.3333333333333333,
             "#9c179e"
            ],
            [
             0.4444444444444444,
             "#bd3786"
            ],
            [
             0.5555555555555556,
             "#d8576b"
            ],
            [
             0.6666666666666666,
             "#ed7953"
            ],
            [
             0.7777777777777778,
             "#fb9f3a"
            ],
            [
             0.8888888888888888,
             "#fdca26"
            ],
            [
             1,
             "#f0f921"
            ]
           ],
           "sequentialminus": [
            [
             0,
             "#0d0887"
            ],
            [
             0.1111111111111111,
             "#46039f"
            ],
            [
             0.2222222222222222,
             "#7201a8"
            ],
            [
             0.3333333333333333,
             "#9c179e"
            ],
            [
             0.4444444444444444,
             "#bd3786"
            ],
            [
             0.5555555555555556,
             "#d8576b"
            ],
            [
             0.6666666666666666,
             "#ed7953"
            ],
            [
             0.7777777777777778,
             "#fb9f3a"
            ],
            [
             0.8888888888888888,
             "#fdca26"
            ],
            [
             1,
             "#f0f921"
            ]
           ]
          },
          "colorway": [
           "#636efa",
           "#EF553B",
           "#00cc96",
           "#ab63fa",
           "#FFA15A",
           "#19d3f3",
           "#FF6692",
           "#B6E880",
           "#FF97FF",
           "#FECB52"
          ],
          "font": {
           "color": "#2a3f5f"
          },
          "geo": {
           "bgcolor": "white",
           "lakecolor": "white",
           "landcolor": "#E5ECF6",
           "showlakes": true,
           "showland": true,
           "subunitcolor": "white"
          },
          "hoverlabel": {
           "align": "left"
          },
          "hovermode": "closest",
          "mapbox": {
           "style": "light"
          },
          "paper_bgcolor": "white",
          "plot_bgcolor": "#E5ECF6",
          "polar": {
           "angularaxis": {
            "gridcolor": "white",
            "linecolor": "white",
            "ticks": ""
           },
           "bgcolor": "#E5ECF6",
           "radialaxis": {
            "gridcolor": "white",
            "linecolor": "white",
            "ticks": ""
           }
          },
          "scene": {
           "xaxis": {
            "backgroundcolor": "#E5ECF6",
            "gridcolor": "white",
            "gridwidth": 2,
            "linecolor": "white",
            "showbackground": true,
            "ticks": "",
            "zerolinecolor": "white"
           },
           "yaxis": {
            "backgroundcolor": "#E5ECF6",
            "gridcolor": "white",
            "gridwidth": 2,
            "linecolor": "white",
            "showbackground": true,
            "ticks": "",
            "zerolinecolor": "white"
           },
           "zaxis": {
            "backgroundcolor": "#E5ECF6",
            "gridcolor": "white",
            "gridwidth": 2,
            "linecolor": "white",
            "showbackground": true,
            "ticks": "",
            "zerolinecolor": "white"
           }
          },
          "shapedefaults": {
           "line": {
            "color": "#2a3f5f"
           }
          },
          "ternary": {
           "aaxis": {
            "gridcolor": "white",
            "linecolor": "white",
            "ticks": ""
           },
           "baxis": {
            "gridcolor": "white",
            "linecolor": "white",
            "ticks": ""
           },
           "bgcolor": "#E5ECF6",
           "caxis": {
            "gridcolor": "white",
            "linecolor": "white",
            "ticks": ""
           }
          },
          "title": {
           "x": 0.05
          },
          "xaxis": {
           "automargin": true,
           "gridcolor": "white",
           "linecolor": "white",
           "ticks": "",
           "title": {
            "standoff": 15
           },
           "zerolinecolor": "white",
           "zerolinewidth": 2
          },
          "yaxis": {
           "automargin": true,
           "gridcolor": "white",
           "linecolor": "white",
           "ticks": "",
           "title": {
            "standoff": 15
           },
           "zerolinecolor": "white",
           "zerolinewidth": 2
          }
         }
        },
        "title": {
         "font": {
          "color": "#4D5663"
         }
        },
        "xaxis": {
         "gridcolor": "#E1E5ED",
         "showgrid": true,
         "tickfont": {
          "color": "#4D5663"
         },
         "title": {
          "font": {
           "color": "#4D5663"
          },
          "text": ""
         },
         "zerolinecolor": "#E1E5ED"
        },
        "yaxis": {
         "gridcolor": "#E1E5ED",
         "showgrid": true,
         "tickfont": {
          "color": "#4D5663"
         },
         "title": {
          "font": {
           "color": "#4D5663"
          },
          "text": ""
         },
         "zerolinecolor": "#E1E5ED"
        }
       }
      },
      "text/html": [
       "<div>\n",
       "        \n",
       "        \n",
       "            <div id=\"e00fe970-43aa-4a53-9a91-b420a4267d8b\" class=\"plotly-graph-div\" style=\"height:525px; width:100%;\"></div>\n",
       "            <script type=\"text/javascript\">\n",
       "                require([\"plotly\"], function(Plotly) {\n",
       "                    window.PLOTLYENV=window.PLOTLYENV || {};\n",
       "                    window.PLOTLYENV.BASE_URL='https://plot.ly';\n",
       "                    \n",
       "                if (document.getElementById(\"e00fe970-43aa-4a53-9a91-b420a4267d8b\")) {\n",
       "                    Plotly.newPlot(\n",
       "                        'e00fe970-43aa-4a53-9a91-b420a4267d8b',\n",
       "                        [{\"line\": {\"color\": \"rgba(255, 153, 51, 1.0)\", \"dash\": \"solid\", \"shape\": \"linear\", \"width\": 1.3}, \"mode\": \"lines\", \"name\": \"X\", \"text\": \"\", \"type\": \"scatter\", \"x\": [0, 1, 2, 3, 4, 5, 6, 7, 8, 9, 10, 11, 12, 13, 14, 15, 16, 17, 18, 19, 20, 21, 22, 23, 24, 25, 26, 27, 28, 29, 30, 31, 32, 33, 34, 35, 36, 37, 38, 39, 40, 41, 42, 43, 44, 45, 46, 47, 48, 49, 50, 51, 52, 53, 54, 55, 56, 57, 58, 59, 60, 61, 62, 63, 64, 65, 66, 67, 68, 69, 70, 71, 72, 73, 74, 75, 76, 77, 78, 79, 80, 81, 82, 83, 84, 85, 86, 87, 88, 89, 90, 91, 92, 93, 94, 95, 96, 97, 98, 99, 100, 101], \"y\": [34.77, 15.55, 20.62, 29.97, 6.59, 11.98, 7.9, 14.98, 11.74, 18.71, 30.63, 6.78, 16.59, 13.15, 4.21, 14.7, 4.56, 7.53, 30.81, 16.35, 21.02, 4.63, 7.56, 2.87, 13.34, 19.37, 10.19, 9.16, 5.33, 9.93, 14.65, 13.59, 12.67, 11.12, 6.43, 22.88, 10.27, 17.73, 3.11, 16.3, 9.08, 25.41, 9.28, 6.65, 22.74, 11.28, 6.07, 14.19, 11.69, 5.81, 4.45, 6.15, 8.88, 5.03, 11.5, 6.36, 20.85, 18.07, 16.51, 13.44, 16.2, 26.4, 8.47, 6.47, 19.78, 13.0, 5.29, 9.97, 11.1, 6.21, 20.08, 8.43, 9.38, 19.15, 3.33, 30.59, 24.08, 11.32, 21.08, 9.55, 6.48, 6.72, 13.83, 16.14, 5.25, 9.52, 4.61, 18.03, 6.36, 11.45, 8.1, 7.26, 14.1, 2.97, 14.66, 5.49, 29.93, 5.64, 12.64, 7.7, 14.36, 9.62]}, {\"line\": {\"color\": \"rgba(55, 128, 191, 1.0)\", \"dash\": \"solid\", \"shape\": \"linear\", \"width\": 1.3}, \"mode\": \"lines\", \"name\": \"Target_Y\", \"text\": \"\", \"type\": \"scatter\", \"x\": [0, 1, 2, 3, 4, 5, 6, 7, 8, 9, 10, 11, 12, 13, 14, 15, 16, 17, 18, 19, 20, 21, 22, 23, 24, 25, 26, 27, 28, 29, 30, 31, 32, 33, 34, 35, 36, 37, 38, 39, 40, 41, 42, 43, 44, 45, 46, 47, 48, 49, 50, 51, 52, 53, 54, 55, 56, 57, 58, 59, 60, 61, 62, 63, 64, 65, 66, 67, 68, 69, 70, 71, 72, 73, 74, 75, 76, 77, 78, 79, 80, 81, 82, 83, 84, 85, 86, 87, 88, 89, 90, 91, 92, 93, 94, 95, 96, 97, 98, 99, 100, 101], \"y\": [13.8, 19.4, 8.8, 6.3, 25.2, 21.0, 21.6, 19.1, 18.5, 14.9, 8.8, 24.1, 18.4, 29.6, 38.7, 20.0, 34.9, 28.2, 14.4, 12.7, 13.6, 50.0, 39.8, 36.4, 20.6, 12.5, 20.8, 24.3, 29.4, 27.5, 17.7, 24.5, 22.6, 23.0, 24.3, 12.8, 20.8, 15.2, 42.3, 15.6, 20.6, 17.3, 23.8, 28.4, 8.4, 18.2, 24.8, 19.9, 20.2, 25.3, 50.0, 23.0, 50.0, 31.1, 16.2, 31.6, 11.5, 13.6, 13.9, 15.0, 19.4, 17.2, 19.9, 33.4, 27.5, 21.1, 21.9, 19.3, 23.8, 25.0, 16.3, 23.4, 28.1, 27.1, 28.5, 5.0, 9.5, 22.3, 10.9, 21.2, 22.0, 24.2, 19.6, 13.1, 31.7, 24.5, 31.2, 14.6, 23.7, 20.6, 36.5, 43.1, 20.8, 50.0, 24.4, 32.7, 16.5, 23.9, 16.1, 20.4, 23.2, 23.9]}, {\"line\": {\"color\": \"rgba(50, 171, 96, 1.0)\", \"dash\": \"solid\", \"shape\": \"linear\", \"width\": 1.3}, \"mode\": \"lines\", \"name\": \"Predicted_Y\", \"text\": \"\", \"type\": \"scatter\", \"x\": [0, 1, 2, 3, 4, 5, 6, 7, 8, 9, 10, 11, 12, 13, 14, 15, 16, 17, 18, 19, 20, 21, 22, 23, 24, 25, 26, 27, 28, 29, 30, 31, 32, 33, 34, 35, 36, 37, 38, 39, 40, 41, 42, 43, 44, 45, 46, 47, 48, 49, 50, 51, 52, 53, 54, 55, 56, 57, 58, 59, 60, 61, 62, 63, 64, 65, 66, 67, 68, 69, 70, 71, 72, 73, 74, 75, 76, 77, 78, 79, 80, 81, 82, 83, 84, 85, 86, 87, 88, 89, 90, 91, 92, 93, 94, 95, 96, 97, 98, 99, 100, 101], \"y\": [1.32, 19.67, 14.83, 5.9, 28.23, 23.08, 26.98, 20.22, 23.31, 16.66, 5.27, 28.05, 18.68, 21.96, 30.5, 20.48, 30.17, 27.33, 5.1, 18.91, 14.45, 30.1, 27.3, 31.78, 21.78, 16.02, 24.79, 25.77, 29.43, 25.04, 20.53, 21.54, 22.42, 23.9, 28.38, 12.67, 24.71, 17.59, 31.55, 18.96, 25.85, 10.26, 25.66, 28.17, 12.81, 23.75, 28.72, 20.97, 23.36, 28.97, 30.27, 28.65, 26.04, 29.72, 23.54, 28.45, 14.61, 17.27, 18.76, 21.69, 19.05, 9.31, 26.43, 28.34, 15.63, 22.11, 29.47, 25.0, 23.92, 28.59, 15.35, 26.47, 25.56, 16.24, 31.34, 5.31, 11.53, 23.71, 14.39, 25.4, 28.33, 28.1, 21.31, 19.11, 29.51, 25.43, 30.12, 17.3, 28.45, 23.59, 26.79, 27.59, 21.06, 31.68, 20.52, 29.28, 5.94, 29.14, 22.45, 27.17, 20.81, 25.34]}, {\"line\": {\"color\": \"rgba(128, 0, 128, 1.0)\", \"dash\": \"solid\", \"shape\": \"linear\", \"width\": 1.3}, \"mode\": \"lines\", \"name\": \"Difference\", \"text\": \"\", \"type\": \"scatter\", \"x\": [0, 1, 2, 3, 4, 5, 6, 7, 8, 9, 10, 11, 12, 13, 14, 15, 16, 17, 18, 19, 20, 21, 22, 23, 24, 25, 26, 27, 28, 29, 30, 31, 32, 33, 34, 35, 36, 37, 38, 39, 40, 41, 42, 43, 44, 45, 46, 47, 48, 49, 50, 51, 52, 53, 54, 55, 56, 57, 58, 59, 60, 61, 62, 63, 64, 65, 66, 67, 68, 69, 70, 71, 72, 73, 74, 75, 76, 77, 78, 79, 80, 81, 82, 83, 84, 85, 86, 87, 88, 89, 90, 91, 92, 93, 94, 95, 96, 97, 98, 99, 100, 101], \"y\": [12.48, -0.2700000000000031, -6.029999999999999, 0.39999999999999947, -3.030000000000001, -2.0799999999999983, -5.379999999999999, -1.1199999999999974, -4.809999999999999, -1.7599999999999998, 3.530000000000001, -3.9499999999999993, -0.28000000000000114, 7.640000000000001, 8.200000000000003, -0.4800000000000004, 4.729999999999997, 0.870000000000001, 9.3, -6.210000000000001, -0.8499999999999996, 19.9, 12.499999999999996, 4.619999999999997, -1.1799999999999997, -3.5199999999999996, -3.9899999999999984, -1.4699999999999989, -0.030000000000001137, 2.460000000000001, -2.830000000000002, 2.960000000000001, 0.17999999999999972, -0.8999999999999986, -4.079999999999998, 0.13000000000000078, -3.91, -2.3900000000000006, 10.749999999999996, -3.360000000000001, -5.25, 7.040000000000001, -1.8599999999999994, 0.22999999999999687, -4.41, -5.550000000000001, -3.919999999999998, -1.0700000000000003, -3.16, -3.669999999999998, 19.73, -5.649999999999999, 23.96, 1.3800000000000026, -7.34, 3.150000000000002, -3.1099999999999994, -3.67, -4.860000000000001, -6.690000000000001, 0.34999999999999787, 7.889999999999999, -6.530000000000001, 5.059999999999999, 11.87, -1.009999999999998, -7.57, -5.699999999999999, -0.120000000000001, -3.59, 0.9500000000000011, -3.0700000000000003, 2.5400000000000027, 10.860000000000003, -2.84, -0.3099999999999996, -2.0299999999999994, -1.4100000000000001, -3.49, -4.199999999999999, -6.329999999999998, -3.900000000000002, -1.7099999999999973, -6.01, 2.1899999999999977, -0.9299999999999997, 1.0799999999999983, -2.700000000000001, -4.75, -2.9899999999999984, 9.71, 15.510000000000002, -0.259999999999998, 18.32, 3.879999999999999, 3.4200000000000017, 10.559999999999999, -5.240000000000002, -6.349999999999998, -6.770000000000003, 2.3900000000000006, -1.4400000000000013]}],\n",
       "                        {\"legend\": {\"bgcolor\": \"#F5F6F9\", \"font\": {\"color\": \"#4D5663\"}}, \"paper_bgcolor\": \"#F5F6F9\", \"plot_bgcolor\": \"#F5F6F9\", \"template\": {\"data\": {\"bar\": [{\"error_x\": {\"color\": \"#2a3f5f\"}, \"error_y\": {\"color\": \"#2a3f5f\"}, \"marker\": {\"line\": {\"color\": \"#E5ECF6\", \"width\": 0.5}}, \"type\": \"bar\"}], \"barpolar\": [{\"marker\": {\"line\": {\"color\": \"#E5ECF6\", \"width\": 0.5}}, \"type\": \"barpolar\"}], \"carpet\": [{\"aaxis\": {\"endlinecolor\": \"#2a3f5f\", \"gridcolor\": \"white\", \"linecolor\": \"white\", \"minorgridcolor\": \"white\", \"startlinecolor\": \"#2a3f5f\"}, \"baxis\": {\"endlinecolor\": \"#2a3f5f\", \"gridcolor\": \"white\", \"linecolor\": \"white\", \"minorgridcolor\": \"white\", \"startlinecolor\": \"#2a3f5f\"}, \"type\": \"carpet\"}], \"choropleth\": [{\"colorbar\": {\"outlinewidth\": 0, \"ticks\": \"\"}, \"type\": \"choropleth\"}], \"contour\": [{\"colorbar\": {\"outlinewidth\": 0, \"ticks\": \"\"}, \"colorscale\": [[0.0, \"#0d0887\"], [0.1111111111111111, \"#46039f\"], [0.2222222222222222, \"#7201a8\"], [0.3333333333333333, \"#9c179e\"], [0.4444444444444444, \"#bd3786\"], [0.5555555555555556, \"#d8576b\"], [0.6666666666666666, \"#ed7953\"], [0.7777777777777778, \"#fb9f3a\"], [0.8888888888888888, \"#fdca26\"], [1.0, \"#f0f921\"]], \"type\": \"contour\"}], \"contourcarpet\": [{\"colorbar\": {\"outlinewidth\": 0, \"ticks\": \"\"}, \"type\": \"contourcarpet\"}], \"heatmap\": [{\"colorbar\": {\"outlinewidth\": 0, \"ticks\": \"\"}, \"colorscale\": [[0.0, \"#0d0887\"], [0.1111111111111111, \"#46039f\"], [0.2222222222222222, \"#7201a8\"], [0.3333333333333333, \"#9c179e\"], [0.4444444444444444, \"#bd3786\"], [0.5555555555555556, \"#d8576b\"], [0.6666666666666666, \"#ed7953\"], [0.7777777777777778, \"#fb9f3a\"], [0.8888888888888888, \"#fdca26\"], [1.0, \"#f0f921\"]], \"type\": \"heatmap\"}], \"heatmapgl\": [{\"colorbar\": {\"outlinewidth\": 0, \"ticks\": \"\"}, \"colorscale\": [[0.0, \"#0d0887\"], [0.1111111111111111, \"#46039f\"], [0.2222222222222222, \"#7201a8\"], [0.3333333333333333, \"#9c179e\"], [0.4444444444444444, \"#bd3786\"], [0.5555555555555556, \"#d8576b\"], [0.6666666666666666, \"#ed7953\"], [0.7777777777777778, \"#fb9f3a\"], [0.8888888888888888, \"#fdca26\"], [1.0, \"#f0f921\"]], \"type\": \"heatmapgl\"}], \"histogram\": [{\"marker\": {\"colorbar\": {\"outlinewidth\": 0, \"ticks\": \"\"}}, \"type\": \"histogram\"}], \"histogram2d\": [{\"colorbar\": {\"outlinewidth\": 0, \"ticks\": \"\"}, \"colorscale\": [[0.0, \"#0d0887\"], [0.1111111111111111, \"#46039f\"], [0.2222222222222222, \"#7201a8\"], [0.3333333333333333, \"#9c179e\"], [0.4444444444444444, \"#bd3786\"], [0.5555555555555556, \"#d8576b\"], [0.6666666666666666, \"#ed7953\"], [0.7777777777777778, \"#fb9f3a\"], [0.8888888888888888, \"#fdca26\"], [1.0, \"#f0f921\"]], \"type\": \"histogram2d\"}], \"histogram2dcontour\": [{\"colorbar\": {\"outlinewidth\": 0, \"ticks\": \"\"}, \"colorscale\": [[0.0, \"#0d0887\"], [0.1111111111111111, \"#46039f\"], [0.2222222222222222, \"#7201a8\"], [0.3333333333333333, \"#9c179e\"], [0.4444444444444444, \"#bd3786\"], [0.5555555555555556, \"#d8576b\"], [0.6666666666666666, \"#ed7953\"], [0.7777777777777778, \"#fb9f3a\"], [0.8888888888888888, \"#fdca26\"], [1.0, \"#f0f921\"]], \"type\": \"histogram2dcontour\"}], \"mesh3d\": [{\"colorbar\": {\"outlinewidth\": 0, \"ticks\": \"\"}, \"type\": \"mesh3d\"}], \"parcoords\": [{\"line\": {\"colorbar\": {\"outlinewidth\": 0, \"ticks\": \"\"}}, \"type\": \"parcoords\"}], \"pie\": [{\"automargin\": true, \"type\": \"pie\"}], \"scatter\": [{\"marker\": {\"colorbar\": {\"outlinewidth\": 0, \"ticks\": \"\"}}, \"type\": \"scatter\"}], \"scatter3d\": [{\"line\": {\"colorbar\": {\"outlinewidth\": 0, \"ticks\": \"\"}}, \"marker\": {\"colorbar\": {\"outlinewidth\": 0, \"ticks\": \"\"}}, \"type\": \"scatter3d\"}], \"scattercarpet\": [{\"marker\": {\"colorbar\": {\"outlinewidth\": 0, \"ticks\": \"\"}}, \"type\": \"scattercarpet\"}], \"scattergeo\": [{\"marker\": {\"colorbar\": {\"outlinewidth\": 0, \"ticks\": \"\"}}, \"type\": \"scattergeo\"}], \"scattergl\": [{\"marker\": {\"colorbar\": {\"outlinewidth\": 0, \"ticks\": \"\"}}, \"type\": \"scattergl\"}], \"scattermapbox\": [{\"marker\": {\"colorbar\": {\"outlinewidth\": 0, \"ticks\": \"\"}}, \"type\": \"scattermapbox\"}], \"scatterpolar\": [{\"marker\": {\"colorbar\": {\"outlinewidth\": 0, \"ticks\": \"\"}}, \"type\": \"scatterpolar\"}], \"scatterpolargl\": [{\"marker\": {\"colorbar\": {\"outlinewidth\": 0, \"ticks\": \"\"}}, \"type\": \"scatterpolargl\"}], \"scatterternary\": [{\"marker\": {\"colorbar\": {\"outlinewidth\": 0, \"ticks\": \"\"}}, \"type\": \"scatterternary\"}], \"surface\": [{\"colorbar\": {\"outlinewidth\": 0, \"ticks\": \"\"}, \"colorscale\": [[0.0, \"#0d0887\"], [0.1111111111111111, \"#46039f\"], [0.2222222222222222, \"#7201a8\"], [0.3333333333333333, \"#9c179e\"], [0.4444444444444444, \"#bd3786\"], [0.5555555555555556, \"#d8576b\"], [0.6666666666666666, \"#ed7953\"], [0.7777777777777778, \"#fb9f3a\"], [0.8888888888888888, \"#fdca26\"], [1.0, \"#f0f921\"]], \"type\": \"surface\"}], \"table\": [{\"cells\": {\"fill\": {\"color\": \"#EBF0F8\"}, \"line\": {\"color\": \"white\"}}, \"header\": {\"fill\": {\"color\": \"#C8D4E3\"}, \"line\": {\"color\": \"white\"}}, \"type\": \"table\"}]}, \"layout\": {\"annotationdefaults\": {\"arrowcolor\": \"#2a3f5f\", \"arrowhead\": 0, \"arrowwidth\": 1}, \"coloraxis\": {\"colorbar\": {\"outlinewidth\": 0, \"ticks\": \"\"}}, \"colorscale\": {\"diverging\": [[0, \"#8e0152\"], [0.1, \"#c51b7d\"], [0.2, \"#de77ae\"], [0.3, \"#f1b6da\"], [0.4, \"#fde0ef\"], [0.5, \"#f7f7f7\"], [0.6, \"#e6f5d0\"], [0.7, \"#b8e186\"], [0.8, \"#7fbc41\"], [0.9, \"#4d9221\"], [1, \"#276419\"]], \"sequential\": [[0.0, \"#0d0887\"], [0.1111111111111111, \"#46039f\"], [0.2222222222222222, \"#7201a8\"], [0.3333333333333333, \"#9c179e\"], [0.4444444444444444, \"#bd3786\"], [0.5555555555555556, \"#d8576b\"], [0.6666666666666666, \"#ed7953\"], [0.7777777777777778, \"#fb9f3a\"], [0.8888888888888888, \"#fdca26\"], [1.0, \"#f0f921\"]], \"sequentialminus\": [[0.0, \"#0d0887\"], [0.1111111111111111, \"#46039f\"], [0.2222222222222222, \"#7201a8\"], [0.3333333333333333, \"#9c179e\"], [0.4444444444444444, \"#bd3786\"], [0.5555555555555556, \"#d8576b\"], [0.6666666666666666, \"#ed7953\"], [0.7777777777777778, \"#fb9f3a\"], [0.8888888888888888, \"#fdca26\"], [1.0, \"#f0f921\"]]}, \"colorway\": [\"#636efa\", \"#EF553B\", \"#00cc96\", \"#ab63fa\", \"#FFA15A\", \"#19d3f3\", \"#FF6692\", \"#B6E880\", \"#FF97FF\", \"#FECB52\"], \"font\": {\"color\": \"#2a3f5f\"}, \"geo\": {\"bgcolor\": \"white\", \"lakecolor\": \"white\", \"landcolor\": \"#E5ECF6\", \"showlakes\": true, \"showland\": true, \"subunitcolor\": \"white\"}, \"hoverlabel\": {\"align\": \"left\"}, \"hovermode\": \"closest\", \"mapbox\": {\"style\": \"light\"}, \"paper_bgcolor\": \"white\", \"plot_bgcolor\": \"#E5ECF6\", \"polar\": {\"angularaxis\": {\"gridcolor\": \"white\", \"linecolor\": \"white\", \"ticks\": \"\"}, \"bgcolor\": \"#E5ECF6\", \"radialaxis\": {\"gridcolor\": \"white\", \"linecolor\": \"white\", \"ticks\": \"\"}}, \"scene\": {\"xaxis\": {\"backgroundcolor\": \"#E5ECF6\", \"gridcolor\": \"white\", \"gridwidth\": 2, \"linecolor\": \"white\", \"showbackground\": true, \"ticks\": \"\", \"zerolinecolor\": \"white\"}, \"yaxis\": {\"backgroundcolor\": \"#E5ECF6\", \"gridcolor\": \"white\", \"gridwidth\": 2, \"linecolor\": \"white\", \"showbackground\": true, \"ticks\": \"\", \"zerolinecolor\": \"white\"}, \"zaxis\": {\"backgroundcolor\": \"#E5ECF6\", \"gridcolor\": \"white\", \"gridwidth\": 2, \"linecolor\": \"white\", \"showbackground\": true, \"ticks\": \"\", \"zerolinecolor\": \"white\"}}, \"shapedefaults\": {\"line\": {\"color\": \"#2a3f5f\"}}, \"ternary\": {\"aaxis\": {\"gridcolor\": \"white\", \"linecolor\": \"white\", \"ticks\": \"\"}, \"baxis\": {\"gridcolor\": \"white\", \"linecolor\": \"white\", \"ticks\": \"\"}, \"bgcolor\": \"#E5ECF6\", \"caxis\": {\"gridcolor\": \"white\", \"linecolor\": \"white\", \"ticks\": \"\"}}, \"title\": {\"x\": 0.05}, \"xaxis\": {\"automargin\": true, \"gridcolor\": \"white\", \"linecolor\": \"white\", \"ticks\": \"\", \"title\": {\"standoff\": 15}, \"zerolinecolor\": \"white\", \"zerolinewidth\": 2}, \"yaxis\": {\"automargin\": true, \"gridcolor\": \"white\", \"linecolor\": \"white\", \"ticks\": \"\", \"title\": {\"standoff\": 15}, \"zerolinecolor\": \"white\", \"zerolinewidth\": 2}}}, \"title\": {\"font\": {\"color\": \"#4D5663\"}}, \"xaxis\": {\"gridcolor\": \"#E1E5ED\", \"showgrid\": true, \"tickfont\": {\"color\": \"#4D5663\"}, \"title\": {\"font\": {\"color\": \"#4D5663\"}, \"text\": \"\"}, \"zerolinecolor\": \"#E1E5ED\"}, \"yaxis\": {\"gridcolor\": \"#E1E5ED\", \"showgrid\": true, \"tickfont\": {\"color\": \"#4D5663\"}, \"title\": {\"font\": {\"color\": \"#4D5663\"}, \"text\": \"\"}, \"zerolinecolor\": \"#E1E5ED\"}},\n",
       "                        {\"showLink\": true, \"linkText\": \"Export to plot.ly\", \"plotlyServerURL\": \"https://plot.ly\", \"responsive\": true}\n",
       "                    ).then(function(){\n",
       "                            \n",
       "var gd = document.getElementById('e00fe970-43aa-4a53-9a91-b420a4267d8b');\n",
       "var x = new MutationObserver(function (mutations, observer) {{\n",
       "        var display = window.getComputedStyle(gd).display;\n",
       "        if (!display || display === 'none') {{\n",
       "            console.log([gd, 'removed!']);\n",
       "            Plotly.purge(gd);\n",
       "            observer.disconnect();\n",
       "        }}\n",
       "}});\n",
       "\n",
       "// Listen for the removal of the full notebook cells\n",
       "var notebookContainer = gd.closest('#notebook-container');\n",
       "if (notebookContainer) {{\n",
       "    x.observe(notebookContainer, {childList: true});\n",
       "}}\n",
       "\n",
       "// Listen for the clearing of the current output cell\n",
       "var outputEl = gd.closest('.output');\n",
       "if (outputEl) {{\n",
       "    x.observe(outputEl, {childList: true});\n",
       "}}\n",
       "\n",
       "                        })\n",
       "                };\n",
       "                });\n",
       "            </script>\n",
       "        </div>"
      ]
     },
     "metadata": {},
     "output_type": "display_data"
    }
   ],
   "source": [
    "pl.iplot()"
   ]
  },
  {
   "cell_type": "code",
   "execution_count": 37,
   "metadata": {},
   "outputs": [
    {
     "data": {
      "application/vnd.plotly.v1+json": {
       "config": {
        "linkText": "Export to plot.ly",
        "plotlyServerURL": "https://plot.ly",
        "showLink": true
       },
       "data": [
        {
         "marker": {
          "color": "rgba(255, 153, 51, 0.6)",
          "line": {
           "color": "rgba(255, 153, 51, 1.0)",
           "width": 1
          }
         },
         "name": "X",
         "orientation": "v",
         "text": "",
         "type": "bar",
         "x": [
          0,
          1,
          2,
          3,
          4,
          5,
          6,
          7,
          8,
          9,
          10,
          11,
          12,
          13,
          14,
          15,
          16,
          17,
          18,
          19,
          20,
          21,
          22,
          23,
          24,
          25,
          26,
          27,
          28,
          29,
          30,
          31,
          32,
          33,
          34,
          35,
          36,
          37,
          38,
          39,
          40,
          41,
          42,
          43,
          44,
          45,
          46,
          47,
          48,
          49,
          50,
          51,
          52,
          53,
          54,
          55,
          56,
          57,
          58,
          59,
          60,
          61,
          62,
          63,
          64,
          65,
          66,
          67,
          68,
          69,
          70,
          71,
          72,
          73,
          74,
          75,
          76,
          77,
          78,
          79,
          80,
          81,
          82,
          83,
          84,
          85,
          86,
          87,
          88,
          89,
          90,
          91,
          92,
          93,
          94,
          95,
          96,
          97,
          98,
          99,
          100,
          101
         ],
         "y": [
          34.77,
          15.55,
          20.62,
          29.97,
          6.59,
          11.98,
          7.9,
          14.98,
          11.74,
          18.71,
          30.63,
          6.78,
          16.59,
          13.15,
          4.21,
          14.7,
          4.56,
          7.53,
          30.81,
          16.35,
          21.02,
          4.63,
          7.56,
          2.87,
          13.34,
          19.37,
          10.19,
          9.16,
          5.33,
          9.93,
          14.65,
          13.59,
          12.67,
          11.12,
          6.43,
          22.88,
          10.27,
          17.73,
          3.11,
          16.3,
          9.08,
          25.41,
          9.28,
          6.65,
          22.74,
          11.28,
          6.07,
          14.19,
          11.69,
          5.81,
          4.45,
          6.15,
          8.88,
          5.03,
          11.5,
          6.36,
          20.85,
          18.07,
          16.51,
          13.44,
          16.2,
          26.4,
          8.47,
          6.47,
          19.78,
          13,
          5.29,
          9.97,
          11.1,
          6.21,
          20.08,
          8.43,
          9.38,
          19.15,
          3.33,
          30.59,
          24.08,
          11.32,
          21.08,
          9.55,
          6.48,
          6.72,
          13.83,
          16.14,
          5.25,
          9.52,
          4.61,
          18.03,
          6.36,
          11.45,
          8.1,
          7.26,
          14.1,
          2.97,
          14.66,
          5.49,
          29.93,
          5.64,
          12.64,
          7.7,
          14.36,
          9.62
         ]
        },
        {
         "marker": {
          "color": "rgba(55, 128, 191, 0.6)",
          "line": {
           "color": "rgba(55, 128, 191, 1.0)",
           "width": 1
          }
         },
         "name": "Target_Y",
         "orientation": "v",
         "text": "",
         "type": "bar",
         "x": [
          0,
          1,
          2,
          3,
          4,
          5,
          6,
          7,
          8,
          9,
          10,
          11,
          12,
          13,
          14,
          15,
          16,
          17,
          18,
          19,
          20,
          21,
          22,
          23,
          24,
          25,
          26,
          27,
          28,
          29,
          30,
          31,
          32,
          33,
          34,
          35,
          36,
          37,
          38,
          39,
          40,
          41,
          42,
          43,
          44,
          45,
          46,
          47,
          48,
          49,
          50,
          51,
          52,
          53,
          54,
          55,
          56,
          57,
          58,
          59,
          60,
          61,
          62,
          63,
          64,
          65,
          66,
          67,
          68,
          69,
          70,
          71,
          72,
          73,
          74,
          75,
          76,
          77,
          78,
          79,
          80,
          81,
          82,
          83,
          84,
          85,
          86,
          87,
          88,
          89,
          90,
          91,
          92,
          93,
          94,
          95,
          96,
          97,
          98,
          99,
          100,
          101
         ],
         "y": [
          13.8,
          19.4,
          8.8,
          6.3,
          25.2,
          21,
          21.6,
          19.1,
          18.5,
          14.9,
          8.8,
          24.1,
          18.4,
          29.6,
          38.7,
          20,
          34.9,
          28.2,
          14.4,
          12.7,
          13.6,
          50,
          39.8,
          36.4,
          20.6,
          12.5,
          20.8,
          24.3,
          29.4,
          27.5,
          17.7,
          24.5,
          22.6,
          23,
          24.3,
          12.8,
          20.8,
          15.2,
          42.3,
          15.6,
          20.6,
          17.3,
          23.8,
          28.4,
          8.4,
          18.2,
          24.8,
          19.9,
          20.2,
          25.3,
          50,
          23,
          50,
          31.1,
          16.2,
          31.6,
          11.5,
          13.6,
          13.9,
          15,
          19.4,
          17.2,
          19.9,
          33.4,
          27.5,
          21.1,
          21.9,
          19.3,
          23.8,
          25,
          16.3,
          23.4,
          28.1,
          27.1,
          28.5,
          5,
          9.5,
          22.3,
          10.9,
          21.2,
          22,
          24.2,
          19.6,
          13.1,
          31.7,
          24.5,
          31.2,
          14.6,
          23.7,
          20.6,
          36.5,
          43.1,
          20.8,
          50,
          24.4,
          32.7,
          16.5,
          23.9,
          16.1,
          20.4,
          23.2,
          23.9
         ]
        },
        {
         "marker": {
          "color": "rgba(50, 171, 96, 0.6)",
          "line": {
           "color": "rgba(50, 171, 96, 1.0)",
           "width": 1
          }
         },
         "name": "Predicted_Y",
         "orientation": "v",
         "text": "",
         "type": "bar",
         "x": [
          0,
          1,
          2,
          3,
          4,
          5,
          6,
          7,
          8,
          9,
          10,
          11,
          12,
          13,
          14,
          15,
          16,
          17,
          18,
          19,
          20,
          21,
          22,
          23,
          24,
          25,
          26,
          27,
          28,
          29,
          30,
          31,
          32,
          33,
          34,
          35,
          36,
          37,
          38,
          39,
          40,
          41,
          42,
          43,
          44,
          45,
          46,
          47,
          48,
          49,
          50,
          51,
          52,
          53,
          54,
          55,
          56,
          57,
          58,
          59,
          60,
          61,
          62,
          63,
          64,
          65,
          66,
          67,
          68,
          69,
          70,
          71,
          72,
          73,
          74,
          75,
          76,
          77,
          78,
          79,
          80,
          81,
          82,
          83,
          84,
          85,
          86,
          87,
          88,
          89,
          90,
          91,
          92,
          93,
          94,
          95,
          96,
          97,
          98,
          99,
          100,
          101
         ],
         "y": [
          1.32,
          19.67,
          14.83,
          5.9,
          28.23,
          23.08,
          26.98,
          20.22,
          23.31,
          16.66,
          5.27,
          28.05,
          18.68,
          21.96,
          30.5,
          20.48,
          30.17,
          27.33,
          5.1,
          18.91,
          14.45,
          30.1,
          27.3,
          31.78,
          21.78,
          16.02,
          24.79,
          25.77,
          29.43,
          25.04,
          20.53,
          21.54,
          22.42,
          23.9,
          28.38,
          12.67,
          24.71,
          17.59,
          31.55,
          18.96,
          25.85,
          10.26,
          25.66,
          28.17,
          12.81,
          23.75,
          28.72,
          20.97,
          23.36,
          28.97,
          30.27,
          28.65,
          26.04,
          29.72,
          23.54,
          28.45,
          14.61,
          17.27,
          18.76,
          21.69,
          19.05,
          9.31,
          26.43,
          28.34,
          15.63,
          22.11,
          29.47,
          25,
          23.92,
          28.59,
          15.35,
          26.47,
          25.56,
          16.24,
          31.34,
          5.31,
          11.53,
          23.71,
          14.39,
          25.4,
          28.33,
          28.1,
          21.31,
          19.11,
          29.51,
          25.43,
          30.12,
          17.3,
          28.45,
          23.59,
          26.79,
          27.59,
          21.06,
          31.68,
          20.52,
          29.28,
          5.94,
          29.14,
          22.45,
          27.17,
          20.81,
          25.34
         ]
        },
        {
         "marker": {
          "color": "rgba(128, 0, 128, 0.6)",
          "line": {
           "color": "rgba(128, 0, 128, 1.0)",
           "width": 1
          }
         },
         "name": "Difference",
         "orientation": "v",
         "text": "",
         "type": "bar",
         "x": [
          0,
          1,
          2,
          3,
          4,
          5,
          6,
          7,
          8,
          9,
          10,
          11,
          12,
          13,
          14,
          15,
          16,
          17,
          18,
          19,
          20,
          21,
          22,
          23,
          24,
          25,
          26,
          27,
          28,
          29,
          30,
          31,
          32,
          33,
          34,
          35,
          36,
          37,
          38,
          39,
          40,
          41,
          42,
          43,
          44,
          45,
          46,
          47,
          48,
          49,
          50,
          51,
          52,
          53,
          54,
          55,
          56,
          57,
          58,
          59,
          60,
          61,
          62,
          63,
          64,
          65,
          66,
          67,
          68,
          69,
          70,
          71,
          72,
          73,
          74,
          75,
          76,
          77,
          78,
          79,
          80,
          81,
          82,
          83,
          84,
          85,
          86,
          87,
          88,
          89,
          90,
          91,
          92,
          93,
          94,
          95,
          96,
          97,
          98,
          99,
          100,
          101
         ],
         "y": [
          12.48,
          -0.2700000000000031,
          -6.029999999999999,
          0.39999999999999947,
          -3.030000000000001,
          -2.0799999999999983,
          -5.379999999999999,
          -1.1199999999999974,
          -4.809999999999999,
          -1.7599999999999998,
          3.530000000000001,
          -3.9499999999999993,
          -0.28000000000000114,
          7.640000000000001,
          8.200000000000003,
          -0.4800000000000004,
          4.729999999999997,
          0.870000000000001,
          9.3,
          -6.210000000000001,
          -0.8499999999999996,
          19.9,
          12.499999999999996,
          4.619999999999997,
          -1.1799999999999997,
          -3.5199999999999996,
          -3.9899999999999984,
          -1.4699999999999989,
          -0.030000000000001137,
          2.460000000000001,
          -2.830000000000002,
          2.960000000000001,
          0.17999999999999972,
          -0.8999999999999986,
          -4.079999999999998,
          0.13000000000000078,
          -3.91,
          -2.3900000000000006,
          10.749999999999996,
          -3.360000000000001,
          -5.25,
          7.040000000000001,
          -1.8599999999999994,
          0.22999999999999687,
          -4.41,
          -5.550000000000001,
          -3.919999999999998,
          -1.0700000000000003,
          -3.16,
          -3.669999999999998,
          19.73,
          -5.649999999999999,
          23.96,
          1.3800000000000026,
          -7.34,
          3.150000000000002,
          -3.1099999999999994,
          -3.67,
          -4.860000000000001,
          -6.690000000000001,
          0.34999999999999787,
          7.889999999999999,
          -6.530000000000001,
          5.059999999999999,
          11.87,
          -1.009999999999998,
          -7.57,
          -5.699999999999999,
          -0.120000000000001,
          -3.59,
          0.9500000000000011,
          -3.0700000000000003,
          2.5400000000000027,
          10.860000000000003,
          -2.84,
          -0.3099999999999996,
          -2.0299999999999994,
          -1.4100000000000001,
          -3.49,
          -4.199999999999999,
          -6.329999999999998,
          -3.900000000000002,
          -1.7099999999999973,
          -6.01,
          2.1899999999999977,
          -0.9299999999999997,
          1.0799999999999983,
          -2.700000000000001,
          -4.75,
          -2.9899999999999984,
          9.71,
          15.510000000000002,
          -0.259999999999998,
          18.32,
          3.879999999999999,
          3.4200000000000017,
          10.559999999999999,
          -5.240000000000002,
          -6.349999999999998,
          -6.770000000000003,
          2.3900000000000006,
          -1.4400000000000013
         ]
        }
       ],
       "layout": {
        "legend": {
         "bgcolor": "#F5F6F9",
         "font": {
          "color": "#4D5663"
         }
        },
        "paper_bgcolor": "#F5F6F9",
        "plot_bgcolor": "#F5F6F9",
        "template": {
         "data": {
          "bar": [
           {
            "error_x": {
             "color": "#2a3f5f"
            },
            "error_y": {
             "color": "#2a3f5f"
            },
            "marker": {
             "line": {
              "color": "#E5ECF6",
              "width": 0.5
             }
            },
            "type": "bar"
           }
          ],
          "barpolar": [
           {
            "marker": {
             "line": {
              "color": "#E5ECF6",
              "width": 0.5
             }
            },
            "type": "barpolar"
           }
          ],
          "carpet": [
           {
            "aaxis": {
             "endlinecolor": "#2a3f5f",
             "gridcolor": "white",
             "linecolor": "white",
             "minorgridcolor": "white",
             "startlinecolor": "#2a3f5f"
            },
            "baxis": {
             "endlinecolor": "#2a3f5f",
             "gridcolor": "white",
             "linecolor": "white",
             "minorgridcolor": "white",
             "startlinecolor": "#2a3f5f"
            },
            "type": "carpet"
           }
          ],
          "choropleth": [
           {
            "colorbar": {
             "outlinewidth": 0,
             "ticks": ""
            },
            "type": "choropleth"
           }
          ],
          "contour": [
           {
            "colorbar": {
             "outlinewidth": 0,
             "ticks": ""
            },
            "colorscale": [
             [
              0,
              "#0d0887"
             ],
             [
              0.1111111111111111,
              "#46039f"
             ],
             [
              0.2222222222222222,
              "#7201a8"
             ],
             [
              0.3333333333333333,
              "#9c179e"
             ],
             [
              0.4444444444444444,
              "#bd3786"
             ],
             [
              0.5555555555555556,
              "#d8576b"
             ],
             [
              0.6666666666666666,
              "#ed7953"
             ],
             [
              0.7777777777777778,
              "#fb9f3a"
             ],
             [
              0.8888888888888888,
              "#fdca26"
             ],
             [
              1,
              "#f0f921"
             ]
            ],
            "type": "contour"
           }
          ],
          "contourcarpet": [
           {
            "colorbar": {
             "outlinewidth": 0,
             "ticks": ""
            },
            "type": "contourcarpet"
           }
          ],
          "heatmap": [
           {
            "colorbar": {
             "outlinewidth": 0,
             "ticks": ""
            },
            "colorscale": [
             [
              0,
              "#0d0887"
             ],
             [
              0.1111111111111111,
              "#46039f"
             ],
             [
              0.2222222222222222,
              "#7201a8"
             ],
             [
              0.3333333333333333,
              "#9c179e"
             ],
             [
              0.4444444444444444,
              "#bd3786"
             ],
             [
              0.5555555555555556,
              "#d8576b"
             ],
             [
              0.6666666666666666,
              "#ed7953"
             ],
             [
              0.7777777777777778,
              "#fb9f3a"
             ],
             [
              0.8888888888888888,
              "#fdca26"
             ],
             [
              1,
              "#f0f921"
             ]
            ],
            "type": "heatmap"
           }
          ],
          "heatmapgl": [
           {
            "colorbar": {
             "outlinewidth": 0,
             "ticks": ""
            },
            "colorscale": [
             [
              0,
              "#0d0887"
             ],
             [
              0.1111111111111111,
              "#46039f"
             ],
             [
              0.2222222222222222,
              "#7201a8"
             ],
             [
              0.3333333333333333,
              "#9c179e"
             ],
             [
              0.4444444444444444,
              "#bd3786"
             ],
             [
              0.5555555555555556,
              "#d8576b"
             ],
             [
              0.6666666666666666,
              "#ed7953"
             ],
             [
              0.7777777777777778,
              "#fb9f3a"
             ],
             [
              0.8888888888888888,
              "#fdca26"
             ],
             [
              1,
              "#f0f921"
             ]
            ],
            "type": "heatmapgl"
           }
          ],
          "histogram": [
           {
            "marker": {
             "colorbar": {
              "outlinewidth": 0,
              "ticks": ""
             }
            },
            "type": "histogram"
           }
          ],
          "histogram2d": [
           {
            "colorbar": {
             "outlinewidth": 0,
             "ticks": ""
            },
            "colorscale": [
             [
              0,
              "#0d0887"
             ],
             [
              0.1111111111111111,
              "#46039f"
             ],
             [
              0.2222222222222222,
              "#7201a8"
             ],
             [
              0.3333333333333333,
              "#9c179e"
             ],
             [
              0.4444444444444444,
              "#bd3786"
             ],
             [
              0.5555555555555556,
              "#d8576b"
             ],
             [
              0.6666666666666666,
              "#ed7953"
             ],
             [
              0.7777777777777778,
              "#fb9f3a"
             ],
             [
              0.8888888888888888,
              "#fdca26"
             ],
             [
              1,
              "#f0f921"
             ]
            ],
            "type": "histogram2d"
           }
          ],
          "histogram2dcontour": [
           {
            "colorbar": {
             "outlinewidth": 0,
             "ticks": ""
            },
            "colorscale": [
             [
              0,
              "#0d0887"
             ],
             [
              0.1111111111111111,
              "#46039f"
             ],
             [
              0.2222222222222222,
              "#7201a8"
             ],
             [
              0.3333333333333333,
              "#9c179e"
             ],
             [
              0.4444444444444444,
              "#bd3786"
             ],
             [
              0.5555555555555556,
              "#d8576b"
             ],
             [
              0.6666666666666666,
              "#ed7953"
             ],
             [
              0.7777777777777778,
              "#fb9f3a"
             ],
             [
              0.8888888888888888,
              "#fdca26"
             ],
             [
              1,
              "#f0f921"
             ]
            ],
            "type": "histogram2dcontour"
           }
          ],
          "mesh3d": [
           {
            "colorbar": {
             "outlinewidth": 0,
             "ticks": ""
            },
            "type": "mesh3d"
           }
          ],
          "parcoords": [
           {
            "line": {
             "colorbar": {
              "outlinewidth": 0,
              "ticks": ""
             }
            },
            "type": "parcoords"
           }
          ],
          "pie": [
           {
            "automargin": true,
            "type": "pie"
           }
          ],
          "scatter": [
           {
            "marker": {
             "colorbar": {
              "outlinewidth": 0,
              "ticks": ""
             }
            },
            "type": "scatter"
           }
          ],
          "scatter3d": [
           {
            "line": {
             "colorbar": {
              "outlinewidth": 0,
              "ticks": ""
             }
            },
            "marker": {
             "colorbar": {
              "outlinewidth": 0,
              "ticks": ""
             }
            },
            "type": "scatter3d"
           }
          ],
          "scattercarpet": [
           {
            "marker": {
             "colorbar": {
              "outlinewidth": 0,
              "ticks": ""
             }
            },
            "type": "scattercarpet"
           }
          ],
          "scattergeo": [
           {
            "marker": {
             "colorbar": {
              "outlinewidth": 0,
              "ticks": ""
             }
            },
            "type": "scattergeo"
           }
          ],
          "scattergl": [
           {
            "marker": {
             "colorbar": {
              "outlinewidth": 0,
              "ticks": ""
             }
            },
            "type": "scattergl"
           }
          ],
          "scattermapbox": [
           {
            "marker": {
             "colorbar": {
              "outlinewidth": 0,
              "ticks": ""
             }
            },
            "type": "scattermapbox"
           }
          ],
          "scatterpolar": [
           {
            "marker": {
             "colorbar": {
              "outlinewidth": 0,
              "ticks": ""
             }
            },
            "type": "scatterpolar"
           }
          ],
          "scatterpolargl": [
           {
            "marker": {
             "colorbar": {
              "outlinewidth": 0,
              "ticks": ""
             }
            },
            "type": "scatterpolargl"
           }
          ],
          "scatterternary": [
           {
            "marker": {
             "colorbar": {
              "outlinewidth": 0,
              "ticks": ""
             }
            },
            "type": "scatterternary"
           }
          ],
          "surface": [
           {
            "colorbar": {
             "outlinewidth": 0,
             "ticks": ""
            },
            "colorscale": [
             [
              0,
              "#0d0887"
             ],
             [
              0.1111111111111111,
              "#46039f"
             ],
             [
              0.2222222222222222,
              "#7201a8"
             ],
             [
              0.3333333333333333,
              "#9c179e"
             ],
             [
              0.4444444444444444,
              "#bd3786"
             ],
             [
              0.5555555555555556,
              "#d8576b"
             ],
             [
              0.6666666666666666,
              "#ed7953"
             ],
             [
              0.7777777777777778,
              "#fb9f3a"
             ],
             [
              0.8888888888888888,
              "#fdca26"
             ],
             [
              1,
              "#f0f921"
             ]
            ],
            "type": "surface"
           }
          ],
          "table": [
           {
            "cells": {
             "fill": {
              "color": "#EBF0F8"
             },
             "line": {
              "color": "white"
             }
            },
            "header": {
             "fill": {
              "color": "#C8D4E3"
             },
             "line": {
              "color": "white"
             }
            },
            "type": "table"
           }
          ]
         },
         "layout": {
          "annotationdefaults": {
           "arrowcolor": "#2a3f5f",
           "arrowhead": 0,
           "arrowwidth": 1
          },
          "coloraxis": {
           "colorbar": {
            "outlinewidth": 0,
            "ticks": ""
           }
          },
          "colorscale": {
           "diverging": [
            [
             0,
             "#8e0152"
            ],
            [
             0.1,
             "#c51b7d"
            ],
            [
             0.2,
             "#de77ae"
            ],
            [
             0.3,
             "#f1b6da"
            ],
            [
             0.4,
             "#fde0ef"
            ],
            [
             0.5,
             "#f7f7f7"
            ],
            [
             0.6,
             "#e6f5d0"
            ],
            [
             0.7,
             "#b8e186"
            ],
            [
             0.8,
             "#7fbc41"
            ],
            [
             0.9,
             "#4d9221"
            ],
            [
             1,
             "#276419"
            ]
           ],
           "sequential": [
            [
             0,
             "#0d0887"
            ],
            [
             0.1111111111111111,
             "#46039f"
            ],
            [
             0.2222222222222222,
             "#7201a8"
            ],
            [
             0.3333333333333333,
             "#9c179e"
            ],
            [
             0.4444444444444444,
             "#bd3786"
            ],
            [
             0.5555555555555556,
             "#d8576b"
            ],
            [
             0.6666666666666666,
             "#ed7953"
            ],
            [
             0.7777777777777778,
             "#fb9f3a"
            ],
            [
             0.8888888888888888,
             "#fdca26"
            ],
            [
             1,
             "#f0f921"
            ]
           ],
           "sequentialminus": [
            [
             0,
             "#0d0887"
            ],
            [
             0.1111111111111111,
             "#46039f"
            ],
            [
             0.2222222222222222,
             "#7201a8"
            ],
            [
             0.3333333333333333,
             "#9c179e"
            ],
            [
             0.4444444444444444,
             "#bd3786"
            ],
            [
             0.5555555555555556,
             "#d8576b"
            ],
            [
             0.6666666666666666,
             "#ed7953"
            ],
            [
             0.7777777777777778,
             "#fb9f3a"
            ],
            [
             0.8888888888888888,
             "#fdca26"
            ],
            [
             1,
             "#f0f921"
            ]
           ]
          },
          "colorway": [
           "#636efa",
           "#EF553B",
           "#00cc96",
           "#ab63fa",
           "#FFA15A",
           "#19d3f3",
           "#FF6692",
           "#B6E880",
           "#FF97FF",
           "#FECB52"
          ],
          "font": {
           "color": "#2a3f5f"
          },
          "geo": {
           "bgcolor": "white",
           "lakecolor": "white",
           "landcolor": "#E5ECF6",
           "showlakes": true,
           "showland": true,
           "subunitcolor": "white"
          },
          "hoverlabel": {
           "align": "left"
          },
          "hovermode": "closest",
          "mapbox": {
           "style": "light"
          },
          "paper_bgcolor": "white",
          "plot_bgcolor": "#E5ECF6",
          "polar": {
           "angularaxis": {
            "gridcolor": "white",
            "linecolor": "white",
            "ticks": ""
           },
           "bgcolor": "#E5ECF6",
           "radialaxis": {
            "gridcolor": "white",
            "linecolor": "white",
            "ticks": ""
           }
          },
          "scene": {
           "xaxis": {
            "backgroundcolor": "#E5ECF6",
            "gridcolor": "white",
            "gridwidth": 2,
            "linecolor": "white",
            "showbackground": true,
            "ticks": "",
            "zerolinecolor": "white"
           },
           "yaxis": {
            "backgroundcolor": "#E5ECF6",
            "gridcolor": "white",
            "gridwidth": 2,
            "linecolor": "white",
            "showbackground": true,
            "ticks": "",
            "zerolinecolor": "white"
           },
           "zaxis": {
            "backgroundcolor": "#E5ECF6",
            "gridcolor": "white",
            "gridwidth": 2,
            "linecolor": "white",
            "showbackground": true,
            "ticks": "",
            "zerolinecolor": "white"
           }
          },
          "shapedefaults": {
           "line": {
            "color": "#2a3f5f"
           }
          },
          "ternary": {
           "aaxis": {
            "gridcolor": "white",
            "linecolor": "white",
            "ticks": ""
           },
           "baxis": {
            "gridcolor": "white",
            "linecolor": "white",
            "ticks": ""
           },
           "bgcolor": "#E5ECF6",
           "caxis": {
            "gridcolor": "white",
            "linecolor": "white",
            "ticks": ""
           }
          },
          "title": {
           "x": 0.05
          },
          "xaxis": {
           "automargin": true,
           "gridcolor": "white",
           "linecolor": "white",
           "ticks": "",
           "title": {
            "standoff": 15
           },
           "zerolinecolor": "white",
           "zerolinewidth": 2
          },
          "yaxis": {
           "automargin": true,
           "gridcolor": "white",
           "linecolor": "white",
           "ticks": "",
           "title": {
            "standoff": 15
           },
           "zerolinecolor": "white",
           "zerolinewidth": 2
          }
         }
        },
        "title": {
         "font": {
          "color": "#4D5663"
         }
        },
        "xaxis": {
         "gridcolor": "#E1E5ED",
         "showgrid": true,
         "tickfont": {
          "color": "#4D5663"
         },
         "title": {
          "font": {
           "color": "#4D5663"
          },
          "text": ""
         },
         "zerolinecolor": "#E1E5ED"
        },
        "yaxis": {
         "gridcolor": "#E1E5ED",
         "showgrid": true,
         "tickfont": {
          "color": "#4D5663"
         },
         "title": {
          "font": {
           "color": "#4D5663"
          },
          "text": ""
         },
         "zerolinecolor": "#E1E5ED"
        }
       }
      },
      "text/html": [
       "<div>\n",
       "        \n",
       "        \n",
       "            <div id=\"d00bcd6b-0596-414f-b2f1-54dec4e32905\" class=\"plotly-graph-div\" style=\"height:525px; width:100%;\"></div>\n",
       "            <script type=\"text/javascript\">\n",
       "                require([\"plotly\"], function(Plotly) {\n",
       "                    window.PLOTLYENV=window.PLOTLYENV || {};\n",
       "                    window.PLOTLYENV.BASE_URL='https://plot.ly';\n",
       "                    \n",
       "                if (document.getElementById(\"d00bcd6b-0596-414f-b2f1-54dec4e32905\")) {\n",
       "                    Plotly.newPlot(\n",
       "                        'd00bcd6b-0596-414f-b2f1-54dec4e32905',\n",
       "                        [{\"marker\": {\"color\": \"rgba(255, 153, 51, 0.6)\", \"line\": {\"color\": \"rgba(255, 153, 51, 1.0)\", \"width\": 1}}, \"name\": \"X\", \"orientation\": \"v\", \"text\": \"\", \"type\": \"bar\", \"x\": [0, 1, 2, 3, 4, 5, 6, 7, 8, 9, 10, 11, 12, 13, 14, 15, 16, 17, 18, 19, 20, 21, 22, 23, 24, 25, 26, 27, 28, 29, 30, 31, 32, 33, 34, 35, 36, 37, 38, 39, 40, 41, 42, 43, 44, 45, 46, 47, 48, 49, 50, 51, 52, 53, 54, 55, 56, 57, 58, 59, 60, 61, 62, 63, 64, 65, 66, 67, 68, 69, 70, 71, 72, 73, 74, 75, 76, 77, 78, 79, 80, 81, 82, 83, 84, 85, 86, 87, 88, 89, 90, 91, 92, 93, 94, 95, 96, 97, 98, 99, 100, 101], \"y\": [34.77, 15.55, 20.62, 29.97, 6.59, 11.98, 7.9, 14.98, 11.74, 18.71, 30.63, 6.78, 16.59, 13.15, 4.21, 14.7, 4.56, 7.53, 30.81, 16.35, 21.02, 4.63, 7.56, 2.87, 13.34, 19.37, 10.19, 9.16, 5.33, 9.93, 14.65, 13.59, 12.67, 11.12, 6.43, 22.88, 10.27, 17.73, 3.11, 16.3, 9.08, 25.41, 9.28, 6.65, 22.74, 11.28, 6.07, 14.19, 11.69, 5.81, 4.45, 6.15, 8.88, 5.03, 11.5, 6.36, 20.85, 18.07, 16.51, 13.44, 16.2, 26.4, 8.47, 6.47, 19.78, 13.0, 5.29, 9.97, 11.1, 6.21, 20.08, 8.43, 9.38, 19.15, 3.33, 30.59, 24.08, 11.32, 21.08, 9.55, 6.48, 6.72, 13.83, 16.14, 5.25, 9.52, 4.61, 18.03, 6.36, 11.45, 8.1, 7.26, 14.1, 2.97, 14.66, 5.49, 29.93, 5.64, 12.64, 7.7, 14.36, 9.62]}, {\"marker\": {\"color\": \"rgba(55, 128, 191, 0.6)\", \"line\": {\"color\": \"rgba(55, 128, 191, 1.0)\", \"width\": 1}}, \"name\": \"Target_Y\", \"orientation\": \"v\", \"text\": \"\", \"type\": \"bar\", \"x\": [0, 1, 2, 3, 4, 5, 6, 7, 8, 9, 10, 11, 12, 13, 14, 15, 16, 17, 18, 19, 20, 21, 22, 23, 24, 25, 26, 27, 28, 29, 30, 31, 32, 33, 34, 35, 36, 37, 38, 39, 40, 41, 42, 43, 44, 45, 46, 47, 48, 49, 50, 51, 52, 53, 54, 55, 56, 57, 58, 59, 60, 61, 62, 63, 64, 65, 66, 67, 68, 69, 70, 71, 72, 73, 74, 75, 76, 77, 78, 79, 80, 81, 82, 83, 84, 85, 86, 87, 88, 89, 90, 91, 92, 93, 94, 95, 96, 97, 98, 99, 100, 101], \"y\": [13.8, 19.4, 8.8, 6.3, 25.2, 21.0, 21.6, 19.1, 18.5, 14.9, 8.8, 24.1, 18.4, 29.6, 38.7, 20.0, 34.9, 28.2, 14.4, 12.7, 13.6, 50.0, 39.8, 36.4, 20.6, 12.5, 20.8, 24.3, 29.4, 27.5, 17.7, 24.5, 22.6, 23.0, 24.3, 12.8, 20.8, 15.2, 42.3, 15.6, 20.6, 17.3, 23.8, 28.4, 8.4, 18.2, 24.8, 19.9, 20.2, 25.3, 50.0, 23.0, 50.0, 31.1, 16.2, 31.6, 11.5, 13.6, 13.9, 15.0, 19.4, 17.2, 19.9, 33.4, 27.5, 21.1, 21.9, 19.3, 23.8, 25.0, 16.3, 23.4, 28.1, 27.1, 28.5, 5.0, 9.5, 22.3, 10.9, 21.2, 22.0, 24.2, 19.6, 13.1, 31.7, 24.5, 31.2, 14.6, 23.7, 20.6, 36.5, 43.1, 20.8, 50.0, 24.4, 32.7, 16.5, 23.9, 16.1, 20.4, 23.2, 23.9]}, {\"marker\": {\"color\": \"rgba(50, 171, 96, 0.6)\", \"line\": {\"color\": \"rgba(50, 171, 96, 1.0)\", \"width\": 1}}, \"name\": \"Predicted_Y\", \"orientation\": \"v\", \"text\": \"\", \"type\": \"bar\", \"x\": [0, 1, 2, 3, 4, 5, 6, 7, 8, 9, 10, 11, 12, 13, 14, 15, 16, 17, 18, 19, 20, 21, 22, 23, 24, 25, 26, 27, 28, 29, 30, 31, 32, 33, 34, 35, 36, 37, 38, 39, 40, 41, 42, 43, 44, 45, 46, 47, 48, 49, 50, 51, 52, 53, 54, 55, 56, 57, 58, 59, 60, 61, 62, 63, 64, 65, 66, 67, 68, 69, 70, 71, 72, 73, 74, 75, 76, 77, 78, 79, 80, 81, 82, 83, 84, 85, 86, 87, 88, 89, 90, 91, 92, 93, 94, 95, 96, 97, 98, 99, 100, 101], \"y\": [1.32, 19.67, 14.83, 5.9, 28.23, 23.08, 26.98, 20.22, 23.31, 16.66, 5.27, 28.05, 18.68, 21.96, 30.5, 20.48, 30.17, 27.33, 5.1, 18.91, 14.45, 30.1, 27.3, 31.78, 21.78, 16.02, 24.79, 25.77, 29.43, 25.04, 20.53, 21.54, 22.42, 23.9, 28.38, 12.67, 24.71, 17.59, 31.55, 18.96, 25.85, 10.26, 25.66, 28.17, 12.81, 23.75, 28.72, 20.97, 23.36, 28.97, 30.27, 28.65, 26.04, 29.72, 23.54, 28.45, 14.61, 17.27, 18.76, 21.69, 19.05, 9.31, 26.43, 28.34, 15.63, 22.11, 29.47, 25.0, 23.92, 28.59, 15.35, 26.47, 25.56, 16.24, 31.34, 5.31, 11.53, 23.71, 14.39, 25.4, 28.33, 28.1, 21.31, 19.11, 29.51, 25.43, 30.12, 17.3, 28.45, 23.59, 26.79, 27.59, 21.06, 31.68, 20.52, 29.28, 5.94, 29.14, 22.45, 27.17, 20.81, 25.34]}, {\"marker\": {\"color\": \"rgba(128, 0, 128, 0.6)\", \"line\": {\"color\": \"rgba(128, 0, 128, 1.0)\", \"width\": 1}}, \"name\": \"Difference\", \"orientation\": \"v\", \"text\": \"\", \"type\": \"bar\", \"x\": [0, 1, 2, 3, 4, 5, 6, 7, 8, 9, 10, 11, 12, 13, 14, 15, 16, 17, 18, 19, 20, 21, 22, 23, 24, 25, 26, 27, 28, 29, 30, 31, 32, 33, 34, 35, 36, 37, 38, 39, 40, 41, 42, 43, 44, 45, 46, 47, 48, 49, 50, 51, 52, 53, 54, 55, 56, 57, 58, 59, 60, 61, 62, 63, 64, 65, 66, 67, 68, 69, 70, 71, 72, 73, 74, 75, 76, 77, 78, 79, 80, 81, 82, 83, 84, 85, 86, 87, 88, 89, 90, 91, 92, 93, 94, 95, 96, 97, 98, 99, 100, 101], \"y\": [12.48, -0.2700000000000031, -6.029999999999999, 0.39999999999999947, -3.030000000000001, -2.0799999999999983, -5.379999999999999, -1.1199999999999974, -4.809999999999999, -1.7599999999999998, 3.530000000000001, -3.9499999999999993, -0.28000000000000114, 7.640000000000001, 8.200000000000003, -0.4800000000000004, 4.729999999999997, 0.870000000000001, 9.3, -6.210000000000001, -0.8499999999999996, 19.9, 12.499999999999996, 4.619999999999997, -1.1799999999999997, -3.5199999999999996, -3.9899999999999984, -1.4699999999999989, -0.030000000000001137, 2.460000000000001, -2.830000000000002, 2.960000000000001, 0.17999999999999972, -0.8999999999999986, -4.079999999999998, 0.13000000000000078, -3.91, -2.3900000000000006, 10.749999999999996, -3.360000000000001, -5.25, 7.040000000000001, -1.8599999999999994, 0.22999999999999687, -4.41, -5.550000000000001, -3.919999999999998, -1.0700000000000003, -3.16, -3.669999999999998, 19.73, -5.649999999999999, 23.96, 1.3800000000000026, -7.34, 3.150000000000002, -3.1099999999999994, -3.67, -4.860000000000001, -6.690000000000001, 0.34999999999999787, 7.889999999999999, -6.530000000000001, 5.059999999999999, 11.87, -1.009999999999998, -7.57, -5.699999999999999, -0.120000000000001, -3.59, 0.9500000000000011, -3.0700000000000003, 2.5400000000000027, 10.860000000000003, -2.84, -0.3099999999999996, -2.0299999999999994, -1.4100000000000001, -3.49, -4.199999999999999, -6.329999999999998, -3.900000000000002, -1.7099999999999973, -6.01, 2.1899999999999977, -0.9299999999999997, 1.0799999999999983, -2.700000000000001, -4.75, -2.9899999999999984, 9.71, 15.510000000000002, -0.259999999999998, 18.32, 3.879999999999999, 3.4200000000000017, 10.559999999999999, -5.240000000000002, -6.349999999999998, -6.770000000000003, 2.3900000000000006, -1.4400000000000013]}],\n",
       "                        {\"legend\": {\"bgcolor\": \"#F5F6F9\", \"font\": {\"color\": \"#4D5663\"}}, \"paper_bgcolor\": \"#F5F6F9\", \"plot_bgcolor\": \"#F5F6F9\", \"template\": {\"data\": {\"bar\": [{\"error_x\": {\"color\": \"#2a3f5f\"}, \"error_y\": {\"color\": \"#2a3f5f\"}, \"marker\": {\"line\": {\"color\": \"#E5ECF6\", \"width\": 0.5}}, \"type\": \"bar\"}], \"barpolar\": [{\"marker\": {\"line\": {\"color\": \"#E5ECF6\", \"width\": 0.5}}, \"type\": \"barpolar\"}], \"carpet\": [{\"aaxis\": {\"endlinecolor\": \"#2a3f5f\", \"gridcolor\": \"white\", \"linecolor\": \"white\", \"minorgridcolor\": \"white\", \"startlinecolor\": \"#2a3f5f\"}, \"baxis\": {\"endlinecolor\": \"#2a3f5f\", \"gridcolor\": \"white\", \"linecolor\": \"white\", \"minorgridcolor\": \"white\", \"startlinecolor\": \"#2a3f5f\"}, \"type\": \"carpet\"}], \"choropleth\": [{\"colorbar\": {\"outlinewidth\": 0, \"ticks\": \"\"}, \"type\": \"choropleth\"}], \"contour\": [{\"colorbar\": {\"outlinewidth\": 0, \"ticks\": \"\"}, \"colorscale\": [[0.0, \"#0d0887\"], [0.1111111111111111, \"#46039f\"], [0.2222222222222222, \"#7201a8\"], [0.3333333333333333, \"#9c179e\"], [0.4444444444444444, \"#bd3786\"], [0.5555555555555556, \"#d8576b\"], [0.6666666666666666, \"#ed7953\"], [0.7777777777777778, \"#fb9f3a\"], [0.8888888888888888, \"#fdca26\"], [1.0, \"#f0f921\"]], \"type\": \"contour\"}], \"contourcarpet\": [{\"colorbar\": {\"outlinewidth\": 0, \"ticks\": \"\"}, \"type\": \"contourcarpet\"}], \"heatmap\": [{\"colorbar\": {\"outlinewidth\": 0, \"ticks\": \"\"}, \"colorscale\": [[0.0, \"#0d0887\"], [0.1111111111111111, \"#46039f\"], [0.2222222222222222, \"#7201a8\"], [0.3333333333333333, \"#9c179e\"], [0.4444444444444444, \"#bd3786\"], [0.5555555555555556, \"#d8576b\"], [0.6666666666666666, \"#ed7953\"], [0.7777777777777778, \"#fb9f3a\"], [0.8888888888888888, \"#fdca26\"], [1.0, \"#f0f921\"]], \"type\": \"heatmap\"}], \"heatmapgl\": [{\"colorbar\": {\"outlinewidth\": 0, \"ticks\": \"\"}, \"colorscale\": [[0.0, \"#0d0887\"], [0.1111111111111111, \"#46039f\"], [0.2222222222222222, \"#7201a8\"], [0.3333333333333333, \"#9c179e\"], [0.4444444444444444, \"#bd3786\"], [0.5555555555555556, \"#d8576b\"], [0.6666666666666666, \"#ed7953\"], [0.7777777777777778, \"#fb9f3a\"], [0.8888888888888888, \"#fdca26\"], [1.0, \"#f0f921\"]], \"type\": \"heatmapgl\"}], \"histogram\": [{\"marker\": {\"colorbar\": {\"outlinewidth\": 0, \"ticks\": \"\"}}, \"type\": \"histogram\"}], \"histogram2d\": [{\"colorbar\": {\"outlinewidth\": 0, \"ticks\": \"\"}, \"colorscale\": [[0.0, \"#0d0887\"], [0.1111111111111111, \"#46039f\"], [0.2222222222222222, \"#7201a8\"], [0.3333333333333333, \"#9c179e\"], [0.4444444444444444, \"#bd3786\"], [0.5555555555555556, \"#d8576b\"], [0.6666666666666666, \"#ed7953\"], [0.7777777777777778, \"#fb9f3a\"], [0.8888888888888888, \"#fdca26\"], [1.0, \"#f0f921\"]], \"type\": \"histogram2d\"}], \"histogram2dcontour\": [{\"colorbar\": {\"outlinewidth\": 0, \"ticks\": \"\"}, \"colorscale\": [[0.0, \"#0d0887\"], [0.1111111111111111, \"#46039f\"], [0.2222222222222222, \"#7201a8\"], [0.3333333333333333, \"#9c179e\"], [0.4444444444444444, \"#bd3786\"], [0.5555555555555556, \"#d8576b\"], [0.6666666666666666, \"#ed7953\"], [0.7777777777777778, \"#fb9f3a\"], [0.8888888888888888, \"#fdca26\"], [1.0, \"#f0f921\"]], \"type\": \"histogram2dcontour\"}], \"mesh3d\": [{\"colorbar\": {\"outlinewidth\": 0, \"ticks\": \"\"}, \"type\": \"mesh3d\"}], \"parcoords\": [{\"line\": {\"colorbar\": {\"outlinewidth\": 0, \"ticks\": \"\"}}, \"type\": \"parcoords\"}], \"pie\": [{\"automargin\": true, \"type\": \"pie\"}], \"scatter\": [{\"marker\": {\"colorbar\": {\"outlinewidth\": 0, \"ticks\": \"\"}}, \"type\": \"scatter\"}], \"scatter3d\": [{\"line\": {\"colorbar\": {\"outlinewidth\": 0, \"ticks\": \"\"}}, \"marker\": {\"colorbar\": {\"outlinewidth\": 0, \"ticks\": \"\"}}, \"type\": \"scatter3d\"}], \"scattercarpet\": [{\"marker\": {\"colorbar\": {\"outlinewidth\": 0, \"ticks\": \"\"}}, \"type\": \"scattercarpet\"}], \"scattergeo\": [{\"marker\": {\"colorbar\": {\"outlinewidth\": 0, \"ticks\": \"\"}}, \"type\": \"scattergeo\"}], \"scattergl\": [{\"marker\": {\"colorbar\": {\"outlinewidth\": 0, \"ticks\": \"\"}}, \"type\": \"scattergl\"}], \"scattermapbox\": [{\"marker\": {\"colorbar\": {\"outlinewidth\": 0, \"ticks\": \"\"}}, \"type\": \"scattermapbox\"}], \"scatterpolar\": [{\"marker\": {\"colorbar\": {\"outlinewidth\": 0, \"ticks\": \"\"}}, \"type\": \"scatterpolar\"}], \"scatterpolargl\": [{\"marker\": {\"colorbar\": {\"outlinewidth\": 0, \"ticks\": \"\"}}, \"type\": \"scatterpolargl\"}], \"scatterternary\": [{\"marker\": {\"colorbar\": {\"outlinewidth\": 0, \"ticks\": \"\"}}, \"type\": \"scatterternary\"}], \"surface\": [{\"colorbar\": {\"outlinewidth\": 0, \"ticks\": \"\"}, \"colorscale\": [[0.0, \"#0d0887\"], [0.1111111111111111, \"#46039f\"], [0.2222222222222222, \"#7201a8\"], [0.3333333333333333, \"#9c179e\"], [0.4444444444444444, \"#bd3786\"], [0.5555555555555556, \"#d8576b\"], [0.6666666666666666, \"#ed7953\"], [0.7777777777777778, \"#fb9f3a\"], [0.8888888888888888, \"#fdca26\"], [1.0, \"#f0f921\"]], \"type\": \"surface\"}], \"table\": [{\"cells\": {\"fill\": {\"color\": \"#EBF0F8\"}, \"line\": {\"color\": \"white\"}}, \"header\": {\"fill\": {\"color\": \"#C8D4E3\"}, \"line\": {\"color\": \"white\"}}, \"type\": \"table\"}]}, \"layout\": {\"annotationdefaults\": {\"arrowcolor\": \"#2a3f5f\", \"arrowhead\": 0, \"arrowwidth\": 1}, \"coloraxis\": {\"colorbar\": {\"outlinewidth\": 0, \"ticks\": \"\"}}, \"colorscale\": {\"diverging\": [[0, \"#8e0152\"], [0.1, \"#c51b7d\"], [0.2, \"#de77ae\"], [0.3, \"#f1b6da\"], [0.4, \"#fde0ef\"], [0.5, \"#f7f7f7\"], [0.6, \"#e6f5d0\"], [0.7, \"#b8e186\"], [0.8, \"#7fbc41\"], [0.9, \"#4d9221\"], [1, \"#276419\"]], \"sequential\": [[0.0, \"#0d0887\"], [0.1111111111111111, \"#46039f\"], [0.2222222222222222, \"#7201a8\"], [0.3333333333333333, \"#9c179e\"], [0.4444444444444444, \"#bd3786\"], [0.5555555555555556, \"#d8576b\"], [0.6666666666666666, \"#ed7953\"], [0.7777777777777778, \"#fb9f3a\"], [0.8888888888888888, \"#fdca26\"], [1.0, \"#f0f921\"]], \"sequentialminus\": [[0.0, \"#0d0887\"], [0.1111111111111111, \"#46039f\"], [0.2222222222222222, \"#7201a8\"], [0.3333333333333333, \"#9c179e\"], [0.4444444444444444, \"#bd3786\"], [0.5555555555555556, \"#d8576b\"], [0.6666666666666666, \"#ed7953\"], [0.7777777777777778, \"#fb9f3a\"], [0.8888888888888888, \"#fdca26\"], [1.0, \"#f0f921\"]]}, \"colorway\": [\"#636efa\", \"#EF553B\", \"#00cc96\", \"#ab63fa\", \"#FFA15A\", \"#19d3f3\", \"#FF6692\", \"#B6E880\", \"#FF97FF\", \"#FECB52\"], \"font\": {\"color\": \"#2a3f5f\"}, \"geo\": {\"bgcolor\": \"white\", \"lakecolor\": \"white\", \"landcolor\": \"#E5ECF6\", \"showlakes\": true, \"showland\": true, \"subunitcolor\": \"white\"}, \"hoverlabel\": {\"align\": \"left\"}, \"hovermode\": \"closest\", \"mapbox\": {\"style\": \"light\"}, \"paper_bgcolor\": \"white\", \"plot_bgcolor\": \"#E5ECF6\", \"polar\": {\"angularaxis\": {\"gridcolor\": \"white\", \"linecolor\": \"white\", \"ticks\": \"\"}, \"bgcolor\": \"#E5ECF6\", \"radialaxis\": {\"gridcolor\": \"white\", \"linecolor\": \"white\", \"ticks\": \"\"}}, \"scene\": {\"xaxis\": {\"backgroundcolor\": \"#E5ECF6\", \"gridcolor\": \"white\", \"gridwidth\": 2, \"linecolor\": \"white\", \"showbackground\": true, \"ticks\": \"\", \"zerolinecolor\": \"white\"}, \"yaxis\": {\"backgroundcolor\": \"#E5ECF6\", \"gridcolor\": \"white\", \"gridwidth\": 2, \"linecolor\": \"white\", \"showbackground\": true, \"ticks\": \"\", \"zerolinecolor\": \"white\"}, \"zaxis\": {\"backgroundcolor\": \"#E5ECF6\", \"gridcolor\": \"white\", \"gridwidth\": 2, \"linecolor\": \"white\", \"showbackground\": true, \"ticks\": \"\", \"zerolinecolor\": \"white\"}}, \"shapedefaults\": {\"line\": {\"color\": \"#2a3f5f\"}}, \"ternary\": {\"aaxis\": {\"gridcolor\": \"white\", \"linecolor\": \"white\", \"ticks\": \"\"}, \"baxis\": {\"gridcolor\": \"white\", \"linecolor\": \"white\", \"ticks\": \"\"}, \"bgcolor\": \"#E5ECF6\", \"caxis\": {\"gridcolor\": \"white\", \"linecolor\": \"white\", \"ticks\": \"\"}}, \"title\": {\"x\": 0.05}, \"xaxis\": {\"automargin\": true, \"gridcolor\": \"white\", \"linecolor\": \"white\", \"ticks\": \"\", \"title\": {\"standoff\": 15}, \"zerolinecolor\": \"white\", \"zerolinewidth\": 2}, \"yaxis\": {\"automargin\": true, \"gridcolor\": \"white\", \"linecolor\": \"white\", \"ticks\": \"\", \"title\": {\"standoff\": 15}, \"zerolinecolor\": \"white\", \"zerolinewidth\": 2}}}, \"title\": {\"font\": {\"color\": \"#4D5663\"}}, \"xaxis\": {\"gridcolor\": \"#E1E5ED\", \"showgrid\": true, \"tickfont\": {\"color\": \"#4D5663\"}, \"title\": {\"font\": {\"color\": \"#4D5663\"}, \"text\": \"\"}, \"zerolinecolor\": \"#E1E5ED\"}, \"yaxis\": {\"gridcolor\": \"#E1E5ED\", \"showgrid\": true, \"tickfont\": {\"color\": \"#4D5663\"}, \"title\": {\"font\": {\"color\": \"#4D5663\"}, \"text\": \"\"}, \"zerolinecolor\": \"#E1E5ED\"}},\n",
       "                        {\"showLink\": true, \"linkText\": \"Export to plot.ly\", \"plotlyServerURL\": \"https://plot.ly\", \"responsive\": true}\n",
       "                    ).then(function(){\n",
       "                            \n",
       "var gd = document.getElementById('d00bcd6b-0596-414f-b2f1-54dec4e32905');\n",
       "var x = new MutationObserver(function (mutations, observer) {{\n",
       "        var display = window.getComputedStyle(gd).display;\n",
       "        if (!display || display === 'none') {{\n",
       "            console.log([gd, 'removed!']);\n",
       "            Plotly.purge(gd);\n",
       "            observer.disconnect();\n",
       "        }}\n",
       "}});\n",
       "\n",
       "// Listen for the removal of the full notebook cells\n",
       "var notebookContainer = gd.closest('#notebook-container');\n",
       "if (notebookContainer) {{\n",
       "    x.observe(notebookContainer, {childList: true});\n",
       "}}\n",
       "\n",
       "// Listen for the clearing of the current output cell\n",
       "var outputEl = gd.closest('.output');\n",
       "if (outputEl) {{\n",
       "    x.observe(outputEl, {childList: true});\n",
       "}}\n",
       "\n",
       "                        })\n",
       "                };\n",
       "                });\n",
       "            </script>\n",
       "        </div>"
      ]
     },
     "metadata": {},
     "output_type": "display_data"
    }
   ],
   "source": [
    "pl.iplot(kind='bar')"
   ]
  }
 ],
 "metadata": {
  "kernelspec": {
   "display_name": "Python 3",
   "language": "python",
   "name": "python3"
  },
  "language_info": {
   "codemirror_mode": {
    "name": "ipython",
    "version": 3
   },
   "file_extension": ".py",
   "mimetype": "text/x-python",
   "name": "python",
   "nbconvert_exporter": "python",
   "pygments_lexer": "ipython3",
   "version": "3.7.3"
  }
 },
 "nbformat": 4,
 "nbformat_minor": 2
}
